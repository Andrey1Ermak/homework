{
 "cells": [
  {
   "cell_type": "code",
   "execution_count": 1,
   "id": "2875308f",
   "metadata": {},
   "outputs": [],
   "source": [
    "import numpy as np\n",
    "import pandas as pd\n",
    "from matplotlib import pyplot as plt"
   ]
  },
  {
   "cell_type": "markdown",
   "id": "f21d40f1",
   "metadata": {},
   "source": [
    "# Задача 1"
   ]
  },
  {
   "cell_type": "code",
   "execution_count": 15,
   "id": "5a89d753",
   "metadata": {},
   "outputs": [
    {
     "data": {
      "text/plain": [
       "9459.666666666668"
      ]
     },
     "execution_count": 15,
     "metadata": {},
     "output_type": "execute_result"
    }
   ],
   "source": [
    "salary  = [35, 45, 190, 200, 40, 70, 54, 150, 120, 110]\n",
    "df = pd.DataFrame(salary)\n",
    "df['salary'] = pd.DataFrame(salary)\n",
    "X = df['salary']\n",
    "\n",
    "scoring = [401, 574, 874, 919, 459, 739, 653, 902, 746, 83]\n",
    "df = pd.DataFrame(scoring)\n",
    "df['scoring'] = pd.DataFrame(scoring)\n",
    "Y = df['scoring']\n",
    "\n",
    "MX = X.mean()\n",
    "MY = Y.mean()\n",
    "\n",
    "cov1 = ((X - MX) * (Y - MY)).sum() / (X.shape[0] - 1)\n",
    "cov1"
   ]
  },
  {
   "cell_type": "code",
   "execution_count": 16,
   "id": "aff75028",
   "metadata": {},
   "outputs": [
    {
     "data": {
      "text/plain": [
       "3882.9333333333334"
      ]
     },
     "execution_count": 16,
     "metadata": {},
     "output_type": "execute_result"
    }
   ],
   "source": [
    "X.var()"
   ]
  },
  {
   "cell_type": "code",
   "execution_count": 17,
   "id": "cdd71bb1",
   "metadata": {},
   "outputs": [
    {
     "data": {
      "text/plain": [
       "69631.55555555556"
      ]
     },
     "execution_count": 17,
     "metadata": {},
     "output_type": "execute_result"
    }
   ],
   "source": [
    "Y.var()"
   ]
  },
  {
   "cell_type": "code",
   "execution_count": 18,
   "id": "ab7918f0",
   "metadata": {},
   "outputs": [
    {
     "data": {
      "text/plain": [
       "array([[ 3882.93333333,  9459.66666667],\n",
       "       [ 9459.66666667, 69631.55555556]])"
      ]
     },
     "execution_count": 18,
     "metadata": {},
     "output_type": "execute_result"
    }
   ],
   "source": [
    "cov2 = np.cov(X, Y)\n",
    "cov2"
   ]
  },
  {
   "cell_type": "code",
   "execution_count": 19,
   "id": "02752532",
   "metadata": {},
   "outputs": [
    {
     "data": {
      "text/plain": [
       "0.575297938183201"
      ]
     },
     "execution_count": 19,
     "metadata": {},
     "output_type": "execute_result"
    }
   ],
   "source": [
    "corr = cov1 / (X.std() * Y.std())\n",
    "corr"
   ]
  },
  {
   "cell_type": "code",
   "execution_count": 20,
   "id": "8bcc59ef",
   "metadata": {},
   "outputs": [
    {
     "data": {
      "text/html": [
       "<div>\n",
       "<style scoped>\n",
       "    .dataframe tbody tr th:only-of-type {\n",
       "        vertical-align: middle;\n",
       "    }\n",
       "\n",
       "    .dataframe tbody tr th {\n",
       "        vertical-align: top;\n",
       "    }\n",
       "\n",
       "    .dataframe thead th {\n",
       "        text-align: right;\n",
       "    }\n",
       "</style>\n",
       "<table border=\"1\" class=\"dataframe\">\n",
       "  <thead>\n",
       "    <tr style=\"text-align: right;\">\n",
       "      <th></th>\n",
       "      <th>salary</th>\n",
       "      <th>scoring</th>\n",
       "    </tr>\n",
       "  </thead>\n",
       "  <tbody>\n",
       "    <tr>\n",
       "      <th>salary</th>\n",
       "      <td>1.000000</td>\n",
       "      <td>0.575298</td>\n",
       "    </tr>\n",
       "    <tr>\n",
       "      <th>scoring</th>\n",
       "      <td>0.575298</td>\n",
       "      <td>1.000000</td>\n",
       "    </tr>\n",
       "  </tbody>\n",
       "</table>\n",
       "</div>"
      ],
      "text/plain": [
       "           salary   scoring\n",
       "salary   1.000000  0.575298\n",
       "scoring  0.575298  1.000000"
      ]
     },
     "execution_count": 20,
     "metadata": {},
     "output_type": "execute_result"
    }
   ],
   "source": [
    "df['salary'] = pd.DataFrame(salary)\n",
    "df['scoring'] = pd.DataFrame(scoring)\n",
    "\n",
    "df[['salary', 'scoring']].corr()"
   ]
  },
  {
   "cell_type": "code",
   "execution_count": 21,
   "id": "b1d9c95d",
   "metadata": {},
   "outputs": [
    {
     "data": {
      "text/plain": [
       "array([[1.        , 0.57529794],\n",
       "       [0.57529794, 1.        ]])"
      ]
     },
     "execution_count": 21,
     "metadata": {},
     "output_type": "execute_result"
    }
   ],
   "source": [
    "np.corrcoef(X, Y)"
   ]
  },
  {
   "cell_type": "markdown",
   "id": "7592027b",
   "metadata": {},
   "source": [
    "# Задача 2"
   ]
  },
  {
   "cell_type": "code",
   "execution_count": 22,
   "id": "216b9e82",
   "metadata": {},
   "outputs": [],
   "source": [
    "samples = np.array([131, 125, 115, 122, 131, 115, 107, 99, 125, 111])"
   ]
  },
  {
   "cell_type": "code",
   "execution_count": 23,
   "id": "4d9515e6",
   "metadata": {},
   "outputs": [
    {
     "name": "stdout",
     "output_type": "stream",
     "text": [
      "n = 10,среднее = 118.1, оценка среднего квадратического отклонения  = 10.54566788359614\n"
     ]
    }
   ],
   "source": [
    "n = samples.shape[0]\n",
    "m = samples.mean()\n",
    "s = samples.std(ddof=1)\n",
    "print(f'n = {n},среднее = {m}, оценка среднего квадратического отклонения  = {s}')"
   ]
  },
  {
   "cell_type": "code",
   "execution_count": 24,
   "id": "8139692b",
   "metadata": {},
   "outputs": [],
   "source": [
    "t = 2.31"
   ]
  },
  {
   "cell_type": "code",
   "execution_count": 25,
   "id": "6980614c",
   "metadata": {},
   "outputs": [
    {
     "data": {
      "text/plain": [
       "(110.39653577927436, 125.80346422072563)"
      ]
     },
     "execution_count": 25,
     "metadata": {},
     "output_type": "execute_result"
    }
   ],
   "source": [
    "(m - t * s / np.sqrt(n), m + t * s / np.sqrt(n))"
   ]
  },
  {
   "cell_type": "markdown",
   "id": "fd631660",
   "metadata": {},
   "source": [
    "# Задача 3"
   ]
  },
  {
   "cell_type": "code",
   "execution_count": 26,
   "id": "22452893",
   "metadata": {},
   "outputs": [],
   "source": [
    "t = 2.0555"
   ]
  },
  {
   "cell_type": "code",
   "execution_count": 27,
   "id": "8d3602d4",
   "metadata": {},
   "outputs": [
    {
     "name": "stdout",
     "output_type": "stream",
     "text": [
      "172.2220942028012 176.17790579719878\n"
     ]
    }
   ],
   "source": [
    "n = 27\n",
    "m = 174.2\n",
    "s = 5\n",
    "print(m - t * s / np.sqrt(n), m + t * s / np.sqrt(n))"
   ]
  },
  {
   "cell_type": "code",
   "execution_count": null,
   "id": "676977ca",
   "metadata": {},
   "outputs": [],
   "source": []
  },
  {
   "cell_type": "code",
   "execution_count": null,
   "id": "df38759b",
   "metadata": {},
   "outputs": [],
   "source": []
  }
 ],
 "metadata": {
  "kernelspec": {
   "display_name": "Python 3 (ipykernel)",
   "language": "python",
   "name": "python3"
  },
  "language_info": {
   "codemirror_mode": {
    "name": "ipython",
    "version": 3
   },
   "file_extension": ".py",
   "mimetype": "text/x-python",
   "name": "python",
   "nbconvert_exporter": "python",
   "pygments_lexer": "ipython3",
   "version": "3.9.13"
  }
 },
 "nbformat": 4,
 "nbformat_minor": 5
}
