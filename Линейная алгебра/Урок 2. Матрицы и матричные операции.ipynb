{
 "cells": [
  {
   "cell_type": "code",
   "execution_count": 1,
   "id": "93804593",
   "metadata": {},
   "outputs": [],
   "source": [
    "import numpy as np"
   ]
  },
  {
   "cell_type": "code",
   "execution_count": 2,
   "id": "22bb0269",
   "metadata": {},
   "outputs": [
    {
     "data": {
      "text/plain": [
       "array([[ 5, -3],\n",
       "       [ 3,  5]])"
      ]
     },
     "execution_count": 2,
     "metadata": {},
     "output_type": "execute_result"
    }
   ],
   "source": [
    "a = np.array([[1, -2], [3, 0]])\n",
    "b = np.array([[4, -1], [0, 5]])\n",
    "a + b"
   ]
  },
  {
   "cell_type": "code",
   "execution_count": 3,
   "id": "b81ac25f",
   "metadata": {},
   "outputs": [
    {
     "data": {
      "text/plain": [
       "array([[  4, -11],\n",
       "       [ 12,  -3]])"
      ]
     },
     "execution_count": 3,
     "metadata": {},
     "output_type": "execute_result"
    }
   ],
   "source": [
    "np.dot(a, b)"
   ]
  },
  {
   "cell_type": "code",
   "execution_count": 4,
   "id": "701afd9d",
   "metadata": {},
   "outputs": [
    {
     "data": {
      "text/plain": [
       "array([[ 1, -8],\n",
       "       [15,  0]])"
      ]
     },
     "execution_count": 4,
     "metadata": {},
     "output_type": "execute_result"
    }
   ],
   "source": [
    "np.dot(b, a)"
   ]
  },
  {
   "cell_type": "code",
   "execution_count": 6,
   "id": "bf0a9548",
   "metadata": {},
   "outputs": [
    {
     "data": {
      "text/plain": [
       "array([[ 11,  -5],\n",
       "       [  9, -12]])"
      ]
     },
     "execution_count": 6,
     "metadata": {},
     "output_type": "execute_result"
    }
   ],
   "source": [
    "a = np.array([[1, 7], [3, -6]])\n",
    "b = np.array([[0, 5], [2, -1]])\n",
    "c = np.array([[2, -4], [1, 1]])\n",
    "3 * a + (-2) * b + 4 * c"
   ]
  },
  {
   "cell_type": "code",
   "execution_count": 7,
   "id": "2871c473",
   "metadata": {},
   "outputs": [
    {
     "data": {
      "text/plain": [
       "array([[ 4,  5,  2],\n",
       "       [ 1, -2,  3]])"
      ]
     },
     "execution_count": 7,
     "metadata": {},
     "output_type": "execute_result"
    }
   ],
   "source": [
    "A = np.array([[4, 1], [5, -2], [2, 3]])\n",
    "A.T"
   ]
  },
  {
   "cell_type": "code",
   "execution_count": 8,
   "id": "3c6502cd",
   "metadata": {},
   "outputs": [
    {
     "data": {
      "text/plain": [
       "array([[17, 18, 11],\n",
       "       [18, 29,  4],\n",
       "       [11,  4, 13]])"
      ]
     },
     "execution_count": 8,
     "metadata": {},
     "output_type": "execute_result"
    }
   ],
   "source": [
    "np.dot(A, A.T)"
   ]
  },
  {
   "cell_type": "code",
   "execution_count": 9,
   "id": "e6bd60da",
   "metadata": {},
   "outputs": [
    {
     "data": {
      "text/plain": [
       "array([[45,  0],\n",
       "       [ 0, 14]])"
      ]
     },
     "execution_count": 9,
     "metadata": {},
     "output_type": "execute_result"
    }
   ],
   "source": [
    "np.dot(A.T, A)"
   ]
  },
  {
   "cell_type": "code",
   "execution_count": 11,
   "id": "e78ed2da",
   "metadata": {},
   "outputs": [],
   "source": [
    "class Matrix:\n",
    "    def __init__(self, matrix):\n",
    "        self.matrix= matrix\n",
    "    \n",
    "    def __str__(self):\n",
    "        return ','.join(map(str, self.matrix)).replace(']', '\\n').replace('[', '').replace(',', '')\n",
    "    \n",
    "    def __add__(self, other):\n",
    "        if len(self.matrix) == len(other.matrix):\n",
    "            for row1, row2 in zip(self.matrix, other.matrix):\n",
    "                if len(row1) != len(row2):\n",
    "                    return f'Количество столбцов не равно, эти матрицы нельзя сложить'\n",
    "            result = [[a + b for a, b in zip(row1, row2)] for row1, row2 in zip(self.matrix, other.matrix)]\n",
    "            return ','.join(map(str, result)).replace(']', '\\n').replace('[', '').replace(',', '')\n",
    "        else:\n",
    "            return f'Количество строк не равно, эти матрицы нельзя сложить'\n",
    "\n",
    "    def __mul__(self, other):\n",
    "        result = []\n",
    "        try:\n",
    "            for row in self.matrix:\n",
    "                row_result = []\n",
    "                for i in range(len(other.matrix[0])):\n",
    "                    num = 0\n",
    "                    for idx, el in enumerate(row):\n",
    "                        num += (el * other.matrix[idx][i])\n",
    "                    row_result.append(num)\n",
    "                result.append(row_result)\n",
    "            return ','.join(map(str, result)).replace(']', '\\n').replace('[', '').replace(',', '')\n",
    "        except:\n",
    "            return f'Умножение матриц данной размерности невозможно'"
   ]
  },
  {
   "cell_type": "code",
   "execution_count": 12,
   "id": "f139f1e6",
   "metadata": {},
   "outputs": [
    {
     "name": "stdout",
     "output_type": "stream",
     "text": [
      "1 2 3\n",
      "4 5 6\n",
      "7 8 9\n",
      "\n",
      "10 20 30\n",
      "40 50 60\n",
      "70 80 90\n",
      "\n",
      "11 22 33\n",
      "44 55 66\n",
      "77 88 99\n",
      "\n"
     ]
    }
   ],
   "source": [
    "m_1 = Matrix([[1, 2, 3], [4, 5, 6], [7, 8, 9]])\n",
    "m_2 = Matrix([[10, 20, 30], [40, 50, 60], [70, 80, 90]])\n",
    "print(m_1)\n",
    "print(m_2)\n",
    "print(m_1 + m_2)"
   ]
  },
  {
   "cell_type": "code",
   "execution_count": 13,
   "id": "a124e5f3",
   "metadata": {},
   "outputs": [
    {
     "name": "stdout",
     "output_type": "stream",
     "text": [
      "300 360 420\n",
      "660 810 960\n",
      "1020 1260 1500\n",
      "\n",
      "17 18 11\n",
      "18 29 4\n",
      "11 4 13\n",
      "\n",
      "45 0\n",
      "0 14\n",
      "\n"
     ]
    }
   ],
   "source": [
    "m_3 = Matrix([[4, 1], [5, -2], [2, 3]])\n",
    "m_4 = Matrix([[ 4, 5, 2], [ 1, -2, 3]])\n",
    "print(m_1 * m_2)\n",
    "print(m_3 * m_4)\n",
    "print(m_4 * m_3)"
   ]
  },
  {
   "cell_type": "code",
   "execution_count": 14,
   "id": "1056e11d",
   "metadata": {},
   "outputs": [
    {
     "data": {
      "text/plain": [
       "180.0"
      ]
     },
     "execution_count": 14,
     "metadata": {},
     "output_type": "execute_result"
    }
   ],
   "source": [
    "b = np.array([[4, 2, 3], [0, 5, 1], [0, 0, 9]])\n",
    "np.linalg.det(b)"
   ]
  },
  {
   "cell_type": "code",
   "execution_count": 15,
   "id": "6cd08b62",
   "metadata": {},
   "outputs": [
    {
     "data": {
      "text/plain": [
       "0.0"
      ]
     },
     "execution_count": 15,
     "metadata": {},
     "output_type": "execute_result"
    }
   ],
   "source": [
    "c = np.array([[1, 2, 3], [4, 5, 6], [7, 8, 9]])\n",
    "round(np.linalg.det(c), 2)"
   ]
  },
  {
   "cell_type": "code",
   "execution_count": 16,
   "id": "f9a6adf8",
   "metadata": {},
   "outputs": [
    {
     "data": {
      "text/plain": [
       "0.0"
      ]
     },
     "execution_count": 16,
     "metadata": {},
     "output_type": "execute_result"
    }
   ],
   "source": [
    "c = np.array([[-2, 7, -3], [4, -14, 6],[-3, 7, 13]])\n",
    "np.linalg.det(c)"
   ]
  },
  {
   "cell_type": "code",
   "execution_count": 17,
   "id": "98605664",
   "metadata": {},
   "outputs": [
    {
     "data": {
      "text/plain": [
       "2"
      ]
     },
     "execution_count": 17,
     "metadata": {},
     "output_type": "execute_result"
    }
   ],
   "source": [
    "a = np.array([[1, 2, 3], [1, 1, 1],[2, 3, 4]])\n",
    "np.linalg.matrix_rank(a)"
   ]
  },
  {
   "cell_type": "code",
   "execution_count": 18,
   "id": "66ada2fd",
   "metadata": {},
   "outputs": [
    {
     "data": {
      "text/plain": [
       "3"
      ]
     },
     "execution_count": 18,
     "metadata": {},
     "output_type": "execute_result"
    }
   ],
   "source": [
    "a = np.array([[0, 0, 2, 1], [0, 0, 2, 2], [0, 0, 4, 3], [2, 3, 5, 6]])\n",
    "np.linalg.matrix_rank(a)"
   ]
  },
  {
   "cell_type": "code",
   "execution_count": null,
   "id": "91200300",
   "metadata": {},
   "outputs": [],
   "source": []
  }
 ],
 "metadata": {
  "kernelspec": {
   "display_name": "Python 3 (ipykernel)",
   "language": "python",
   "name": "python3"
  },
  "language_info": {
   "codemirror_mode": {
    "name": "ipython",
    "version": 3
   },
   "file_extension": ".py",
   "mimetype": "text/x-python",
   "name": "python",
   "nbconvert_exporter": "python",
   "pygments_lexer": "ipython3",
   "version": "3.9.13"
  }
 },
 "nbformat": 4,
 "nbformat_minor": 5
}
