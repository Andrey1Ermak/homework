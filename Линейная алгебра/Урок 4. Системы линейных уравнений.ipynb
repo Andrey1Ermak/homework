{
 "cells": [
  {
   "cell_type": "code",
   "execution_count": 1,
   "id": "52452c83",
   "metadata": {},
   "outputs": [],
   "source": [
    "import numpy as np"
   ]
  },
  {
   "cell_type": "code",
   "execution_count": 2,
   "id": "7768acff",
   "metadata": {},
   "outputs": [
    {
     "name": "stdout",
     "output_type": "stream",
     "text": [
      "rank A = 3\n",
      "rank A_extended = 3\n"
     ]
    }
   ],
   "source": [
    "import numpy as np\n",
    "A = np.array([[3, -1, 1], [2, -5, -3], [1, 1, -1]])\n",
    "b = np.array([4, -17, 0])[:, np.newaxis]\n",
    "A_extended = np.hstack((A, b))\n",
    "print(f'rank A = {np.linalg.matrix_rank(A)}')\n",
    "print(f'rank A_extended = {np.linalg.matrix_rank(A_extended)}')"
   ]
  },
  {
   "cell_type": "code",
   "execution_count": 3,
   "id": "fe31ed61",
   "metadata": {},
   "outputs": [
    {
     "name": "stdout",
     "output_type": "stream",
     "text": [
      "rank A = 1\n",
      "rank A_extended = 2\n"
     ]
    }
   ],
   "source": [
    "A = np.array([[2, -4, 6], [1, -2, 3], [3, -6, 9]])\n",
    "b = np.array([1, -2, 5])[:, np.newaxis]\n",
    "A_extended = np.hstack((A, b))\n",
    "print(f'rank A = {np.linalg.matrix_rank(A)}')\n",
    "print(f'rank A_extended = {np.linalg.matrix_rank(A_extended)}')"
   ]
  },
  {
   "cell_type": "code",
   "execution_count": 4,
   "id": "6486ef2d",
   "metadata": {},
   "outputs": [
    {
     "name": "stdout",
     "output_type": "stream",
     "text": [
      "rank A = 2\n",
      "rank A_extended = 2\n"
     ]
    }
   ],
   "source": [
    "A = np.array([[1, 2, 5], [3, 1, -8]])\n",
    "b = np.array([4, -2])[:, np.newaxis]\n",
    "A_extended = np.hstack((A, b))\n",
    "print(f'rank A = {np.linalg.matrix_rank(A)}')\n",
    "print(f'rank A_extended = {np.linalg.matrix_rank(A_extended)}')"
   ]
  },
  {
   "cell_type": "code",
   "execution_count": 5,
   "id": "2764f7f5",
   "metadata": {},
   "outputs": [
    {
     "name": "stdout",
     "output_type": "stream",
     "text": [
      "Система совместна: True\n",
      "Имеет единственное решение: True\n"
     ]
    }
   ],
   "source": [
    "A = np.array([[1, 3, -2, 4], [0, 5, 0, 1], [0, 0, 3, 0], [0, 0, 0,\n",
    "2]])\n",
    "b = np.array([[3], [2], [4], [1]])\n",
    "A_ext = np.hstack((A, b))\n",
    "print(f'Система совместна: {np.linalg.matrix_rank(A) == np.linalg.matrix_rank(A_ext)}')\n",
    "print(f'Имеет единственное решение: {np.linalg.matrix_rank(A) == np.linalg.matrix_rank(A_ext) == 4}')"
   ]
  },
  {
   "cell_type": "code",
   "execution_count": 6,
   "id": "255cb320",
   "metadata": {},
   "outputs": [
    {
     "data": {
      "text/plain": [
       "array([[1, 2, 3],\n",
       "       [4, 5, 6],\n",
       "       [0, 0, 0]])"
      ]
     },
     "execution_count": 6,
     "metadata": {},
     "output_type": "execute_result"
    }
   ],
   "source": [
    "A = np.array([[1, 2, 3], [4, 5, 6], [7, 8, 9]])\n",
    "A[2] = A[2] - 2*A[1] + A[0]\n",
    "A"
   ]
  },
  {
   "cell_type": "code",
   "execution_count": 7,
   "id": "e858204a",
   "metadata": {},
   "outputs": [],
   "source": [
    "def kramer(A, b):\n",
    "    assert A.shape[0] == A.shape[1], 'Wrong matrix size!'\n",
    "    det_A = np.linalg.det(A)\n",
    "    result = []\n",
    "    if np.abs(det_A) > 0.000001: #может быть ошибка округления\n",
    "        for i in range(A.shape[0]):\n",
    "            A_i = np.hstack((A[:, :i], b, A[:, i+1:]))\n",
    "            result.append(np.linalg.det(A_i) / det_A)\n",
    "        return np.round(result, 2)\n",
    "    else:\n",
    "        return 'det A is 0'"
   ]
  },
  {
   "cell_type": "code",
   "execution_count": 8,
   "id": "e6c1569a",
   "metadata": {},
   "outputs": [
    {
     "name": "stdout",
     "output_type": "stream",
     "text": [
      "a) [5. 2.]\n",
      "б) [ 2. -1.  1.]\n"
     ]
    }
   ],
   "source": [
    "A = np.array([[1, -2], [3, -4]])\n",
    "b = np.array([[1, 7]]).T\n",
    "print(f'a) {kramer(A, b)}')\n",
    "\n",
    "A = np.array([[2, -1, 5], [1, 1, -3], [2, 4, 1]])\n",
    "b = np.array([[10, -2, 1]]).T\n",
    "print(f'б) {kramer(A, b)}')"
   ]
  },
  {
   "cell_type": "code",
   "execution_count": 9,
   "id": "bbe22265",
   "metadata": {},
   "outputs": [],
   "source": [
    "def LU(A):\n",
    "    assert A.shape[0] == A.shape[1] and A[0][0] !=0 and np.abs(np.linalg.det(A)) > 0.00001, 'Невозможно разложить матрицу'\n",
    "    L = np.zeros_like(A)\n",
    "    U = np.zeros_like(A)\n",
    "    # первая строка U и первый столбец L\n",
    "    U[0] = A[0]\n",
    "    L[:, 0] = A[:, 0] / U[0, 0]\n",
    "    for i in range(A.shape[1]):\n",
    "        for j in range(i, A.shape[1]):\n",
    "            U[0, i] = A[0, i]\n",
    "            L[i, 0] = A[i, 0] / U[0, 0]\n",
    "            u_sum, l_sum = 0, 0\n",
    "            for k in range(i):\n",
    "                u_sum += L[i, k] * U[k, j]\n",
    "                l_sum += L[j, k] * U[k, i]\n",
    "            U[i, j] = A[i, j] - u_sum\n",
    "            L[j, i] = (A[j, i] - l_sum) / U[i, i]\n",
    "    return U, L"
   ]
  },
  {
   "cell_type": "code",
   "execution_count": 10,
   "id": "b1b85470",
   "metadata": {},
   "outputs": [
    {
     "name": "stdout",
     "output_type": "stream",
     "text": [
      "a) \n",
      "Матрица U:\n",
      "[[1 2 4]\n",
      " [0 5 4]\n",
      " [0 0 2]]\n",
      "Матрица L:\n",
      "[[1 0 0]\n",
      " [2 1 0]\n",
      " [3 4 1]]\n",
      "Матрица LU == A:\n",
      "[[ 1  2  4]\n",
      " [ 2  9 12]\n",
      " [ 3 26 30]]\n",
      "[[ 1  2  4]\n",
      " [ 2  9 12]\n",
      " [ 3 26 30]]\n",
      "б) \n",
      "Матрица U:\n",
      "[[1 1 2 4]\n",
      " [0 3 4 1]\n",
      " [0 0 3 1]\n",
      " [0 0 0 4]]\n",
      "Матрица L:\n",
      "[[1 0 0 0]\n",
      " [2 1 0 0]\n",
      " [3 5 1 0]\n",
      " [4 6 7 1]]\n",
      "Матрица LU == A:\n",
      "[[ 1  1  2  4]\n",
      " [ 2  5  8  9]\n",
      " [ 3 18 29 18]\n",
      " [ 4 22 53 33]]\n",
      "[[ 1  1  2  4]\n",
      " [ 2  5  8  9]\n",
      " [ 3 18 29 18]\n",
      " [ 4 22 53 33]]\n"
     ]
    }
   ],
   "source": [
    "# a)\n",
    "A = np.array([[1, 2, 4], [2, 9, 12], [3, 26, 30]])\n",
    "U, L = LU(A)\n",
    "print(\"a) \")\n",
    "print(\"Матрица U:\")\n",
    "print(U)\n",
    "print(\"Матрица L:\")\n",
    "print(L)\n",
    "print(\"Матрица LU == A:\")\n",
    "print(L.dot(U))\n",
    "print(A)\n",
    "# б)\n",
    "A = np.array([[1, 1, 2, 4], [2, 5, 8, 9], [3, 18, 29, 18], [4, 22, 53,\n",
    "33]])\n",
    "U, L = LU(A)\n",
    "print(\"б) \")\n",
    "print(\"Матрица U:\")\n",
    "print(U)\n",
    "print(\"Матрица L:\")\n",
    "print(L)\n",
    "print(\"Матрица LU == A:\")\n",
    "print(L.dot(U))\n",
    "print(A)"
   ]
  },
  {
   "cell_type": "code",
   "execution_count": 11,
   "id": "fb329f26",
   "metadata": {},
   "outputs": [],
   "source": [
    "def LU_slau(A, b):\n",
    "    U, L = LU(A)\n",
    "    y = np.zeros(A.shape[0])\n",
    "    x = np.zeros(A.shape[0])\n",
    "    for i in range(A.shape[0]):\n",
    "        y[i] = b[i] - (L[i, :i] * y[:i]).sum()\n",
    "    for i in range(A.shape[0]-1, -1, -1):\n",
    "        x[i] = (y[i] - (U[i, i+1:]*x[i+1:]).sum())/U[i, i]\n",
    "    return x"
   ]
  },
  {
   "cell_type": "code",
   "execution_count": 12,
   "id": "4a23cc25",
   "metadata": {},
   "outputs": [
    {
     "name": "stdout",
     "output_type": "stream",
     "text": [
      "x = [-4.41666667  4.08333333  1.91666667]\n",
      "Проверка\n",
      "True\n",
      "True\n",
      "True\n"
     ]
    }
   ],
   "source": [
    "A = np.array([[2, 1, 3], [11, 7, 5], [9, 8, 4]])\n",
    "b = np.array([1, -6, 5])\n",
    "x = LU_slau(A, b)\n",
    "print(f'x = {x}')\n",
    "print('Проверка')\n",
    "for i in range(len(A)):\n",
    "    print((x * A[0]).sum() == b[0])"
   ]
  },
  {
   "cell_type": "code",
   "execution_count": null,
   "id": "fe60eda3",
   "metadata": {},
   "outputs": [],
   "source": []
  }
 ],
 "metadata": {
  "kernelspec": {
   "display_name": "Python 3 (ipykernel)",
   "language": "python",
   "name": "python3"
  },
  "language_info": {
   "codemirror_mode": {
    "name": "ipython",
    "version": 3
   },
   "file_extension": ".py",
   "mimetype": "text/x-python",
   "name": "python",
   "nbconvert_exporter": "python",
   "pygments_lexer": "ipython3",
   "version": "3.9.13"
  }
 },
 "nbformat": 4,
 "nbformat_minor": 5
}
