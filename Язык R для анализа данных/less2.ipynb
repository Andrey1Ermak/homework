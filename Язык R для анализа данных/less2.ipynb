{
  "nbformat": 4,
  "nbformat_minor": 0,
  "metadata": {
    "colab": {
      "provenance": [
        {
          "file_id": "1m9IuVjuYs4zyhre8XX23rX0bvaFXvbpy",
          "timestamp": 1682788209095
        }
      ],
      "authorship_tag": "ABX9TyMLZmiAt0E93sXUlpMbtUdl"
    },
    "kernelspec": {
      "name": "ir",
      "display_name": "R"
    },
    "language_info": {
      "name": "R"
    }
  },
  "cells": [
    {
      "cell_type": "markdown",
      "source": [
        "# Урок 2. Обработка данных для анализа"
      ],
      "metadata": {
        "id": "e-OvOQs85EtJ"
      }
    },
    {
      "cell_type": "markdown",
      "source": [
        "Одним из важнейших этапов при работе\n",
        "с данными является их подготовка для дальнейшего\n",
        "статистического анализа"
      ],
      "metadata": {
        "id": "VhZfB0aG8gJl"
      }
    },
    {
      "cell_type": "markdown",
      "source": [
        "## Условие if-else"
      ],
      "metadata": {
        "id": "Cr5wPip1I8Oc"
      }
    },
    {
      "cell_type": "code",
      "source": [
        "library(cluster)"
      ],
      "metadata": {
        "id": "uLVRTjuPBNXD"
      },
      "execution_count": null,
      "outputs": []
    },
    {
      "cell_type": "code",
      "source": [
        "head(votes.repub)"
      ],
      "metadata": {
        "colab": {
          "base_uri": "https://localhost:8080/",
          "height": 286
        },
        "id": "3Qm9inYnBZJ7",
        "executionInfo": {
          "status": "ok",
          "timestamp": 1684700031456,
          "user_tz": -180,
          "elapsed": 3,
          "user": {
            "displayName": "Daniel D",
            "userId": "11270935181438165191"
          }
        },
        "outputId": "a0a1605e-19a0-4363-cfab-a6f6134e4558"
      },
      "execution_count": null,
      "outputs": [
        {
          "output_type": "display_data",
          "data": {
            "text/html": [
              "<table class=\"dataframe\">\n",
              "<caption>A data.frame: 6 × 31</caption>\n",
              "<thead>\n",
              "\t<tr><th></th><th scope=col>X1856</th><th scope=col>X1860</th><th scope=col>X1864</th><th scope=col>X1868</th><th scope=col>X1872</th><th scope=col>X1876</th><th scope=col>X1880</th><th scope=col>X1884</th><th scope=col>X1888</th><th scope=col>X1892</th><th scope=col>⋯</th><th scope=col>X1940</th><th scope=col>X1944</th><th scope=col>X1948</th><th scope=col>X1952</th><th scope=col>X1956</th><th scope=col>X1960</th><th scope=col>X1964</th><th scope=col>X1968</th><th scope=col>X1972</th><th scope=col>X1976</th></tr>\n",
              "\t<tr><th></th><th scope=col>&lt;dbl&gt;</th><th scope=col>&lt;dbl&gt;</th><th scope=col>&lt;dbl&gt;</th><th scope=col>&lt;dbl&gt;</th><th scope=col>&lt;dbl&gt;</th><th scope=col>&lt;dbl&gt;</th><th scope=col>&lt;dbl&gt;</th><th scope=col>&lt;dbl&gt;</th><th scope=col>&lt;dbl&gt;</th><th scope=col>&lt;dbl&gt;</th><th scope=col>⋯</th><th scope=col>&lt;dbl&gt;</th><th scope=col>&lt;dbl&gt;</th><th scope=col>&lt;dbl&gt;</th><th scope=col>&lt;dbl&gt;</th><th scope=col>&lt;dbl&gt;</th><th scope=col>&lt;dbl&gt;</th><th scope=col>&lt;dbl&gt;</th><th scope=col>&lt;dbl&gt;</th><th scope=col>&lt;dbl&gt;</th><th scope=col>&lt;dbl&gt;</th></tr>\n",
              "</thead>\n",
              "<tbody>\n",
              "\t<tr><th scope=row>Alabama</th><td>   NA</td><td>   NA</td><td>   NA</td><td>51.44</td><td>53.19</td><td>40.02</td><td>36.98</td><td>38.44</td><td>32.28</td><td> 3.95</td><td>⋯</td><td>14.34</td><td>18.20</td><td>19.04</td><td>35.02</td><td>39.39</td><td>41.75</td><td>69.5</td><td>14.0</td><td>72.4</td><td>43.48</td></tr>\n",
              "\t<tr><th scope=row>Alaska</th><td>   NA</td><td>   NA</td><td>   NA</td><td>   NA</td><td>   NA</td><td>   NA</td><td>   NA</td><td>   NA</td><td>   NA</td><td>   NA</td><td>⋯</td><td>   NA</td><td>   NA</td><td>   NA</td><td>   NA</td><td>   NA</td><td>50.94</td><td>34.1</td><td>45.3</td><td>58.1</td><td>62.91</td></tr>\n",
              "\t<tr><th scope=row>Arizona</th><td>   NA</td><td>   NA</td><td>   NA</td><td>   NA</td><td>   NA</td><td>   NA</td><td>   NA</td><td>   NA</td><td>   NA</td><td>   NA</td><td>⋯</td><td>36.01</td><td>40.90</td><td>43.82</td><td>58.35</td><td>60.99</td><td>55.52</td><td>50.4</td><td>54.8</td><td>64.7</td><td>58.62</td></tr>\n",
              "\t<tr><th scope=row>Arkansas</th><td>   NA</td><td>   NA</td><td>   NA</td><td>53.73</td><td>52.17</td><td>39.88</td><td>39.55</td><td>40.50</td><td>38.07</td><td>32.01</td><td>⋯</td><td>20.87</td><td>29.84</td><td>21.02</td><td>43.76</td><td>45.82</td><td>43.06</td><td>43.9</td><td>30.8</td><td>68.9</td><td>34.97</td></tr>\n",
              "\t<tr><th scope=row>California</th><td>18.77</td><td>32.96</td><td>58.63</td><td>50.24</td><td>56.38</td><td>50.88</td><td>48.92</td><td>52.08</td><td>49.95</td><td>43.76</td><td>⋯</td><td>41.35</td><td>42.99</td><td>47.14</td><td>56.39</td><td>55.40</td><td>50.10</td><td>40.9</td><td>47.8</td><td>55.0</td><td>50.89</td></tr>\n",
              "\t<tr><th scope=row>Colorado</th><td>   NA</td><td>   NA</td><td>   NA</td><td>   NA</td><td>   NA</td><td>   NA</td><td>51.28</td><td>54.39</td><td>55.31</td><td>41.13</td><td>⋯</td><td>50.92</td><td>53.21</td><td>46.52</td><td>60.27</td><td>59.49</td><td>54.63</td><td>38.7</td><td>50.5</td><td>62.6</td><td>55.89</td></tr>\n",
              "</tbody>\n",
              "</table>\n"
            ],
            "text/markdown": "\nA data.frame: 6 × 31\n\n| <!--/--> | X1856 &lt;dbl&gt; | X1860 &lt;dbl&gt; | X1864 &lt;dbl&gt; | X1868 &lt;dbl&gt; | X1872 &lt;dbl&gt; | X1876 &lt;dbl&gt; | X1880 &lt;dbl&gt; | X1884 &lt;dbl&gt; | X1888 &lt;dbl&gt; | X1892 &lt;dbl&gt; | ⋯ ⋯ | X1940 &lt;dbl&gt; | X1944 &lt;dbl&gt; | X1948 &lt;dbl&gt; | X1952 &lt;dbl&gt; | X1956 &lt;dbl&gt; | X1960 &lt;dbl&gt; | X1964 &lt;dbl&gt; | X1968 &lt;dbl&gt; | X1972 &lt;dbl&gt; | X1976 &lt;dbl&gt; |\n|---|---|---|---|---|---|---|---|---|---|---|---|---|---|---|---|---|---|---|---|---|---|\n| Alabama |    NA |    NA |    NA | 51.44 | 53.19 | 40.02 | 36.98 | 38.44 | 32.28 |  3.95 | ⋯ | 14.34 | 18.20 | 19.04 | 35.02 | 39.39 | 41.75 | 69.5 | 14.0 | 72.4 | 43.48 |\n| Alaska |    NA |    NA |    NA |    NA |    NA |    NA |    NA |    NA |    NA |    NA | ⋯ |    NA |    NA |    NA |    NA |    NA | 50.94 | 34.1 | 45.3 | 58.1 | 62.91 |\n| Arizona |    NA |    NA |    NA |    NA |    NA |    NA |    NA |    NA |    NA |    NA | ⋯ | 36.01 | 40.90 | 43.82 | 58.35 | 60.99 | 55.52 | 50.4 | 54.8 | 64.7 | 58.62 |\n| Arkansas |    NA |    NA |    NA | 53.73 | 52.17 | 39.88 | 39.55 | 40.50 | 38.07 | 32.01 | ⋯ | 20.87 | 29.84 | 21.02 | 43.76 | 45.82 | 43.06 | 43.9 | 30.8 | 68.9 | 34.97 |\n| California | 18.77 | 32.96 | 58.63 | 50.24 | 56.38 | 50.88 | 48.92 | 52.08 | 49.95 | 43.76 | ⋯ | 41.35 | 42.99 | 47.14 | 56.39 | 55.40 | 50.10 | 40.9 | 47.8 | 55.0 | 50.89 |\n| Colorado |    NA |    NA |    NA |    NA |    NA |    NA | 51.28 | 54.39 | 55.31 | 41.13 | ⋯ | 50.92 | 53.21 | 46.52 | 60.27 | 59.49 | 54.63 | 38.7 | 50.5 | 62.6 | 55.89 |\n\n",
            "text/latex": "A data.frame: 6 × 31\n\\begin{tabular}{r|lllllllllllllllllllll}\n  & X1856 & X1860 & X1864 & X1868 & X1872 & X1876 & X1880 & X1884 & X1888 & X1892 & ⋯ & X1940 & X1944 & X1948 & X1952 & X1956 & X1960 & X1964 & X1968 & X1972 & X1976\\\\\n  & <dbl> & <dbl> & <dbl> & <dbl> & <dbl> & <dbl> & <dbl> & <dbl> & <dbl> & <dbl> & ⋯ & <dbl> & <dbl> & <dbl> & <dbl> & <dbl> & <dbl> & <dbl> & <dbl> & <dbl> & <dbl>\\\\\n\\hline\n\tAlabama &    NA &    NA &    NA & 51.44 & 53.19 & 40.02 & 36.98 & 38.44 & 32.28 &  3.95 & ⋯ & 14.34 & 18.20 & 19.04 & 35.02 & 39.39 & 41.75 & 69.5 & 14.0 & 72.4 & 43.48\\\\\n\tAlaska &    NA &    NA &    NA &    NA &    NA &    NA &    NA &    NA &    NA &    NA & ⋯ &    NA &    NA &    NA &    NA &    NA & 50.94 & 34.1 & 45.3 & 58.1 & 62.91\\\\\n\tArizona &    NA &    NA &    NA &    NA &    NA &    NA &    NA &    NA &    NA &    NA & ⋯ & 36.01 & 40.90 & 43.82 & 58.35 & 60.99 & 55.52 & 50.4 & 54.8 & 64.7 & 58.62\\\\\n\tArkansas &    NA &    NA &    NA & 53.73 & 52.17 & 39.88 & 39.55 & 40.50 & 38.07 & 32.01 & ⋯ & 20.87 & 29.84 & 21.02 & 43.76 & 45.82 & 43.06 & 43.9 & 30.8 & 68.9 & 34.97\\\\\n\tCalifornia & 18.77 & 32.96 & 58.63 & 50.24 & 56.38 & 50.88 & 48.92 & 52.08 & 49.95 & 43.76 & ⋯ & 41.35 & 42.99 & 47.14 & 56.39 & 55.40 & 50.10 & 40.9 & 47.8 & 55.0 & 50.89\\\\\n\tColorado &    NA &    NA &    NA &    NA &    NA &    NA & 51.28 & 54.39 & 55.31 & 41.13 & ⋯ & 50.92 & 53.21 & 46.52 & 60.27 & 59.49 & 54.63 & 38.7 & 50.5 & 62.6 & 55.89\\\\\n\\end{tabular}\n",
            "text/plain": [
              "           X1856 X1860 X1864 X1868 X1872 X1876 X1880 X1884 X1888 X1892 ⋯ X1940\n",
              "Alabama       NA    NA    NA 51.44 53.19 40.02 36.98 38.44 32.28  3.95 ⋯ 14.34\n",
              "Alaska        NA    NA    NA    NA    NA    NA    NA    NA    NA    NA ⋯    NA\n",
              "Arizona       NA    NA    NA    NA    NA    NA    NA    NA    NA    NA ⋯ 36.01\n",
              "Arkansas      NA    NA    NA 53.73 52.17 39.88 39.55 40.50 38.07 32.01 ⋯ 20.87\n",
              "California 18.77 32.96 58.63 50.24 56.38 50.88 48.92 52.08 49.95 43.76 ⋯ 41.35\n",
              "Colorado      NA    NA    NA    NA    NA    NA 51.28 54.39 55.31 41.13 ⋯ 50.92\n",
              "           X1944 X1948 X1952 X1956 X1960 X1964 X1968 X1972 X1976\n",
              "Alabama    18.20 19.04 35.02 39.39 41.75 69.5  14.0  72.4  43.48\n",
              "Alaska        NA    NA    NA    NA 50.94 34.1  45.3  58.1  62.91\n",
              "Arizona    40.90 43.82 58.35 60.99 55.52 50.4  54.8  64.7  58.62\n",
              "Arkansas   29.84 21.02 43.76 45.82 43.06 43.9  30.8  68.9  34.97\n",
              "California 42.99 47.14 56.39 55.40 50.10 40.9  47.8  55.0  50.89\n",
              "Colorado   53.21 46.52 60.27 59.49 54.63 38.7  50.5  62.6  55.89"
            ]
          },
          "metadata": {}
        }
      ]
    },
    {
      "cell_type": "code",
      "execution_count": null,
      "metadata": {
        "id": "vzzxsOpS12Cq",
        "colab": {
          "base_uri": "https://localhost:8080/",
          "height": 69
        },
        "executionInfo": {
          "status": "ok",
          "timestamp": 1684700032514,
          "user_tz": -180,
          "elapsed": 3,
          "user": {
            "displayName": "Daniel D",
            "userId": "11270935181438165191"
          }
        },
        "outputId": "13359770-5117-4d0f-9650-3917ed838874"
      },
      "outputs": [
        {
          "output_type": "display_data",
          "data": {
            "text/html": [
              "<style>\n",
              ".dl-inline {width: auto; margin:0; padding: 0}\n",
              ".dl-inline>dt, .dl-inline>dd {float: none; width: auto; display: inline-block}\n",
              ".dl-inline>dt::after {content: \":\\0020\"; padding-right: .5ex}\n",
              ".dl-inline>dt:not(:first-of-type) {padding-left: .5ex}\n",
              "</style><dl class=dl-inline><dt>X1856</dt><dd>&lt;NA&gt;</dd><dt>X1860</dt><dd>&lt;NA&gt;</dd><dt>X1864</dt><dd>&lt;NA&gt;</dd><dt>X1868</dt><dd>&lt;NA&gt;</dd><dt>X1872</dt><dd>&lt;NA&gt;</dd><dt>X1876</dt><dd>&lt;NA&gt;</dd><dt>X1880</dt><dd>&lt;NA&gt;</dd><dt>X1884</dt><dd>&lt;NA&gt;</dd><dt>X1888</dt><dd>&lt;NA&gt;</dd><dt>X1892</dt><dd>&lt;NA&gt;</dd><dt>X1896</dt><dd>&lt;NA&gt;</dd><dt>X1900</dt><dd>&lt;NA&gt;</dd><dt>X1904</dt><dd>&lt;NA&gt;</dd><dt>X1908</dt><dd>&lt;NA&gt;</dd><dt>X1912</dt><dd>&lt;NA&gt;</dd><dt>X1916</dt><dd>&lt;NA&gt;</dd><dt>X1920</dt><dd>&lt;NA&gt;</dd><dt>X1924</dt><dd>&lt;NA&gt;</dd><dt>X1928</dt><dd>&lt;NA&gt;</dd><dt>X1932</dt><dd>&lt;NA&gt;</dd><dt>X1936</dt><dd>&lt;NA&gt;</dd><dt>X1940</dt><dd>&lt;NA&gt;</dd><dt>X1944</dt><dd>&lt;NA&gt;</dd><dt>X1948</dt><dd>&lt;NA&gt;</dd><dt>X1952</dt><dd>&lt;NA&gt;</dd><dt>X1956</dt><dd>&lt;NA&gt;</dd><dt>X1960</dt><dd>49.9446</dd><dt>X1964</dt><dd>41.136</dd><dt>X1968</dt><dd>44.126</dd><dt>X1972</dt><dd>62.706</dd><dt>X1976</dt><dd>50.1034</dd></dl>\n"
            ],
            "text/markdown": "X1856\n:   &lt;NA&gt;X1860\n:   &lt;NA&gt;X1864\n:   &lt;NA&gt;X1868\n:   &lt;NA&gt;X1872\n:   &lt;NA&gt;X1876\n:   &lt;NA&gt;X1880\n:   &lt;NA&gt;X1884\n:   &lt;NA&gt;X1888\n:   &lt;NA&gt;X1892\n:   &lt;NA&gt;X1896\n:   &lt;NA&gt;X1900\n:   &lt;NA&gt;X1904\n:   &lt;NA&gt;X1908\n:   &lt;NA&gt;X1912\n:   &lt;NA&gt;X1916\n:   &lt;NA&gt;X1920\n:   &lt;NA&gt;X1924\n:   &lt;NA&gt;X1928\n:   &lt;NA&gt;X1932\n:   &lt;NA&gt;X1936\n:   &lt;NA&gt;X1940\n:   &lt;NA&gt;X1944\n:   &lt;NA&gt;X1948\n:   &lt;NA&gt;X1952\n:   &lt;NA&gt;X1956\n:   &lt;NA&gt;X1960\n:   49.9446X1964\n:   41.136X1968\n:   44.126X1972\n:   62.706X1976\n:   50.1034\n\n",
            "text/latex": "\\begin{description*}\n\\item[X1856] <NA>\n\\item[X1860] <NA>\n\\item[X1864] <NA>\n\\item[X1868] <NA>\n\\item[X1872] <NA>\n\\item[X1876] <NA>\n\\item[X1880] <NA>\n\\item[X1884] <NA>\n\\item[X1888] <NA>\n\\item[X1892] <NA>\n\\item[X1896] <NA>\n\\item[X1900] <NA>\n\\item[X1904] <NA>\n\\item[X1908] <NA>\n\\item[X1912] <NA>\n\\item[X1916] <NA>\n\\item[X1920] <NA>\n\\item[X1924] <NA>\n\\item[X1928] <NA>\n\\item[X1932] <NA>\n\\item[X1936] <NA>\n\\item[X1940] <NA>\n\\item[X1944] <NA>\n\\item[X1948] <NA>\n\\item[X1952] <NA>\n\\item[X1956] <NA>\n\\item[X1960] 49.9446\n\\item[X1964] 41.136\n\\item[X1968] 44.126\n\\item[X1972] 62.706\n\\item[X1976] 50.1034\n\\end{description*}\n",
            "text/plain": [
              "  X1856   X1860   X1864   X1868   X1872   X1876   X1880   X1884   X1888   X1892 \n",
              "     NA      NA      NA      NA      NA      NA      NA      NA      NA      NA \n",
              "  X1896   X1900   X1904   X1908   X1912   X1916   X1920   X1924   X1928   X1932 \n",
              "     NA      NA      NA      NA      NA      NA      NA      NA      NA      NA \n",
              "  X1936   X1940   X1944   X1948   X1952   X1956   X1960   X1964   X1968   X1972 \n",
              "     NA      NA      NA      NA      NA      NA 49.9446 41.1360 44.1260 62.7060 \n",
              "  X1976 \n",
              "50.1034 "
            ]
          },
          "metadata": {}
        }
      ],
      "source": [
        "colMeans(votes.repub)"
      ]
    },
    {
      "cell_type": "code",
      "source": [
        "if (mean(votes.repub[,30], na.rm = TRUE) > 60) {\n",
        "    print(\"Республиканцы набрали высокий процент голосов\")\n",
        "} else {\n",
        "    print(\"Республиканцы набрали < 60% голосов\")\n",
        "}"
      ],
      "metadata": {
        "colab": {
          "base_uri": "https://localhost:8080/"
        },
        "id": "li-EEaHz2iDo",
        "executionInfo": {
          "status": "ok",
          "timestamp": 1684700407120,
          "user_tz": -180,
          "elapsed": 537,
          "user": {
            "displayName": "Daniel D",
            "userId": "11270935181438165191"
          }
        },
        "outputId": "12b7b44d-3fbc-4c73-e70e-743e8ca008a8"
      },
      "execution_count": null,
      "outputs": [
        {
          "output_type": "stream",
          "name": "stdout",
          "text": [
            "[1] \"Республиканцы набрали высокий процент голосов\"\n"
          ]
        }
      ]
    },
    {
      "cell_type": "code",
      "source": [
        "if (mean(votes.repub[,1], na.rm = TRUE) > 60) {\n",
        "    print(\"Республиканцы набрали высокий процент голосов\")\n",
        "} else {\n",
        "    print(\"Республиканцы набрали < 60% голосов\")\n",
        "}"
      ],
      "metadata": {
        "colab": {
          "base_uri": "https://localhost:8080/"
        },
        "id": "-cFNe3B8CuXB",
        "executionInfo": {
          "status": "ok",
          "timestamp": 1684700407120,
          "user_tz": -180,
          "elapsed": 3,
          "user": {
            "displayName": "Daniel D",
            "userId": "11270935181438165191"
          }
        },
        "outputId": "4ee5c7b0-f7ca-4ccd-cce9-d4b27e7504dd"
      },
      "execution_count": null,
      "outputs": [
        {
          "output_type": "stream",
          "name": "stdout",
          "text": [
            "[1] \"Республиканцы набрали < 60% голосов\"\n"
          ]
        }
      ]
    },
    {
      "cell_type": "markdown",
      "source": [
        "## Также есть похожая функция ifelse()"
      ],
      "metadata": {
        "id": "QPQR6QgG7YtI"
      }
    },
    {
      "cell_type": "code",
      "source": [
        "x <- c(1, 0, 0, 0, 1, 0)\n",
        "ifelse(x != 0, \"Yes\", \"No\")"
      ],
      "metadata": {
        "colab": {
          "base_uri": "https://localhost:8080/",
          "height": 34
        },
        "id": "_hvM_uReDOe7",
        "executionInfo": {
          "status": "ok",
          "timestamp": 1684700408446,
          "user_tz": -180,
          "elapsed": 2,
          "user": {
            "displayName": "Daniel D",
            "userId": "11270935181438165191"
          }
        },
        "outputId": "c1bf6e12-22a8-4065-ca02-6652079a4e13"
      },
      "execution_count": null,
      "outputs": [
        {
          "output_type": "display_data",
          "data": {
            "text/html": [
              "<style>\n",
              ".list-inline {list-style: none; margin:0; padding: 0}\n",
              ".list-inline>li {display: inline-block}\n",
              ".list-inline>li:not(:last-child)::after {content: \"\\00b7\"; padding: 0 .5ex}\n",
              "</style>\n",
              "<ol class=list-inline><li>'Yes'</li><li>'No'</li><li>'No'</li><li>'No'</li><li>'Yes'</li><li>'No'</li></ol>\n"
            ],
            "text/markdown": "1. 'Yes'\n2. 'No'\n3. 'No'\n4. 'No'\n5. 'Yes'\n6. 'No'\n\n\n",
            "text/latex": "\\begin{enumerate*}\n\\item 'Yes'\n\\item 'No'\n\\item 'No'\n\\item 'No'\n\\item 'Yes'\n\\item 'No'\n\\end{enumerate*}\n",
            "text/plain": [
              "[1] \"Yes\" \"No\"  \"No\"  \"No\"  \"Yes\" \"No\" "
            ]
          },
          "metadata": {}
        }
      ]
    },
    {
      "cell_type": "code",
      "source": [
        "ifelse(\n",
        "    colMeans(votes.repub, na.rm = TRUE) > 60,\n",
        "    \"Республиканцы набрали высокий процент голосов\",\n",
        "    \"Республиканцы набрали < 60% голосов\"\n",
        ")"
      ],
      "metadata": {
        "colab": {
          "base_uri": "https://localhost:8080/",
          "height": 139
        },
        "id": "BLgsS_UVDOZ5",
        "executionInfo": {
          "status": "ok",
          "timestamp": 1684700409787,
          "user_tz": -180,
          "elapsed": 3,
          "user": {
            "displayName": "Daniel D",
            "userId": "11270935181438165191"
          }
        },
        "outputId": "02057933-6eeb-4ef9-be48-847c3a62da6b"
      },
      "execution_count": null,
      "outputs": [
        {
          "output_type": "display_data",
          "data": {
            "text/html": [
              "<style>\n",
              ".dl-inline {width: auto; margin:0; padding: 0}\n",
              ".dl-inline>dt, .dl-inline>dd {float: none; width: auto; display: inline-block}\n",
              ".dl-inline>dt::after {content: \":\\0020\"; padding-right: .5ex}\n",
              ".dl-inline>dt:not(:first-of-type) {padding-left: .5ex}\n",
              "</style><dl class=dl-inline><dt>X1856</dt><dd>'Республиканцы набрали &lt; 60% голосов'</dd><dt>X1860</dt><dd>'Республиканцы набрали &lt; 60% голосов'</dd><dt>X1864</dt><dd>'Республиканцы набрали &lt; 60% голосов'</dd><dt>X1868</dt><dd>'Республиканцы набрали &lt; 60% голосов'</dd><dt>X1872</dt><dd>'Республиканцы набрали &lt; 60% голосов'</dd><dt>X1876</dt><dd>'Республиканцы набрали &lt; 60% голосов'</dd><dt>X1880</dt><dd>'Республиканцы набрали &lt; 60% голосов'</dd><dt>X1884</dt><dd>'Республиканцы набрали &lt; 60% голосов'</dd><dt>X1888</dt><dd>'Республиканцы набрали &lt; 60% голосов'</dd><dt>X1892</dt><dd>'Республиканцы набрали &lt; 60% голосов'</dd><dt>X1896</dt><dd>'Республиканцы набрали &lt; 60% голосов'</dd><dt>X1900</dt><dd>'Республиканцы набрали &lt; 60% голосов'</dd><dt>X1904</dt><dd>'Республиканцы набрали &lt; 60% голосов'</dd><dt>X1908</dt><dd>'Республиканцы набрали &lt; 60% голосов'</dd><dt>X1912</dt><dd>'Республиканцы набрали &lt; 60% голосов'</dd><dt>X1916</dt><dd>'Республиканцы набрали &lt; 60% голосов'</dd><dt>X1920</dt><dd>'Республиканцы набрали &lt; 60% голосов'</dd><dt>X1924</dt><dd>'Республиканцы набрали &lt; 60% голосов'</dd><dt>X1928</dt><dd>'Республиканцы набрали &lt; 60% голосов'</dd><dt>X1932</dt><dd>'Республиканцы набрали &lt; 60% голосов'</dd><dt>X1936</dt><dd>'Республиканцы набрали &lt; 60% голосов'</dd><dt>X1940</dt><dd>'Республиканцы набрали &lt; 60% голосов'</dd><dt>X1944</dt><dd>'Республиканцы набрали &lt; 60% голосов'</dd><dt>X1948</dt><dd>'Республиканцы набрали &lt; 60% голосов'</dd><dt>X1952</dt><dd>'Республиканцы набрали &lt; 60% голосов'</dd><dt>X1956</dt><dd>'Республиканцы набрали &lt; 60% голосов'</dd><dt>X1960</dt><dd>'Республиканцы набрали &lt; 60% голосов'</dd><dt>X1964</dt><dd>'Республиканцы набрали &lt; 60% голосов'</dd><dt>X1968</dt><dd>'Республиканцы набрали &lt; 60% голосов'</dd><dt>X1972</dt><dd>'Республиканцы набрали высокий процент голосов'</dd><dt>X1976</dt><dd>'Республиканцы набрали &lt; 60% голосов'</dd></dl>\n"
            ],
            "text/markdown": "X1856\n:   'Республиканцы набрали &lt; 60% голосов'X1860\n:   'Республиканцы набрали &lt; 60% голосов'X1864\n:   'Республиканцы набрали &lt; 60% голосов'X1868\n:   'Республиканцы набрали &lt; 60% голосов'X1872\n:   'Республиканцы набрали &lt; 60% голосов'X1876\n:   'Республиканцы набрали &lt; 60% голосов'X1880\n:   'Республиканцы набрали &lt; 60% голосов'X1884\n:   'Республиканцы набрали &lt; 60% голосов'X1888\n:   'Республиканцы набрали &lt; 60% голосов'X1892\n:   'Республиканцы набрали &lt; 60% голосов'X1896\n:   'Республиканцы набрали &lt; 60% голосов'X1900\n:   'Республиканцы набрали &lt; 60% голосов'X1904\n:   'Республиканцы набрали &lt; 60% голосов'X1908\n:   'Республиканцы набрали &lt; 60% голосов'X1912\n:   'Республиканцы набрали &lt; 60% голосов'X1916\n:   'Республиканцы набрали &lt; 60% голосов'X1920\n:   'Республиканцы набрали &lt; 60% голосов'X1924\n:   'Республиканцы набрали &lt; 60% голосов'X1928\n:   'Республиканцы набрали &lt; 60% голосов'X1932\n:   'Республиканцы набрали &lt; 60% голосов'X1936\n:   'Республиканцы набрали &lt; 60% голосов'X1940\n:   'Республиканцы набрали &lt; 60% голосов'X1944\n:   'Республиканцы набрали &lt; 60% голосов'X1948\n:   'Республиканцы набрали &lt; 60% голосов'X1952\n:   'Республиканцы набрали &lt; 60% голосов'X1956\n:   'Республиканцы набрали &lt; 60% голосов'X1960\n:   'Республиканцы набрали &lt; 60% голосов'X1964\n:   'Республиканцы набрали &lt; 60% голосов'X1968\n:   'Республиканцы набрали &lt; 60% голосов'X1972\n:   'Республиканцы набрали высокий процент голосов'X1976\n:   'Республиканцы набрали &lt; 60% голосов'\n\n",
            "text/latex": "\\begin{description*}\n\\item[X1856] 'Республиканцы набрали < 60\\% голосов'\n\\item[X1860] 'Республиканцы набрали < 60\\% голосов'\n\\item[X1864] 'Республиканцы набрали < 60\\% голосов'\n\\item[X1868] 'Республиканцы набрали < 60\\% голосов'\n\\item[X1872] 'Республиканцы набрали < 60\\% голосов'\n\\item[X1876] 'Республиканцы набрали < 60\\% голосов'\n\\item[X1880] 'Республиканцы набрали < 60\\% голосов'\n\\item[X1884] 'Республиканцы набрали < 60\\% голосов'\n\\item[X1888] 'Республиканцы набрали < 60\\% голосов'\n\\item[X1892] 'Республиканцы набрали < 60\\% голосов'\n\\item[X1896] 'Республиканцы набрали < 60\\% голосов'\n\\item[X1900] 'Республиканцы набрали < 60\\% голосов'\n\\item[X1904] 'Республиканцы набрали < 60\\% голосов'\n\\item[X1908] 'Республиканцы набрали < 60\\% голосов'\n\\item[X1912] 'Республиканцы набрали < 60\\% голосов'\n\\item[X1916] 'Республиканцы набрали < 60\\% голосов'\n\\item[X1920] 'Республиканцы набрали < 60\\% голосов'\n\\item[X1924] 'Республиканцы набрали < 60\\% голосов'\n\\item[X1928] 'Республиканцы набрали < 60\\% голосов'\n\\item[X1932] 'Республиканцы набрали < 60\\% голосов'\n\\item[X1936] 'Республиканцы набрали < 60\\% голосов'\n\\item[X1940] 'Республиканцы набрали < 60\\% голосов'\n\\item[X1944] 'Республиканцы набрали < 60\\% голосов'\n\\item[X1948] 'Республиканцы набрали < 60\\% голосов'\n\\item[X1952] 'Республиканцы набрали < 60\\% голосов'\n\\item[X1956] 'Республиканцы набрали < 60\\% голосов'\n\\item[X1960] 'Республиканцы набрали < 60\\% голосов'\n\\item[X1964] 'Республиканцы набрали < 60\\% голосов'\n\\item[X1968] 'Республиканцы набрали < 60\\% голосов'\n\\item[X1972] 'Республиканцы набрали высокий процент голосов'\n\\item[X1976] 'Республиканцы набрали < 60\\% голосов'\n\\end{description*}\n",
            "text/plain": [
              "                                          X1856 \n",
              "          \"Республиканцы набрали < 60% голосов\" \n",
              "                                          X1860 \n",
              "          \"Республиканцы набрали < 60% голосов\" \n",
              "                                          X1864 \n",
              "          \"Республиканцы набрали < 60% голосов\" \n",
              "                                          X1868 \n",
              "          \"Республиканцы набрали < 60% голосов\" \n",
              "                                          X1872 \n",
              "          \"Республиканцы набрали < 60% голосов\" \n",
              "                                          X1876 \n",
              "          \"Республиканцы набрали < 60% голосов\" \n",
              "                                          X1880 \n",
              "          \"Республиканцы набрали < 60% голосов\" \n",
              "                                          X1884 \n",
              "          \"Республиканцы набрали < 60% голосов\" \n",
              "                                          X1888 \n",
              "          \"Республиканцы набрали < 60% голосов\" \n",
              "                                          X1892 \n",
              "          \"Республиканцы набрали < 60% голосов\" \n",
              "                                          X1896 \n",
              "          \"Республиканцы набрали < 60% голосов\" \n",
              "                                          X1900 \n",
              "          \"Республиканцы набрали < 60% голосов\" \n",
              "                                          X1904 \n",
              "          \"Республиканцы набрали < 60% голосов\" \n",
              "                                          X1908 \n",
              "          \"Республиканцы набрали < 60% голосов\" \n",
              "                                          X1912 \n",
              "          \"Республиканцы набрали < 60% голосов\" \n",
              "                                          X1916 \n",
              "          \"Республиканцы набрали < 60% голосов\" \n",
              "                                          X1920 \n",
              "          \"Республиканцы набрали < 60% голосов\" \n",
              "                                          X1924 \n",
              "          \"Республиканцы набрали < 60% голосов\" \n",
              "                                          X1928 \n",
              "          \"Республиканцы набрали < 60% голосов\" \n",
              "                                          X1932 \n",
              "          \"Республиканцы набрали < 60% голосов\" \n",
              "                                          X1936 \n",
              "          \"Республиканцы набрали < 60% голосов\" \n",
              "                                          X1940 \n",
              "          \"Республиканцы набрали < 60% голосов\" \n",
              "                                          X1944 \n",
              "          \"Республиканцы набрали < 60% голосов\" \n",
              "                                          X1948 \n",
              "          \"Республиканцы набрали < 60% голосов\" \n",
              "                                          X1952 \n",
              "          \"Республиканцы набрали < 60% голосов\" \n",
              "                                          X1956 \n",
              "          \"Республиканцы набрали < 60% голосов\" \n",
              "                                          X1960 \n",
              "          \"Республиканцы набрали < 60% голосов\" \n",
              "                                          X1964 \n",
              "          \"Республиканцы набрали < 60% голосов\" \n",
              "                                          X1968 \n",
              "          \"Республиканцы набрали < 60% голосов\" \n",
              "                                          X1972 \n",
              "\"Республиканцы набрали высокий процент голосов\" \n",
              "                                          X1976 \n",
              "          \"Республиканцы набрали < 60% голосов\" "
            ]
          },
          "metadata": {}
        }
      ]
    },
    {
      "cell_type": "markdown",
      "source": [
        "## Пишем собственную функцию\n",
        "Для написания функции воспользуемся набором, содержащим данные о продажах мячей в первые дни 2018 года\n",
        "\n",
        "* date – год-месяц-день\n",
        "* ball – теннисные мячи продавались по одному, а также распакованными по 3 и 5 мячей\n",
        "* price – цены"
      ],
      "metadata": {
        "id": "r4k2ES7g8wzW"
      }
    },
    {
      "cell_type": "code",
      "source": [
        "date_list <- c(rep(\"2018-01-01\", 4), rep(\"2018-01-05\", 6))\n",
        "ball_list <- c(rep(1, 3), rep(3, 4), rep(5, 3))\n",
        "price_list <- c(rep(90, 3), rep(150, 4), rep(390, 3))"
      ],
      "metadata": {
        "id": "gT05Y62l9Bn1"
      },
      "execution_count": null,
      "outputs": []
    },
    {
      "cell_type": "code",
      "source": [
        "df <- data.frame(\"date\"=date_list, \"ball\"=ball_list, \"price\"=price_list)\n",
        "head(df, 10)"
      ],
      "metadata": {
        "colab": {
          "base_uri": "https://localhost:8080/",
          "height": 412
        },
        "id": "_m5bZ41u-AkJ",
        "executionInfo": {
          "status": "ok",
          "timestamp": 1684700731460,
          "user_tz": -180,
          "elapsed": 530,
          "user": {
            "displayName": "Daniel D",
            "userId": "11270935181438165191"
          }
        },
        "outputId": "df83e12e-5415-41a0-c6bb-336942364a15"
      },
      "execution_count": null,
      "outputs": [
        {
          "output_type": "display_data",
          "data": {
            "text/html": [
              "<table class=\"dataframe\">\n",
              "<caption>A data.frame: 10 × 3</caption>\n",
              "<thead>\n",
              "\t<tr><th></th><th scope=col>date</th><th scope=col>ball</th><th scope=col>price</th></tr>\n",
              "\t<tr><th></th><th scope=col>&lt;chr&gt;</th><th scope=col>&lt;dbl&gt;</th><th scope=col>&lt;dbl&gt;</th></tr>\n",
              "</thead>\n",
              "<tbody>\n",
              "\t<tr><th scope=row>1</th><td>2018-01-01</td><td>1</td><td> 90</td></tr>\n",
              "\t<tr><th scope=row>2</th><td>2018-01-01</td><td>1</td><td> 90</td></tr>\n",
              "\t<tr><th scope=row>3</th><td>2018-01-01</td><td>1</td><td> 90</td></tr>\n",
              "\t<tr><th scope=row>4</th><td>2018-01-01</td><td>3</td><td>150</td></tr>\n",
              "\t<tr><th scope=row>5</th><td>2018-01-05</td><td>3</td><td>150</td></tr>\n",
              "\t<tr><th scope=row>6</th><td>2018-01-05</td><td>3</td><td>150</td></tr>\n",
              "\t<tr><th scope=row>7</th><td>2018-01-05</td><td>3</td><td>150</td></tr>\n",
              "\t<tr><th scope=row>8</th><td>2018-01-05</td><td>5</td><td>390</td></tr>\n",
              "\t<tr><th scope=row>9</th><td>2018-01-05</td><td>5</td><td>390</td></tr>\n",
              "\t<tr><th scope=row>10</th><td>2018-01-05</td><td>5</td><td>390</td></tr>\n",
              "</tbody>\n",
              "</table>\n"
            ],
            "text/markdown": "\nA data.frame: 10 × 3\n\n| <!--/--> | date &lt;chr&gt; | ball &lt;dbl&gt; | price &lt;dbl&gt; |\n|---|---|---|---|\n| 1 | 2018-01-01 | 1 |  90 |\n| 2 | 2018-01-01 | 1 |  90 |\n| 3 | 2018-01-01 | 1 |  90 |\n| 4 | 2018-01-01 | 3 | 150 |\n| 5 | 2018-01-05 | 3 | 150 |\n| 6 | 2018-01-05 | 3 | 150 |\n| 7 | 2018-01-05 | 3 | 150 |\n| 8 | 2018-01-05 | 5 | 390 |\n| 9 | 2018-01-05 | 5 | 390 |\n| 10 | 2018-01-05 | 5 | 390 |\n\n",
            "text/latex": "A data.frame: 10 × 3\n\\begin{tabular}{r|lll}\n  & date & ball & price\\\\\n  & <chr> & <dbl> & <dbl>\\\\\n\\hline\n\t1 & 2018-01-01 & 1 &  90\\\\\n\t2 & 2018-01-01 & 1 &  90\\\\\n\t3 & 2018-01-01 & 1 &  90\\\\\n\t4 & 2018-01-01 & 3 & 150\\\\\n\t5 & 2018-01-05 & 3 & 150\\\\\n\t6 & 2018-01-05 & 3 & 150\\\\\n\t7 & 2018-01-05 & 3 & 150\\\\\n\t8 & 2018-01-05 & 5 & 390\\\\\n\t9 & 2018-01-05 & 5 & 390\\\\\n\t10 & 2018-01-05 & 5 & 390\\\\\n\\end{tabular}\n",
            "text/plain": [
              "   date       ball price\n",
              "1  2018-01-01 1     90  \n",
              "2  2018-01-01 1     90  \n",
              "3  2018-01-01 1     90  \n",
              "4  2018-01-01 3    150  \n",
              "5  2018-01-05 3    150  \n",
              "6  2018-01-05 3    150  \n",
              "7  2018-01-05 3    150  \n",
              "8  2018-01-05 5    390  \n",
              "9  2018-01-05 5    390  \n",
              "10 2018-01-05 5    390  "
            ]
          },
          "metadata": {}
        }
      ]
    },
    {
      "cell_type": "markdown",
      "source": [
        "## Сохраним датасет в файл"
      ],
      "metadata": {
        "id": "BVGBRBuC-uuO"
      }
    },
    {
      "cell_type": "code",
      "source": [
        "write.csv(df, \"df.csv\", row.names=FALSE)"
      ],
      "metadata": {
        "id": "B7mSa2o7-xhD"
      },
      "execution_count": null,
      "outputs": []
    },
    {
      "cell_type": "markdown",
      "source": [
        "## Загрузим датасет из файла"
      ],
      "metadata": {
        "id": "TUKqb4H5JHwE"
      }
    },
    {
      "cell_type": "code",
      "source": [
        "df <- read.csv(\"df.csv\", header=TRUE, sep=\",\")"
      ],
      "metadata": {
        "id": "sXMtoaxuDOUf"
      },
      "execution_count": null,
      "outputs": []
    },
    {
      "cell_type": "code",
      "source": [
        "head(df, 10)"
      ],
      "metadata": {
        "colab": {
          "base_uri": "https://localhost:8080/",
          "height": 412
        },
        "id": "hbfEbVynDOKn",
        "executionInfo": {
          "status": "ok",
          "timestamp": 1684700735708,
          "user_tz": -180,
          "elapsed": 2,
          "user": {
            "displayName": "Daniel D",
            "userId": "11270935181438165191"
          }
        },
        "outputId": "2a832cf1-9825-4833-fce2-3718466c4eb4"
      },
      "execution_count": null,
      "outputs": [
        {
          "output_type": "display_data",
          "data": {
            "text/html": [
              "<table class=\"dataframe\">\n",
              "<caption>A data.frame: 10 × 3</caption>\n",
              "<thead>\n",
              "\t<tr><th></th><th scope=col>date</th><th scope=col>ball</th><th scope=col>price</th></tr>\n",
              "\t<tr><th></th><th scope=col>&lt;chr&gt;</th><th scope=col>&lt;int&gt;</th><th scope=col>&lt;int&gt;</th></tr>\n",
              "</thead>\n",
              "<tbody>\n",
              "\t<tr><th scope=row>1</th><td>2018-01-01</td><td>1</td><td> 90</td></tr>\n",
              "\t<tr><th scope=row>2</th><td>2018-01-01</td><td>1</td><td> 90</td></tr>\n",
              "\t<tr><th scope=row>3</th><td>2018-01-01</td><td>1</td><td> 90</td></tr>\n",
              "\t<tr><th scope=row>4</th><td>2018-01-01</td><td>3</td><td>150</td></tr>\n",
              "\t<tr><th scope=row>5</th><td>2018-01-05</td><td>3</td><td>150</td></tr>\n",
              "\t<tr><th scope=row>6</th><td>2018-01-05</td><td>3</td><td>150</td></tr>\n",
              "\t<tr><th scope=row>7</th><td>2018-01-05</td><td>3</td><td>150</td></tr>\n",
              "\t<tr><th scope=row>8</th><td>2018-01-05</td><td>5</td><td>390</td></tr>\n",
              "\t<tr><th scope=row>9</th><td>2018-01-05</td><td>5</td><td>390</td></tr>\n",
              "\t<tr><th scope=row>10</th><td>2018-01-05</td><td>5</td><td>390</td></tr>\n",
              "</tbody>\n",
              "</table>\n"
            ],
            "text/markdown": "\nA data.frame: 10 × 3\n\n| <!--/--> | date &lt;chr&gt; | ball &lt;int&gt; | price &lt;int&gt; |\n|---|---|---|---|\n| 1 | 2018-01-01 | 1 |  90 |\n| 2 | 2018-01-01 | 1 |  90 |\n| 3 | 2018-01-01 | 1 |  90 |\n| 4 | 2018-01-01 | 3 | 150 |\n| 5 | 2018-01-05 | 3 | 150 |\n| 6 | 2018-01-05 | 3 | 150 |\n| 7 | 2018-01-05 | 3 | 150 |\n| 8 | 2018-01-05 | 5 | 390 |\n| 9 | 2018-01-05 | 5 | 390 |\n| 10 | 2018-01-05 | 5 | 390 |\n\n",
            "text/latex": "A data.frame: 10 × 3\n\\begin{tabular}{r|lll}\n  & date & ball & price\\\\\n  & <chr> & <int> & <int>\\\\\n\\hline\n\t1 & 2018-01-01 & 1 &  90\\\\\n\t2 & 2018-01-01 & 1 &  90\\\\\n\t3 & 2018-01-01 & 1 &  90\\\\\n\t4 & 2018-01-01 & 3 & 150\\\\\n\t5 & 2018-01-05 & 3 & 150\\\\\n\t6 & 2018-01-05 & 3 & 150\\\\\n\t7 & 2018-01-05 & 3 & 150\\\\\n\t8 & 2018-01-05 & 5 & 390\\\\\n\t9 & 2018-01-05 & 5 & 390\\\\\n\t10 & 2018-01-05 & 5 & 390\\\\\n\\end{tabular}\n",
            "text/plain": [
              "   date       ball price\n",
              "1  2018-01-01 1     90  \n",
              "2  2018-01-01 1     90  \n",
              "3  2018-01-01 1     90  \n",
              "4  2018-01-01 3    150  \n",
              "5  2018-01-05 3    150  \n",
              "6  2018-01-05 3    150  \n",
              "7  2018-01-05 3    150  \n",
              "8  2018-01-05 5    390  \n",
              "9  2018-01-05 5    390  \n",
              "10 2018-01-05 5    390  "
            ]
          },
          "metadata": {}
        }
      ]
    },
    {
      "cell_type": "code",
      "source": [
        "str(df)"
      ],
      "metadata": {
        "colab": {
          "base_uri": "https://localhost:8080/"
        },
        "id": "5L9rIQFNDOFn",
        "executionInfo": {
          "status": "ok",
          "timestamp": 1684700742533,
          "user_tz": -180,
          "elapsed": 402,
          "user": {
            "displayName": "Daniel D",
            "userId": "11270935181438165191"
          }
        },
        "outputId": "d33e4c90-a1fa-4ff6-f6c3-4d54ac352930"
      },
      "execution_count": null,
      "outputs": [
        {
          "output_type": "stream",
          "name": "stdout",
          "text": [
            "'data.frame':\t10 obs. of  3 variables:\n",
            " $ date : chr  \"2018-01-01\" \"2018-01-01\" \"2018-01-01\" \"2018-01-01\" ...\n",
            " $ ball : int  1 1 1 3 3 3 3 5 5 5\n",
            " $ price: int  90 90 90 150 150 150 150 390 390 390\n"
          ]
        }
      ]
    },
    {
      "cell_type": "code",
      "source": [
        "unique(df$ball)"
      ],
      "metadata": {
        "colab": {
          "base_uri": "https://localhost:8080/",
          "height": 34
        },
        "id": "6_G3KzzPDOAH",
        "executionInfo": {
          "status": "ok",
          "timestamp": 1684700753430,
          "user_tz": -180,
          "elapsed": 663,
          "user": {
            "displayName": "Daniel D",
            "userId": "11270935181438165191"
          }
        },
        "outputId": "85efd8c1-7894-4fcc-aec6-261d7c4be703"
      },
      "execution_count": null,
      "outputs": [
        {
          "output_type": "display_data",
          "data": {
            "text/html": [
              "<style>\n",
              ".list-inline {list-style: none; margin:0; padding: 0}\n",
              ".list-inline>li {display: inline-block}\n",
              ".list-inline>li:not(:last-child)::after {content: \"\\00b7\"; padding: 0 .5ex}\n",
              "</style>\n",
              "<ol class=list-inline><li>1</li><li>3</li><li>5</li></ol>\n"
            ],
            "text/markdown": "1. 1\n2. 3\n3. 5\n\n\n",
            "text/latex": "\\begin{enumerate*}\n\\item 1\n\\item 3\n\\item 5\n\\end{enumerate*}\n",
            "text/plain": [
              "[1] 1 3 5"
            ]
          },
          "metadata": {}
        }
      ]
    },
    {
      "cell_type": "code",
      "source": [
        "unique(df$price)"
      ],
      "metadata": {
        "colab": {
          "base_uri": "https://localhost:8080/",
          "height": 34
        },
        "id": "Om8zXXXJDN65",
        "executionInfo": {
          "status": "ok",
          "timestamp": 1684700753828,
          "user_tz": -180,
          "elapsed": 3,
          "user": {
            "displayName": "Daniel D",
            "userId": "11270935181438165191"
          }
        },
        "outputId": "417d91ac-3383-4665-cadb-700eadb059c5"
      },
      "execution_count": null,
      "outputs": [
        {
          "output_type": "display_data",
          "data": {
            "text/html": [
              "<style>\n",
              ".list-inline {list-style: none; margin:0; padding: 0}\n",
              ".list-inline>li {display: inline-block}\n",
              ".list-inline>li:not(:last-child)::after {content: \"\\00b7\"; padding: 0 .5ex}\n",
              "</style>\n",
              "<ol class=list-inline><li>90</li><li>150</li><li>390</li></ol>\n"
            ],
            "text/markdown": "1. 90\n2. 150\n3. 390\n\n\n",
            "text/latex": "\\begin{enumerate*}\n\\item 90\n\\item 150\n\\item 390\n\\end{enumerate*}\n",
            "text/plain": [
              "[1]  90 150 390"
            ]
          },
          "metadata": {}
        }
      ]
    },
    {
      "cell_type": "markdown",
      "source": [
        "## Для работы с датами загружаем пакет \"lubridate\""
      ],
      "metadata": {
        "id": "vm7VB4H9_dq8"
      }
    },
    {
      "cell_type": "code",
      "source": [
        "library(lubridate)"
      ],
      "metadata": {
        "colab": {
          "base_uri": "https://localhost:8080/"
        },
        "id": "ZAmfjFF2DN1X",
        "executionInfo": {
          "status": "ok",
          "timestamp": 1684700759207,
          "user_tz": -180,
          "elapsed": 413,
          "user": {
            "displayName": "Daniel D",
            "userId": "11270935181438165191"
          }
        },
        "outputId": "a995628a-4509-46b0-d4e7-04d9f581e302"
      },
      "execution_count": null,
      "outputs": [
        {
          "output_type": "stream",
          "name": "stderr",
          "text": [
            "\n",
            "Attaching package: ‘lubridate’\n",
            "\n",
            "\n",
            "The following objects are masked from ‘package:base’:\n",
            "\n",
            "    date, intersect, setdiff, union\n",
            "\n",
            "\n"
          ]
        }
      ]
    },
    {
      "cell_type": "code",
      "source": [
        "class(df$date)"
      ],
      "metadata": {
        "colab": {
          "base_uri": "https://localhost:8080/",
          "height": 34
        },
        "id": "GRdMnyu3DNvR",
        "executionInfo": {
          "status": "ok",
          "timestamp": 1684700817898,
          "user_tz": -180,
          "elapsed": 405,
          "user": {
            "displayName": "Daniel D",
            "userId": "11270935181438165191"
          }
        },
        "outputId": "a6754208-eb5b-4eeb-c026-a96fb05fb8fb"
      },
      "execution_count": null,
      "outputs": [
        {
          "output_type": "display_data",
          "data": {
            "text/html": [
              "'character'"
            ],
            "text/markdown": "'character'",
            "text/latex": "'character'",
            "text/plain": [
              "[1] \"character\""
            ]
          },
          "metadata": {}
        }
      ]
    },
    {
      "cell_type": "code",
      "source": [
        "dayn = ymd(df$date)\n",
        "dayn"
      ],
      "metadata": {
        "colab": {
          "base_uri": "https://localhost:8080/",
          "height": 34
        },
        "id": "Y89c18PjDNZs",
        "executionInfo": {
          "status": "ok",
          "timestamp": 1684700818778,
          "user_tz": -180,
          "elapsed": 448,
          "user": {
            "displayName": "Daniel D",
            "userId": "11270935181438165191"
          }
        },
        "outputId": "d846f6d0-9f82-43ef-f3ab-994d6bbcae1d"
      },
      "execution_count": null,
      "outputs": [
        {
          "output_type": "display_data",
          "data": {
            "text/html": [
              "<style>\n",
              ".list-inline {list-style: none; margin:0; padding: 0}\n",
              ".list-inline>li {display: inline-block}\n",
              ".list-inline>li:not(:last-child)::after {content: \"\\00b7\"; padding: 0 .5ex}\n",
              "</style>\n",
              "<ol class=list-inline><li><time datetime=\"2018-01-01\">2018-01-01</time></li><li><time datetime=\"2018-01-01\">2018-01-01</time></li><li><time datetime=\"2018-01-01\">2018-01-01</time></li><li><time datetime=\"2018-01-01\">2018-01-01</time></li><li><time datetime=\"2018-01-05\">2018-01-05</time></li><li><time datetime=\"2018-01-05\">2018-01-05</time></li><li><time datetime=\"2018-01-05\">2018-01-05</time></li><li><time datetime=\"2018-01-05\">2018-01-05</time></li><li><time datetime=\"2018-01-05\">2018-01-05</time></li><li><time datetime=\"2018-01-05\">2018-01-05</time></li></ol>\n"
            ],
            "text/markdown": "1. 2018-01-01\n2. 2018-01-01\n3. 2018-01-01\n4. 2018-01-01\n5. 2018-01-05\n6. 2018-01-05\n7. 2018-01-05\n8. 2018-01-05\n9. 2018-01-05\n10. 2018-01-05\n\n\n",
            "text/latex": "\\begin{enumerate*}\n\\item 2018-01-01\n\\item 2018-01-01\n\\item 2018-01-01\n\\item 2018-01-01\n\\item 2018-01-05\n\\item 2018-01-05\n\\item 2018-01-05\n\\item 2018-01-05\n\\item 2018-01-05\n\\item 2018-01-05\n\\end{enumerate*}\n",
            "text/plain": [
              " [1] \"2018-01-01\" \"2018-01-01\" \"2018-01-01\" \"2018-01-01\" \"2018-01-05\"\n",
              " [6] \"2018-01-05\" \"2018-01-05\" \"2018-01-05\" \"2018-01-05\" \"2018-01-05\""
            ]
          },
          "metadata": {}
        }
      ]
    },
    {
      "cell_type": "markdown",
      "source": [
        "### Напишем функцию, которая считает, на какую сумму продано мячей за определенный день\n",
        "\n",
        "Поскольку дни в месяцах совпадают, нам нужна функция с аргументами, например, месяц и день"
      ],
      "metadata": {
        "id": "bndspjbKHqp5"
      }
    },
    {
      "cell_type": "code",
      "source": [
        "sum_balls <- function(dataset, m, d) {\n",
        "    sum(dataset$price[month(dataset$date) == m & day(dataset$date) == d])\n",
        "}"
      ],
      "metadata": {
        "id": "EbjeR2rMHnip"
      },
      "execution_count": null,
      "outputs": []
    },
    {
      "cell_type": "code",
      "source": [
        "sum_balls(df, 1, 1)"
      ],
      "metadata": {
        "colab": {
          "base_uri": "https://localhost:8080/",
          "height": 34
        },
        "id": "NxeZH120HntY",
        "executionInfo": {
          "status": "ok",
          "timestamp": 1684700925848,
          "user_tz": -180,
          "elapsed": 4,
          "user": {
            "displayName": "Daniel D",
            "userId": "11270935181438165191"
          }
        },
        "outputId": "5b34c054-7e7c-4e02-b5cb-cf350b3d0ca8"
      },
      "execution_count": null,
      "outputs": [
        {
          "output_type": "display_data",
          "data": {
            "text/html": [
              "420"
            ],
            "text/markdown": "420",
            "text/latex": "420",
            "text/plain": [
              "[1] 420"
            ]
          },
          "metadata": {}
        }
      ]
    },
    {
      "cell_type": "markdown",
      "source": [
        "## Используем цикл for, чтобы вывести сумму за определенный день"
      ],
      "metadata": {
        "id": "wN8ual9tAFL3"
      }
    },
    {
      "cell_type": "code",
      "source": [
        "for (i in 1:5) {\n",
        "    print(sum_balls(df, 1, i))\n",
        "}"
      ],
      "metadata": {
        "colab": {
          "base_uri": "https://localhost:8080/"
        },
        "id": "VUOZ3nQKAHAg",
        "executionInfo": {
          "status": "ok",
          "timestamp": 1684701048332,
          "user_tz": -180,
          "elapsed": 393,
          "user": {
            "displayName": "Daniel D",
            "userId": "11270935181438165191"
          }
        },
        "outputId": "8c0ef87e-e073-4a25-e127-98fff062c764"
      },
      "execution_count": null,
      "outputs": [
        {
          "output_type": "stream",
          "name": "stdout",
          "text": [
            "[1] 420\n",
            "[1] 0\n",
            "[1] 0\n",
            "[1] 0\n",
            "[1] 1620\n"
          ]
        }
      ]
    },
    {
      "cell_type": "markdown",
      "source": [
        "## Функции lapply() и sapply()"
      ],
      "metadata": {
        "id": "JjlsEuXTJMJK"
      }
    },
    {
      "cell_type": "code",
      "source": [
        "head(lapply(votes.repub, sum))"
      ],
      "metadata": {
        "colab": {
          "base_uri": "https://localhost:8080/",
          "height": 253
        },
        "id": "ToOCbxNtHn30",
        "executionInfo": {
          "status": "ok",
          "timestamp": 1684701141376,
          "user_tz": -180,
          "elapsed": 570,
          "user": {
            "displayName": "Daniel D",
            "userId": "11270935181438165191"
          }
        },
        "outputId": "3250df72-b2c9-41d9-a64a-3a700c438239"
      },
      "execution_count": null,
      "outputs": [
        {
          "output_type": "display_data",
          "data": {
            "text/html": [
              "<dl>\n",
              "\t<dt>$X1856</dt>\n",
              "\t\t<dd>&lt;NA&gt;</dd>\n",
              "\t<dt>$X1860</dt>\n",
              "\t\t<dd>&lt;NA&gt;</dd>\n",
              "\t<dt>$X1864</dt>\n",
              "\t\t<dd>&lt;NA&gt;</dd>\n",
              "\t<dt>$X1868</dt>\n",
              "\t\t<dd>&lt;NA&gt;</dd>\n",
              "\t<dt>$X1872</dt>\n",
              "\t\t<dd>&lt;NA&gt;</dd>\n",
              "\t<dt>$X1876</dt>\n",
              "\t\t<dd>&lt;NA&gt;</dd>\n",
              "</dl>\n"
            ],
            "text/markdown": "$X1856\n:   &lt;NA&gt;\n$X1860\n:   &lt;NA&gt;\n$X1864\n:   &lt;NA&gt;\n$X1868\n:   &lt;NA&gt;\n$X1872\n:   &lt;NA&gt;\n$X1876\n:   &lt;NA&gt;\n\n\n",
            "text/latex": "\\begin{description}\n\\item[\\$X1856] <NA>\n\\item[\\$X1860] <NA>\n\\item[\\$X1864] <NA>\n\\item[\\$X1868] <NA>\n\\item[\\$X1872] <NA>\n\\item[\\$X1876] <NA>\n\\end{description}\n",
            "text/plain": [
              "$X1856\n",
              "[1] NA\n",
              "\n",
              "$X1860\n",
              "[1] NA\n",
              "\n",
              "$X1864\n",
              "[1] NA\n",
              "\n",
              "$X1868\n",
              "[1] NA\n",
              "\n",
              "$X1872\n",
              "[1] NA\n",
              "\n",
              "$X1876\n",
              "[1] NA\n"
            ]
          },
          "metadata": {}
        }
      ]
    },
    {
      "cell_type": "code",
      "source": [
        "sapply(votes.repub, sum)"
      ],
      "metadata": {
        "colab": {
          "base_uri": "https://localhost:8080/",
          "height": 69
        },
        "id": "DO362tJvHoDF",
        "executionInfo": {
          "status": "ok",
          "timestamp": 1684701141782,
          "user_tz": -180,
          "elapsed": 2,
          "user": {
            "displayName": "Daniel D",
            "userId": "11270935181438165191"
          }
        },
        "outputId": "5ec174a6-cfca-4c5b-a07a-f82aad40efa9"
      },
      "execution_count": null,
      "outputs": [
        {
          "output_type": "display_data",
          "data": {
            "text/html": [
              "<style>\n",
              ".dl-inline {width: auto; margin:0; padding: 0}\n",
              ".dl-inline>dt, .dl-inline>dd {float: none; width: auto; display: inline-block}\n",
              ".dl-inline>dt::after {content: \":\\0020\"; padding-right: .5ex}\n",
              ".dl-inline>dt:not(:first-of-type) {padding-left: .5ex}\n",
              "</style><dl class=dl-inline><dt>X1856</dt><dd>&lt;NA&gt;</dd><dt>X1860</dt><dd>&lt;NA&gt;</dd><dt>X1864</dt><dd>&lt;NA&gt;</dd><dt>X1868</dt><dd>&lt;NA&gt;</dd><dt>X1872</dt><dd>&lt;NA&gt;</dd><dt>X1876</dt><dd>&lt;NA&gt;</dd><dt>X1880</dt><dd>&lt;NA&gt;</dd><dt>X1884</dt><dd>&lt;NA&gt;</dd><dt>X1888</dt><dd>&lt;NA&gt;</dd><dt>X1892</dt><dd>&lt;NA&gt;</dd><dt>X1896</dt><dd>&lt;NA&gt;</dd><dt>X1900</dt><dd>&lt;NA&gt;</dd><dt>X1904</dt><dd>&lt;NA&gt;</dd><dt>X1908</dt><dd>&lt;NA&gt;</dd><dt>X1912</dt><dd>&lt;NA&gt;</dd><dt>X1916</dt><dd>&lt;NA&gt;</dd><dt>X1920</dt><dd>&lt;NA&gt;</dd><dt>X1924</dt><dd>&lt;NA&gt;</dd><dt>X1928</dt><dd>&lt;NA&gt;</dd><dt>X1932</dt><dd>&lt;NA&gt;</dd><dt>X1936</dt><dd>&lt;NA&gt;</dd><dt>X1940</dt><dd>&lt;NA&gt;</dd><dt>X1944</dt><dd>&lt;NA&gt;</dd><dt>X1948</dt><dd>&lt;NA&gt;</dd><dt>X1952</dt><dd>&lt;NA&gt;</dd><dt>X1956</dt><dd>&lt;NA&gt;</dd><dt>X1960</dt><dd>2497.23</dd><dt>X1964</dt><dd>2056.8</dd><dt>X1968</dt><dd>2206.3</dd><dt>X1972</dt><dd>3135.3</dd><dt>X1976</dt><dd>2505.17</dd></dl>\n"
            ],
            "text/markdown": "X1856\n:   &lt;NA&gt;X1860\n:   &lt;NA&gt;X1864\n:   &lt;NA&gt;X1868\n:   &lt;NA&gt;X1872\n:   &lt;NA&gt;X1876\n:   &lt;NA&gt;X1880\n:   &lt;NA&gt;X1884\n:   &lt;NA&gt;X1888\n:   &lt;NA&gt;X1892\n:   &lt;NA&gt;X1896\n:   &lt;NA&gt;X1900\n:   &lt;NA&gt;X1904\n:   &lt;NA&gt;X1908\n:   &lt;NA&gt;X1912\n:   &lt;NA&gt;X1916\n:   &lt;NA&gt;X1920\n:   &lt;NA&gt;X1924\n:   &lt;NA&gt;X1928\n:   &lt;NA&gt;X1932\n:   &lt;NA&gt;X1936\n:   &lt;NA&gt;X1940\n:   &lt;NA&gt;X1944\n:   &lt;NA&gt;X1948\n:   &lt;NA&gt;X1952\n:   &lt;NA&gt;X1956\n:   &lt;NA&gt;X1960\n:   2497.23X1964\n:   2056.8X1968\n:   2206.3X1972\n:   3135.3X1976\n:   2505.17\n\n",
            "text/latex": "\\begin{description*}\n\\item[X1856] <NA>\n\\item[X1860] <NA>\n\\item[X1864] <NA>\n\\item[X1868] <NA>\n\\item[X1872] <NA>\n\\item[X1876] <NA>\n\\item[X1880] <NA>\n\\item[X1884] <NA>\n\\item[X1888] <NA>\n\\item[X1892] <NA>\n\\item[X1896] <NA>\n\\item[X1900] <NA>\n\\item[X1904] <NA>\n\\item[X1908] <NA>\n\\item[X1912] <NA>\n\\item[X1916] <NA>\n\\item[X1920] <NA>\n\\item[X1924] <NA>\n\\item[X1928] <NA>\n\\item[X1932] <NA>\n\\item[X1936] <NA>\n\\item[X1940] <NA>\n\\item[X1944] <NA>\n\\item[X1948] <NA>\n\\item[X1952] <NA>\n\\item[X1956] <NA>\n\\item[X1960] 2497.23\n\\item[X1964] 2056.8\n\\item[X1968] 2206.3\n\\item[X1972] 3135.3\n\\item[X1976] 2505.17\n\\end{description*}\n",
            "text/plain": [
              "  X1856   X1860   X1864   X1868   X1872   X1876   X1880   X1884   X1888   X1892 \n",
              "     NA      NA      NA      NA      NA      NA      NA      NA      NA      NA \n",
              "  X1896   X1900   X1904   X1908   X1912   X1916   X1920   X1924   X1928   X1932 \n",
              "     NA      NA      NA      NA      NA      NA      NA      NA      NA      NA \n",
              "  X1936   X1940   X1944   X1948   X1952   X1956   X1960   X1964   X1968   X1972 \n",
              "     NA      NA      NA      NA      NA      NA 2497.23 2056.80 2206.30 3135.30 \n",
              "  X1976 \n",
              "2505.17 "
            ]
          },
          "metadata": {}
        }
      ]
    },
    {
      "cell_type": "markdown",
      "source": [
        "## tapply()"
      ],
      "metadata": {
        "id": "K8MHEleAK8N9"
      }
    },
    {
      "cell_type": "markdown",
      "source": [
        "В статистике часто нужно разделять данные на группы и применять к ним определенную функцию.\n",
        "Посмотрим, как работает эта функция на примере набора «Orange».\n",
        "\n",
        "Набор содержит три переменные:\n",
        "- номер дерева;\n",
        "- возраст дерева с 31.12.1968, в днях;\n",
        "- длина окружности ствола."
      ],
      "metadata": {
        "id": "mzuDvZaGA6F9"
      }
    },
    {
      "cell_type": "markdown",
      "source": [
        "Обратим внимание, что измерения ствола дерева производились в одном и том же возрасте. Предположим, мы хотим узнать, на сколько миллиметров изменился диаметр ствола с первой даты измерения, которая соответствует возрасту 118 дням до последней даты, соответствующей 1582 дням.\n",
        "\n",
        "Напишем функцию, которая эта делала бы, а затем применим ее к каждой подгруппе, определенной фактором Tree с помощью функции tapply()\n"
      ],
      "metadata": {
        "id": "4q3YmTJ1BB7V"
      }
    },
    {
      "cell_type": "markdown",
      "source": [
        "Предположим, мы хотим узнать, на сколько\n",
        "миллиметров изменился диаметр ствола с первой даты\n",
        "измерения, которая соответствует возрасту 118 дням до\n",
        "последней даты, соответствующей 1582 дням (используем датасет Orange)"
      ],
      "metadata": {
        "id": "HvbOPu2kK_If"
      }
    },
    {
      "cell_type": "code",
      "source": [
        "l <- function(x) {\n",
        "    diff(range(x))\n",
        "}"
      ],
      "metadata": {
        "id": "gdyuTDX4HoMj"
      },
      "execution_count": null,
      "outputs": []
    },
    {
      "cell_type": "code",
      "source": [
        "tapply(Orange$circumference, Orange$Tree, l)"
      ],
      "metadata": {
        "colab": {
          "base_uri": "https://localhost:8080/",
          "height": 34
        },
        "id": "pRI5jUV8HoV_",
        "executionInfo": {
          "status": "ok",
          "timestamp": 1684701298679,
          "user_tz": -180,
          "elapsed": 3,
          "user": {
            "displayName": "Daniel D",
            "userId": "11270935181438165191"
          }
        },
        "outputId": "c859caf5-db1e-4fe2-cb2e-7ded67e2ead9"
      },
      "execution_count": null,
      "outputs": [
        {
          "output_type": "display_data",
          "data": {
            "text/html": [
              "<style>\n",
              ".dl-inline {width: auto; margin:0; padding: 0}\n",
              ".dl-inline>dt, .dl-inline>dd {float: none; width: auto; display: inline-block}\n",
              ".dl-inline>dt::after {content: \":\\0020\"; padding-right: .5ex}\n",
              ".dl-inline>dt:not(:first-of-type) {padding-left: .5ex}\n",
              "</style><dl class=dl-inline><dt>3</dt><dd>110</dd><dt>1</dt><dd>115</dd><dt>5</dt><dd>147</dd><dt>2</dt><dd>170</dd><dt>4</dt><dd>182</dd></dl>\n"
            ],
            "text/markdown": "3\n:   1101\n:   1155\n:   1472\n:   1704\n:   182\n\n",
            "text/latex": "\\begin{description*}\n\\item[3] 110\n\\item[1] 115\n\\item[5] 147\n\\item[2] 170\n\\item[4] 182\n\\end{description*}\n",
            "text/plain": [
              "  3   1   5   2   4 \n",
              "110 115 147 170 182 "
            ]
          },
          "metadata": {}
        }
      ]
    },
    {
      "cell_type": "markdown",
      "source": [
        "## Что делать, если у нас есть функции с одинаковыми названиями в разных пакетах?\n",
        "(они могут выполнять разные действия)\n",
        "\n",
        "При вызове функции, R сначала производит поиск в global environment. И\n",
        "если находится функция, то первая выбирается она. Или R проводит search\n",
        "path и выбирает ту функцию, которую встречает первую на пути"
      ],
      "metadata": {
        "id": "5KZ6cM_iCP0u"
      }
    },
    {
      "cell_type": "code",
      "source": [
        "search()"
      ],
      "metadata": {
        "colab": {
          "base_uri": "https://localhost:8080/",
          "height": 34
        },
        "id": "avyaOAClBqNZ",
        "executionInfo": {
          "status": "ok",
          "timestamp": 1684701361924,
          "user_tz": -180,
          "elapsed": 2,
          "user": {
            "displayName": "Daniel D",
            "userId": "11270935181438165191"
          }
        },
        "outputId": "104dd104-8e1f-4862-dfcd-a3d3b4531703"
      },
      "execution_count": null,
      "outputs": [
        {
          "output_type": "display_data",
          "data": {
            "text/html": [
              "<style>\n",
              ".list-inline {list-style: none; margin:0; padding: 0}\n",
              ".list-inline>li {display: inline-block}\n",
              ".list-inline>li:not(:last-child)::after {content: \"\\00b7\"; padding: 0 .5ex}\n",
              "</style>\n",
              "<ol class=list-inline><li>'.GlobalEnv'</li><li>'package:lubridate'</li><li>'package:cluster'</li><li>'jupyter:irkernel'</li><li>'package:stats'</li><li>'package:graphics'</li><li>'package:grDevices'</li><li>'package:utils'</li><li>'package:datasets'</li><li>'package:methods'</li><li>'Autoloads'</li><li>'package:base'</li></ol>\n"
            ],
            "text/markdown": "1. '.GlobalEnv'\n2. 'package:lubridate'\n3. 'package:cluster'\n4. 'jupyter:irkernel'\n5. 'package:stats'\n6. 'package:graphics'\n7. 'package:grDevices'\n8. 'package:utils'\n9. 'package:datasets'\n10. 'package:methods'\n11. 'Autoloads'\n12. 'package:base'\n\n\n",
            "text/latex": "\\begin{enumerate*}\n\\item '.GlobalEnv'\n\\item 'package:lubridate'\n\\item 'package:cluster'\n\\item 'jupyter:irkernel'\n\\item 'package:stats'\n\\item 'package:graphics'\n\\item 'package:grDevices'\n\\item 'package:utils'\n\\item 'package:datasets'\n\\item 'package:methods'\n\\item 'Autoloads'\n\\item 'package:base'\n\\end{enumerate*}\n",
            "text/plain": [
              " [1] \".GlobalEnv\"        \"package:lubridate\" \"package:cluster\"  \n",
              " [4] \"jupyter:irkernel\"  \"package:stats\"     \"package:graphics\" \n",
              " [7] \"package:grDevices\" \"package:utils\"     \"package:datasets\" \n",
              "[10] \"package:methods\"   \"Autoloads\"         \"package:base\"     "
            ]
          },
          "metadata": {}
        }
      ]
    },
    {
      "cell_type": "markdown",
      "source": [
        "## С помощью :: показываем R, из какого пакета нам нужна функция"
      ],
      "metadata": {
        "id": "JYYN9mepHuhA"
      }
    },
    {
      "cell_type": "code",
      "source": [
        "lubridate::dmy(\"01/01/1970\")"
      ],
      "metadata": {
        "colab": {
          "base_uri": "https://localhost:8080/",
          "height": 34
        },
        "id": "QfmqPNuvH1Fy",
        "executionInfo": {
          "status": "ok",
          "timestamp": 1684703036842,
          "user_tz": -180,
          "elapsed": 411,
          "user": {
            "displayName": "Daniel D",
            "userId": "11270935181438165191"
          }
        },
        "outputId": "4ccdf6e2-4b20-4051-90c9-4be2a956ffd8"
      },
      "execution_count": null,
      "outputs": [
        {
          "output_type": "display_data",
          "data": {
            "text/html": [
              "<time datetime=\"1970-01-01\">1970-01-01</time>"
            ],
            "text/markdown": "1970-01-01",
            "text/latex": "1970-01-01",
            "text/plain": [
              "[1] \"1970-01-01\""
            ]
          },
          "metadata": {}
        }
      ]
    },
    {
      "cell_type": "markdown",
      "source": [
        "## Метод Монте-Карло\n",
        "\n",
        "Существует много способов вычисления числа Пи. Самым простым и понятным является численный метод Монте-Карло, суть которого сводится к простейшему перебору точек на площади. Суть расчета заключается в том, что мы берем квадрат со стороной $a = 2*R$, вписываем в него круг радиусом $R$. И начинаем наугад ставить точки внутри квадрата. Геометрически, вероятность $P1$ того, чтот точка попадет в круг, равна отношению площадей круга и квадрата:\n",
        "\n",
        "$P1=S_{круг} / S_{квадрат} = πR^2 / a^2 = πR^2 / (2R)^2= π^2 / (2)^2 = π / 4$\n",
        "\n",
        "Выглядит это так:\n"
      ],
      "metadata": {
        "id": "ntTTWwocMNzg"
      }
    },
    {
      "cell_type": "code",
      "source": [
        "runs <- 100000\n",
        "# runif samples from a uniform distribution\n",
        "xs <- runif(runs, min=-0.5, max=0.5)\n",
        "ys <- runif(runs, min=-0.5, max=0.5)\n",
        "in.circle <- xs^2 + ys^2 <= 0.5^2\n",
        "mc.pi <- (sum(in.circle)/runs)*4\n",
        "plot(\n",
        "    xs, ys, pch='.',\n",
        "    col=ifelse(in.circle, \"blue\", \"grey\"),\n",
        "    xlab='', ylab='', asp=1,\n",
        "    main=paste(\"MC Approximation of Pi =\", mc.pi)\n",
        ")"
      ],
      "metadata": {
        "colab": {
          "base_uri": "https://localhost:8080/",
          "height": 437
        },
        "id": "CSSXfb2OHoes",
        "executionInfo": {
          "status": "ok",
          "timestamp": 1684703567718,
          "user_tz": -180,
          "elapsed": 1034,
          "user": {
            "displayName": "Daniel D",
            "userId": "11270935181438165191"
          }
        },
        "outputId": "5cad5ed9-e9a3-49d0-993a-946a913cb39f"
      },
      "execution_count": null,
      "outputs": [
        {
          "output_type": "display_data",
          "data": {
            "text/plain": [
              "Plot with title “MC Approximation of Pi = 3.14104”"
            ],
            "image/png": "[encoded data removed]"
          },
          "metadata": {
            "image/png": {
              "width": 420,
              "height": 420
            }
          }
        }
      ]
    },
    {
      "cell_type": "markdown",
      "source": [
        "## Пакет \"dplyr\" и оператор pipe"
      ],
      "metadata": {
        "id": "rKQmw5N2Mryl"
      }
    },
    {
      "cell_type": "code",
      "source": [
        "library(dplyr)"
      ],
      "metadata": {
        "colab": {
          "base_uri": "https://localhost:8080/"
        },
        "id": "ZpZGDUwuM6gi",
        "executionInfo": {
          "status": "ok",
          "timestamp": 1684703570899,
          "user_tz": -180,
          "elapsed": 386,
          "user": {
            "displayName": "Daniel D",
            "userId": "11270935181438165191"
          }
        },
        "outputId": "065893da-4785-4791-9d9c-6d34c735879b"
      },
      "execution_count": null,
      "outputs": [
        {
          "output_type": "stream",
          "name": "stderr",
          "text": [
            "\n",
            "Attaching package: ‘dplyr’\n",
            "\n",
            "\n",
            "The following objects are masked from ‘package:stats’:\n",
            "\n",
            "    filter, lag\n",
            "\n",
            "\n",
            "The following objects are masked from ‘package:base’:\n",
            "\n",
            "    intersect, setdiff, setequal, union\n",
            "\n",
            "\n"
          ]
        }
      ]
    },
    {
      "cell_type": "code",
      "source": [
        "iris %>% dim"
      ],
      "metadata": {
        "colab": {
          "base_uri": "https://localhost:8080/",
          "height": 34
        },
        "id": "U58jVxFtHony",
        "executionInfo": {
          "status": "ok",
          "timestamp": 1684703575809,
          "user_tz": -180,
          "elapsed": 382,
          "user": {
            "displayName": "Daniel D",
            "userId": "11270935181438165191"
          }
        },
        "outputId": "4f4054c6-804a-479c-f2cd-8a11357e34d6"
      },
      "execution_count": null,
      "outputs": [
        {
          "output_type": "display_data",
          "data": {
            "text/html": [
              "<style>\n",
              ".list-inline {list-style: none; margin:0; padding: 0}\n",
              ".list-inline>li {display: inline-block}\n",
              ".list-inline>li:not(:last-child)::after {content: \"\\00b7\"; padding: 0 .5ex}\n",
              "</style>\n",
              "<ol class=list-inline><li>150</li><li>5</li></ol>\n"
            ],
            "text/markdown": "1. 150\n2. 5\n\n\n",
            "text/latex": "\\begin{enumerate*}\n\\item 150\n\\item 5\n\\end{enumerate*}\n",
            "text/plain": [
              "[1] 150   5"
            ]
          },
          "metadata": {}
        }
      ]
    },
    {
      "cell_type": "code",
      "source": [
        "head(iris %>% filter(Species==\"versicolor\"))"
      ],
      "metadata": {
        "colab": {
          "base_uri": "https://localhost:8080/",
          "height": 286
        },
        "id": "cEP8ZhfEHow0",
        "executionInfo": {
          "status": "ok",
          "timestamp": 1684703583106,
          "user_tz": -180,
          "elapsed": 389,
          "user": {
            "displayName": "Daniel D",
            "userId": "11270935181438165191"
          }
        },
        "outputId": "a5a99c45-1b45-44b4-9056-f0cccdf1e2fd"
      },
      "execution_count": null,
      "outputs": [
        {
          "output_type": "display_data",
          "data": {
            "text/html": [
              "<table class=\"dataframe\">\n",
              "<caption>A data.frame: 6 × 5</caption>\n",
              "<thead>\n",
              "\t<tr><th></th><th scope=col>Sepal.Length</th><th scope=col>Sepal.Width</th><th scope=col>Petal.Length</th><th scope=col>Petal.Width</th><th scope=col>Species</th></tr>\n",
              "\t<tr><th></th><th scope=col>&lt;dbl&gt;</th><th scope=col>&lt;dbl&gt;</th><th scope=col>&lt;dbl&gt;</th><th scope=col>&lt;dbl&gt;</th><th scope=col>&lt;fct&gt;</th></tr>\n",
              "</thead>\n",
              "<tbody>\n",
              "\t<tr><th scope=row>1</th><td>7.0</td><td>3.2</td><td>4.7</td><td>1.4</td><td>versicolor</td></tr>\n",
              "\t<tr><th scope=row>2</th><td>6.4</td><td>3.2</td><td>4.5</td><td>1.5</td><td>versicolor</td></tr>\n",
              "\t<tr><th scope=row>3</th><td>6.9</td><td>3.1</td><td>4.9</td><td>1.5</td><td>versicolor</td></tr>\n",
              "\t<tr><th scope=row>4</th><td>5.5</td><td>2.3</td><td>4.0</td><td>1.3</td><td>versicolor</td></tr>\n",
              "\t<tr><th scope=row>5</th><td>6.5</td><td>2.8</td><td>4.6</td><td>1.5</td><td>versicolor</td></tr>\n",
              "\t<tr><th scope=row>6</th><td>5.7</td><td>2.8</td><td>4.5</td><td>1.3</td><td>versicolor</td></tr>\n",
              "</tbody>\n",
              "</table>\n"
            ],
            "text/markdown": "\nA data.frame: 6 × 5\n\n| <!--/--> | Sepal.Length &lt;dbl&gt; | Sepal.Width &lt;dbl&gt; | Petal.Length &lt;dbl&gt; | Petal.Width &lt;dbl&gt; | Species &lt;fct&gt; |\n|---|---|---|---|---|---|\n| 1 | 7.0 | 3.2 | 4.7 | 1.4 | versicolor |\n| 2 | 6.4 | 3.2 | 4.5 | 1.5 | versicolor |\n| 3 | 6.9 | 3.1 | 4.9 | 1.5 | versicolor |\n| 4 | 5.5 | 2.3 | 4.0 | 1.3 | versicolor |\n| 5 | 6.5 | 2.8 | 4.6 | 1.5 | versicolor |\n| 6 | 5.7 | 2.8 | 4.5 | 1.3 | versicolor |\n\n",
            "text/latex": "A data.frame: 6 × 5\n\\begin{tabular}{r|lllll}\n  & Sepal.Length & Sepal.Width & Petal.Length & Petal.Width & Species\\\\\n  & <dbl> & <dbl> & <dbl> & <dbl> & <fct>\\\\\n\\hline\n\t1 & 7.0 & 3.2 & 4.7 & 1.4 & versicolor\\\\\n\t2 & 6.4 & 3.2 & 4.5 & 1.5 & versicolor\\\\\n\t3 & 6.9 & 3.1 & 4.9 & 1.5 & versicolor\\\\\n\t4 & 5.5 & 2.3 & 4.0 & 1.3 & versicolor\\\\\n\t5 & 6.5 & 2.8 & 4.6 & 1.5 & versicolor\\\\\n\t6 & 5.7 & 2.8 & 4.5 & 1.3 & versicolor\\\\\n\\end{tabular}\n",
            "text/plain": [
              "  Sepal.Length Sepal.Width Petal.Length Petal.Width Species   \n",
              "1 7.0          3.2         4.7          1.4         versicolor\n",
              "2 6.4          3.2         4.5          1.5         versicolor\n",
              "3 6.9          3.1         4.9          1.5         versicolor\n",
              "4 5.5          2.3         4.0          1.3         versicolor\n",
              "5 6.5          2.8         4.6          1.5         versicolor\n",
              "6 5.7          2.8         4.5          1.3         versicolor"
            ]
          },
          "metadata": {}
        }
      ]
    },
    {
      "cell_type": "code",
      "source": [
        "head(iris %>% filter(Species==\"versicolor\") %>% select(Petal.Length))"
      ],
      "metadata": {
        "colab": {
          "base_uri": "https://localhost:8080/",
          "height": 286
        },
        "id": "18BP8mB8Ho51",
        "executionInfo": {
          "status": "ok",
          "timestamp": 1684703590848,
          "user_tz": -180,
          "elapsed": 408,
          "user": {
            "displayName": "Daniel D",
            "userId": "11270935181438165191"
          }
        },
        "outputId": "a248a43e-22d3-44b4-c7a7-90d7268af230"
      },
      "execution_count": null,
      "outputs": [
        {
          "output_type": "display_data",
          "data": {
            "text/html": [
              "<table class=\"dataframe\">\n",
              "<caption>A data.frame: 6 × 1</caption>\n",
              "<thead>\n",
              "\t<tr><th></th><th scope=col>Petal.Length</th></tr>\n",
              "\t<tr><th></th><th scope=col>&lt;dbl&gt;</th></tr>\n",
              "</thead>\n",
              "<tbody>\n",
              "\t<tr><th scope=row>1</th><td>4.7</td></tr>\n",
              "\t<tr><th scope=row>2</th><td>4.5</td></tr>\n",
              "\t<tr><th scope=row>3</th><td>4.9</td></tr>\n",
              "\t<tr><th scope=row>4</th><td>4.0</td></tr>\n",
              "\t<tr><th scope=row>5</th><td>4.6</td></tr>\n",
              "\t<tr><th scope=row>6</th><td>4.5</td></tr>\n",
              "</tbody>\n",
              "</table>\n"
            ],
            "text/markdown": "\nA data.frame: 6 × 1\n\n| <!--/--> | Petal.Length &lt;dbl&gt; |\n|---|---|\n| 1 | 4.7 |\n| 2 | 4.5 |\n| 3 | 4.9 |\n| 4 | 4.0 |\n| 5 | 4.6 |\n| 6 | 4.5 |\n\n",
            "text/latex": "A data.frame: 6 × 1\n\\begin{tabular}{r|l}\n  & Petal.Length\\\\\n  & <dbl>\\\\\n\\hline\n\t1 & 4.7\\\\\n\t2 & 4.5\\\\\n\t3 & 4.9\\\\\n\t4 & 4.0\\\\\n\t5 & 4.6\\\\\n\t6 & 4.5\\\\\n\\end{tabular}\n",
            "text/plain": [
              "  Petal.Length\n",
              "1 4.7         \n",
              "2 4.5         \n",
              "3 4.9         \n",
              "4 4.0         \n",
              "5 4.6         \n",
              "6 4.5         "
            ]
          },
          "metadata": {}
        }
      ]
    },
    {
      "cell_type": "code",
      "source": [
        "vc <- as.numeric(iris %>% filter(Species==\"versicolor\") %>% select(Petal.Length) %>% unlist)\n",
        "vc"
      ],
      "metadata": {
        "colab": {
          "base_uri": "https://localhost:8080/",
          "height": 34
        },
        "id": "AYvabitHNJV2",
        "executionInfo": {
          "status": "ok",
          "timestamp": 1684703599004,
          "user_tz": -180,
          "elapsed": 425,
          "user": {
            "displayName": "Daniel D",
            "userId": "11270935181438165191"
          }
        },
        "outputId": "9e4ced89-517a-4326-887d-6fe1dcfb3122"
      },
      "execution_count": null,
      "outputs": [
        {
          "output_type": "display_data",
          "data": {
            "text/html": [
              "<style>\n",
              ".list-inline {list-style: none; margin:0; padding: 0}\n",
              ".list-inline>li {display: inline-block}\n",
              ".list-inline>li:not(:last-child)::after {content: \"\\00b7\"; padding: 0 .5ex}\n",
              "</style>\n",
              "<ol class=list-inline><li>4.7</li><li>4.5</li><li>4.9</li><li>4</li><li>4.6</li><li>4.5</li><li>4.7</li><li>3.3</li><li>4.6</li><li>3.9</li><li>3.5</li><li>4.2</li><li>4</li><li>4.7</li><li>3.6</li><li>4.4</li><li>4.5</li><li>4.1</li><li>4.5</li><li>3.9</li><li>4.8</li><li>4</li><li>4.9</li><li>4.7</li><li>4.3</li><li>4.4</li><li>4.8</li><li>5</li><li>4.5</li><li>3.5</li><li>3.8</li><li>3.7</li><li>3.9</li><li>5.1</li><li>4.5</li><li>4.5</li><li>4.7</li><li>4.4</li><li>4.1</li><li>4</li><li>4.4</li><li>4.6</li><li>4</li><li>3.3</li><li>4.2</li><li>4.2</li><li>4.2</li><li>4.3</li><li>3</li><li>4.1</li></ol>\n"
            ],
            "text/markdown": "1. 4.7\n2. 4.5\n3. 4.9\n4. 4\n5. 4.6\n6. 4.5\n7. 4.7\n8. 3.3\n9. 4.6\n10. 3.9\n11. 3.5\n12. 4.2\n13. 4\n14. 4.7\n15. 3.6\n16. 4.4\n17. 4.5\n18. 4.1\n19. 4.5\n20. 3.9\n21. 4.8\n22. 4\n23. 4.9\n24. 4.7\n25. 4.3\n26. 4.4\n27. 4.8\n28. 5\n29. 4.5\n30. 3.5\n31. 3.8\n32. 3.7\n33. 3.9\n34. 5.1\n35. 4.5\n36. 4.5\n37. 4.7\n38. 4.4\n39. 4.1\n40. 4\n41. 4.4\n42. 4.6\n43. 4\n44. 3.3\n45. 4.2\n46. 4.2\n47. 4.2\n48. 4.3\n49. 3\n50. 4.1\n\n\n",
            "text/latex": "\\begin{enumerate*}\n\\item 4.7\n\\item 4.5\n\\item 4.9\n\\item 4\n\\item 4.6\n\\item 4.5\n\\item 4.7\n\\item 3.3\n\\item 4.6\n\\item 3.9\n\\item 3.5\n\\item 4.2\n\\item 4\n\\item 4.7\n\\item 3.6\n\\item 4.4\n\\item 4.5\n\\item 4.1\n\\item 4.5\n\\item 3.9\n\\item 4.8\n\\item 4\n\\item 4.9\n\\item 4.7\n\\item 4.3\n\\item 4.4\n\\item 4.8\n\\item 5\n\\item 4.5\n\\item 3.5\n\\item 3.8\n\\item 3.7\n\\item 3.9\n\\item 5.1\n\\item 4.5\n\\item 4.5\n\\item 4.7\n\\item 4.4\n\\item 4.1\n\\item 4\n\\item 4.4\n\\item 4.6\n\\item 4\n\\item 3.3\n\\item 4.2\n\\item 4.2\n\\item 4.2\n\\item 4.3\n\\item 3\n\\item 4.1\n\\end{enumerate*}\n",
            "text/plain": [
              " [1] 4.7 4.5 4.9 4.0 4.6 4.5 4.7 3.3 4.6 3.9 3.5 4.2 4.0 4.7 3.6 4.4 4.5 4.1 4.5\n",
              "[20] 3.9 4.8 4.0 4.9 4.7 4.3 4.4 4.8 5.0 4.5 3.5 3.8 3.7 3.9 5.1 4.5 4.5 4.7 4.4\n",
              "[39] 4.1 4.0 4.4 4.6 4.0 3.3 4.2 4.2 4.2 4.3 3.0 4.1"
            ]
          },
          "metadata": {}
        }
      ]
    },
    {
      "cell_type": "markdown",
      "source": [
        "Сделаем то же самое, найдем длину лепестков , только для \"virginica\". И с помощью оператора %in% посмотрим, сколько совпадений в длине лепестков двух разных видов цветка"
      ],
      "metadata": {
        "id": "i3m8QPHGKaiP"
      }
    },
    {
      "cell_type": "code",
      "source": [
        "vg <- as.numeric(iris %>% filter (Species==\"virginica\") %>% select(Petal.Length) %>% unlist)\n",
        "vg"
      ],
      "metadata": {
        "colab": {
          "base_uri": "https://localhost:8080/",
          "height": 34
        },
        "id": "bDDeOMWJKjPu",
        "executionInfo": {
          "status": "ok",
          "timestamp": 1684703729048,
          "user_tz": -180,
          "elapsed": 569,
          "user": {
            "displayName": "Daniel D",
            "userId": "11270935181438165191"
          }
        },
        "outputId": "5fd84f12-6b4f-4854-e5cd-1d76b65a5921"
      },
      "execution_count": null,
      "outputs": [
        {
          "output_type": "display_data",
          "data": {
            "text/html": [
              "<style>\n",
              ".list-inline {list-style: none; margin:0; padding: 0}\n",
              ".list-inline>li {display: inline-block}\n",
              ".list-inline>li:not(:last-child)::after {content: \"\\00b7\"; padding: 0 .5ex}\n",
              "</style>\n",
              "<ol class=list-inline><li>6</li><li>5.1</li><li>5.9</li><li>5.6</li><li>5.8</li><li>6.6</li><li>4.5</li><li>6.3</li><li>5.8</li><li>6.1</li><li>5.1</li><li>5.3</li><li>5.5</li><li>5</li><li>5.1</li><li>5.3</li><li>5.5</li><li>6.7</li><li>6.9</li><li>5</li><li>5.7</li><li>4.9</li><li>6.7</li><li>4.9</li><li>5.7</li><li>6</li><li>4.8</li><li>4.9</li><li>5.6</li><li>5.8</li><li>6.1</li><li>6.4</li><li>5.6</li><li>5.1</li><li>5.6</li><li>6.1</li><li>5.6</li><li>5.5</li><li>4.8</li><li>5.4</li><li>5.6</li><li>5.1</li><li>5.1</li><li>5.9</li><li>5.7</li><li>5.2</li><li>5</li><li>5.2</li><li>5.4</li><li>5.1</li></ol>\n"
            ],
            "text/markdown": "1. 6\n2. 5.1\n3. 5.9\n4. 5.6\n5. 5.8\n6. 6.6\n7. 4.5\n8. 6.3\n9. 5.8\n10. 6.1\n11. 5.1\n12. 5.3\n13. 5.5\n14. 5\n15. 5.1\n16. 5.3\n17. 5.5\n18. 6.7\n19. 6.9\n20. 5\n21. 5.7\n22. 4.9\n23. 6.7\n24. 4.9\n25. 5.7\n26. 6\n27. 4.8\n28. 4.9\n29. 5.6\n30. 5.8\n31. 6.1\n32. 6.4\n33. 5.6\n34. 5.1\n35. 5.6\n36. 6.1\n37. 5.6\n38. 5.5\n39. 4.8\n40. 5.4\n41. 5.6\n42. 5.1\n43. 5.1\n44. 5.9\n45. 5.7\n46. 5.2\n47. 5\n48. 5.2\n49. 5.4\n50. 5.1\n\n\n",
            "text/latex": "\\begin{enumerate*}\n\\item 6\n\\item 5.1\n\\item 5.9\n\\item 5.6\n\\item 5.8\n\\item 6.6\n\\item 4.5\n\\item 6.3\n\\item 5.8\n\\item 6.1\n\\item 5.1\n\\item 5.3\n\\item 5.5\n\\item 5\n\\item 5.1\n\\item 5.3\n\\item 5.5\n\\item 6.7\n\\item 6.9\n\\item 5\n\\item 5.7\n\\item 4.9\n\\item 6.7\n\\item 4.9\n\\item 5.7\n\\item 6\n\\item 4.8\n\\item 4.9\n\\item 5.6\n\\item 5.8\n\\item 6.1\n\\item 6.4\n\\item 5.6\n\\item 5.1\n\\item 5.6\n\\item 6.1\n\\item 5.6\n\\item 5.5\n\\item 4.8\n\\item 5.4\n\\item 5.6\n\\item 5.1\n\\item 5.1\n\\item 5.9\n\\item 5.7\n\\item 5.2\n\\item 5\n\\item 5.2\n\\item 5.4\n\\item 5.1\n\\end{enumerate*}\n",
            "text/plain": [
              " [1] 6.0 5.1 5.9 5.6 5.8 6.6 4.5 6.3 5.8 6.1 5.1 5.3 5.5 5.0 5.1 5.3 5.5 6.7 6.9\n",
              "[20] 5.0 5.7 4.9 6.7 4.9 5.7 6.0 4.8 4.9 5.6 5.8 6.1 6.4 5.6 5.1 5.6 6.1 5.6 5.5\n",
              "[39] 4.8 5.4 5.6 5.1 5.1 5.9 5.7 5.2 5.0 5.2 5.4 5.1"
            ]
          },
          "metadata": {}
        }
      ]
    },
    {
      "cell_type": "code",
      "source": [
        "vc %in% vg"
      ],
      "metadata": {
        "colab": {
          "base_uri": "https://localhost:8080/",
          "height": 52
        },
        "id": "anb0kkP1Kv0i",
        "executionInfo": {
          "status": "ok",
          "timestamp": 1684703750872,
          "user_tz": -180,
          "elapsed": 3,
          "user": {
            "displayName": "Daniel D",
            "userId": "11270935181438165191"
          }
        },
        "outputId": "07ee80ac-6994-41f3-8851-8ccd2d7dffdd"
      },
      "execution_count": null,
      "outputs": [
        {
          "output_type": "display_data",
          "data": {
            "text/html": [
              "<style>\n",
              ".list-inline {list-style: none; margin:0; padding: 0}\n",
              ".list-inline>li {display: inline-block}\n",
              ".list-inline>li:not(:last-child)::after {content: \"\\00b7\"; padding: 0 .5ex}\n",
              "</style>\n",
              "<ol class=list-inline><li>FALSE</li><li>TRUE</li><li>TRUE</li><li>FALSE</li><li>FALSE</li><li>TRUE</li><li>FALSE</li><li>FALSE</li><li>FALSE</li><li>FALSE</li><li>FALSE</li><li>FALSE</li><li>FALSE</li><li>FALSE</li><li>FALSE</li><li>FALSE</li><li>TRUE</li><li>FALSE</li><li>TRUE</li><li>FALSE</li><li>TRUE</li><li>FALSE</li><li>TRUE</li><li>FALSE</li><li>FALSE</li><li>FALSE</li><li>TRUE</li><li>TRUE</li><li>TRUE</li><li>FALSE</li><li>FALSE</li><li>FALSE</li><li>FALSE</li><li>TRUE</li><li>TRUE</li><li>TRUE</li><li>FALSE</li><li>FALSE</li><li>FALSE</li><li>FALSE</li><li>FALSE</li><li>FALSE</li><li>FALSE</li><li>FALSE</li><li>FALSE</li><li>FALSE</li><li>FALSE</li><li>FALSE</li><li>FALSE</li><li>FALSE</li></ol>\n"
            ],
            "text/markdown": "1. FALSE\n2. TRUE\n3. TRUE\n4. FALSE\n5. FALSE\n6. TRUE\n7. FALSE\n8. FALSE\n9. FALSE\n10. FALSE\n11. FALSE\n12. FALSE\n13. FALSE\n14. FALSE\n15. FALSE\n16. FALSE\n17. TRUE\n18. FALSE\n19. TRUE\n20. FALSE\n21. TRUE\n22. FALSE\n23. TRUE\n24. FALSE\n25. FALSE\n26. FALSE\n27. TRUE\n28. TRUE\n29. TRUE\n30. FALSE\n31. FALSE\n32. FALSE\n33. FALSE\n34. TRUE\n35. TRUE\n36. TRUE\n37. FALSE\n38. FALSE\n39. FALSE\n40. FALSE\n41. FALSE\n42. FALSE\n43. FALSE\n44. FALSE\n45. FALSE\n46. FALSE\n47. FALSE\n48. FALSE\n49. FALSE\n50. FALSE\n\n\n",
            "text/latex": "\\begin{enumerate*}\n\\item FALSE\n\\item TRUE\n\\item TRUE\n\\item FALSE\n\\item FALSE\n\\item TRUE\n\\item FALSE\n\\item FALSE\n\\item FALSE\n\\item FALSE\n\\item FALSE\n\\item FALSE\n\\item FALSE\n\\item FALSE\n\\item FALSE\n\\item FALSE\n\\item TRUE\n\\item FALSE\n\\item TRUE\n\\item FALSE\n\\item TRUE\n\\item FALSE\n\\item TRUE\n\\item FALSE\n\\item FALSE\n\\item FALSE\n\\item TRUE\n\\item TRUE\n\\item TRUE\n\\item FALSE\n\\item FALSE\n\\item FALSE\n\\item FALSE\n\\item TRUE\n\\item TRUE\n\\item TRUE\n\\item FALSE\n\\item FALSE\n\\item FALSE\n\\item FALSE\n\\item FALSE\n\\item FALSE\n\\item FALSE\n\\item FALSE\n\\item FALSE\n\\item FALSE\n\\item FALSE\n\\item FALSE\n\\item FALSE\n\\item FALSE\n\\end{enumerate*}\n",
            "text/plain": [
              " [1] FALSE  TRUE  TRUE FALSE FALSE  TRUE FALSE FALSE FALSE FALSE FALSE FALSE\n",
              "[13] FALSE FALSE FALSE FALSE  TRUE FALSE  TRUE FALSE  TRUE FALSE  TRUE FALSE\n",
              "[25] FALSE FALSE  TRUE  TRUE  TRUE FALSE FALSE FALSE FALSE  TRUE  TRUE  TRUE\n",
              "[37] FALSE FALSE FALSE FALSE FALSE FALSE FALSE FALSE FALSE FALSE FALSE FALSE\n",
              "[49] FALSE FALSE"
            ]
          },
          "metadata": {}
        }
      ]
    },
    {
      "cell_type": "code",
      "source": [
        "sum(vc %in% vg)"
      ],
      "metadata": {
        "colab": {
          "base_uri": "https://localhost:8080/",
          "height": 34
        },
        "id": "TlvXie5OK0jw",
        "executionInfo": {
          "status": "ok",
          "timestamp": 1684703767510,
          "user_tz": -180,
          "elapsed": 384,
          "user": {
            "displayName": "Daniel D",
            "userId": "11270935181438165191"
          }
        },
        "outputId": "7eb3df38-2f8d-4708-ad7d-c694ed4413f4"
      },
      "execution_count": null,
      "outputs": [
        {
          "output_type": "display_data",
          "data": {
            "text/html": [
              "13"
            ],
            "text/markdown": "13",
            "text/latex": "13",
            "text/plain": [
              "[1] 13"
            ]
          },
          "metadata": {}
        }
      ]
    },
    {
      "cell_type": "markdown",
      "source": [
        "## Сохраняем набор данных в формате CSV"
      ],
      "metadata": {
        "id": "6MYvyYhSOpBJ"
      }
    },
    {
      "cell_type": "code",
      "source": [
        "a <- c(1, 2, 3)\n",
        "b <- c(0, 0, 0)"
      ],
      "metadata": {
        "id": "InMCpiP_NJ_Q"
      },
      "execution_count": null,
      "outputs": []
    },
    {
      "cell_type": "code",
      "source": [
        "nm <- c(\"1_row\", \"2_row\", \"3_row\")"
      ],
      "metadata": {
        "id": "GfYs0C5sNKcC"
      },
      "execution_count": null,
      "outputs": []
    },
    {
      "cell_type": "code",
      "source": [
        "df <- data.frame(a, b)\n",
        "df"
      ],
      "metadata": {
        "colab": {
          "base_uri": "https://localhost:8080/",
          "height": 210
        },
        "id": "LPySh0qjNK1O",
        "executionInfo": {
          "status": "ok",
          "timestamp": 1684704053827,
          "user_tz": -180,
          "elapsed": 3,
          "user": {
            "displayName": "Daniel D",
            "userId": "11270935181438165191"
          }
        },
        "outputId": "b3385b9d-f537-4ef0-8d1f-35f40e2af393"
      },
      "execution_count": null,
      "outputs": [
        {
          "output_type": "display_data",
          "data": {
            "text/html": [
              "<table class=\"dataframe\">\n",
              "<caption>A data.frame: 3 × 2</caption>\n",
              "<thead>\n",
              "\t<tr><th scope=col>a</th><th scope=col>b</th></tr>\n",
              "\t<tr><th scope=col>&lt;dbl&gt;</th><th scope=col>&lt;dbl&gt;</th></tr>\n",
              "</thead>\n",
              "<tbody>\n",
              "\t<tr><td>1</td><td>0</td></tr>\n",
              "\t<tr><td>2</td><td>0</td></tr>\n",
              "\t<tr><td>3</td><td>0</td></tr>\n",
              "</tbody>\n",
              "</table>\n"
            ],
            "text/markdown": "\nA data.frame: 3 × 2\n\n| a &lt;dbl&gt; | b &lt;dbl&gt; |\n|---|---|\n| 1 | 0 |\n| 2 | 0 |\n| 3 | 0 |\n\n",
            "text/latex": "A data.frame: 3 × 2\n\\begin{tabular}{ll}\n a & b\\\\\n <dbl> & <dbl>\\\\\n\\hline\n\t 1 & 0\\\\\n\t 2 & 0\\\\\n\t 3 & 0\\\\\n\\end{tabular}\n",
            "text/plain": [
              "  a b\n",
              "1 1 0\n",
              "2 2 0\n",
              "3 3 0"
            ]
          },
          "metadata": {}
        }
      ]
    },
    {
      "cell_type": "code",
      "source": [
        "df[\"rownames\"] = nm\n",
        "df"
      ],
      "metadata": {
        "colab": {
          "base_uri": "https://localhost:8080/",
          "height": 192
        },
        "id": "y2umlMsLNK-K",
        "executionInfo": {
          "status": "ok",
          "timestamp": 1684704054242,
          "user_tz": -180,
          "elapsed": 3,
          "user": {
            "displayName": "Daniel D",
            "userId": "11270935181438165191"
          }
        },
        "outputId": "739445d9-912f-4fbd-b471-81172c6a20ea"
      },
      "execution_count": null,
      "outputs": [
        {
          "output_type": "display_data",
          "data": {
            "text/html": [
              "<table class=\"dataframe\">\n",
              "<caption>A data.frame: 3 × 3</caption>\n",
              "<thead>\n",
              "\t<tr><th scope=col>a</th><th scope=col>b</th><th scope=col>rownames</th></tr>\n",
              "\t<tr><th scope=col>&lt;dbl&gt;</th><th scope=col>&lt;dbl&gt;</th><th scope=col>&lt;chr&gt;</th></tr>\n",
              "</thead>\n",
              "<tbody>\n",
              "\t<tr><td>1</td><td>0</td><td>1_row</td></tr>\n",
              "\t<tr><td>2</td><td>0</td><td>2_row</td></tr>\n",
              "\t<tr><td>3</td><td>0</td><td>3_row</td></tr>\n",
              "</tbody>\n",
              "</table>\n"
            ],
            "text/markdown": "\nA data.frame: 3 × 3\n\n| a &lt;dbl&gt; | b &lt;dbl&gt; | rownames &lt;chr&gt; |\n|---|---|---|\n| 1 | 0 | 1_row |\n| 2 | 0 | 2_row |\n| 3 | 0 | 3_row |\n\n",
            "text/latex": "A data.frame: 3 × 3\n\\begin{tabular}{lll}\n a & b & rownames\\\\\n <dbl> & <dbl> & <chr>\\\\\n\\hline\n\t 1 & 0 & 1\\_row\\\\\n\t 2 & 0 & 2\\_row\\\\\n\t 3 & 0 & 3\\_row\\\\\n\\end{tabular}\n",
            "text/plain": [
              "  a b rownames\n",
              "1 1 0 1_row   \n",
              "2 2 0 2_row   \n",
              "3 3 0 3_row   "
            ]
          },
          "metadata": {}
        }
      ]
    },
    {
      "cell_type": "code",
      "source": [
        "df <- df[c(\"rownames\", \"a\", \"b\")]\n",
        "df"
      ],
      "metadata": {
        "colab": {
          "base_uri": "https://localhost:8080/",
          "height": 192
        },
        "id": "mFQwenezNLGc",
        "executionInfo": {
          "status": "ok",
          "timestamp": 1684704055485,
          "user_tz": -180,
          "elapsed": 5,
          "user": {
            "displayName": "Daniel D",
            "userId": "11270935181438165191"
          }
        },
        "outputId": "e4beab35-8129-48fe-cafd-306682e32ce3"
      },
      "execution_count": null,
      "outputs": [
        {
          "output_type": "display_data",
          "data": {
            "text/html": [
              "<table class=\"dataframe\">\n",
              "<caption>A data.frame: 3 × 3</caption>\n",
              "<thead>\n",
              "\t<tr><th scope=col>rownames</th><th scope=col>a</th><th scope=col>b</th></tr>\n",
              "\t<tr><th scope=col>&lt;chr&gt;</th><th scope=col>&lt;dbl&gt;</th><th scope=col>&lt;dbl&gt;</th></tr>\n",
              "</thead>\n",
              "<tbody>\n",
              "\t<tr><td>1_row</td><td>1</td><td>0</td></tr>\n",
              "\t<tr><td>2_row</td><td>2</td><td>0</td></tr>\n",
              "\t<tr><td>3_row</td><td>3</td><td>0</td></tr>\n",
              "</tbody>\n",
              "</table>\n"
            ],
            "text/markdown": "\nA data.frame: 3 × 3\n\n| rownames &lt;chr&gt; | a &lt;dbl&gt; | b &lt;dbl&gt; |\n|---|---|---|\n| 1_row | 1 | 0 |\n| 2_row | 2 | 0 |\n| 3_row | 3 | 0 |\n\n",
            "text/latex": "A data.frame: 3 × 3\n\\begin{tabular}{lll}\n rownames & a & b\\\\\n <chr> & <dbl> & <dbl>\\\\\n\\hline\n\t 1\\_row & 1 & 0\\\\\n\t 2\\_row & 2 & 0\\\\\n\t 3\\_row & 3 & 0\\\\\n\\end{tabular}\n",
            "text/plain": [
              "  rownames a b\n",
              "1 1_row    1 0\n",
              "2 2_row    2 0\n",
              "3 3_row    3 0"
            ]
          },
          "metadata": {}
        }
      ]
    },
    {
      "cell_type": "code",
      "source": [
        "filename <- \"new_dataframe.csv\"\n",
        "write.csv(df, file=filename)"
      ],
      "metadata": {
        "id": "E1txcysyNMgE"
      },
      "execution_count": null,
      "outputs": []
    },
    {
      "cell_type": "markdown",
      "source": [
        "## Функция read.csv() содержит множество аргументов\n",
        "\n",
        "Рассмотрим некоторые из них"
      ],
      "metadata": {
        "id": "8TnmnbZtLI-O"
      }
    },
    {
      "cell_type": "code",
      "source": [
        "read.csv(filename)"
      ],
      "metadata": {
        "colab": {
          "base_uri": "https://localhost:8080/",
          "height": 192
        },
        "id": "9ev08btXNMwl",
        "executionInfo": {
          "status": "ok",
          "timestamp": 1684704058747,
          "user_tz": -180,
          "elapsed": 390,
          "user": {
            "displayName": "Daniel D",
            "userId": "11270935181438165191"
          }
        },
        "outputId": "bf3c85d7-1c84-4f53-e8af-217f38884659"
      },
      "execution_count": null,
      "outputs": [
        {
          "output_type": "display_data",
          "data": {
            "text/html": [
              "<table class=\"dataframe\">\n",
              "<caption>A data.frame: 3 × 4</caption>\n",
              "<thead>\n",
              "\t<tr><th scope=col>X</th><th scope=col>rownames</th><th scope=col>a</th><th scope=col>b</th></tr>\n",
              "\t<tr><th scope=col>&lt;int&gt;</th><th scope=col>&lt;chr&gt;</th><th scope=col>&lt;int&gt;</th><th scope=col>&lt;int&gt;</th></tr>\n",
              "</thead>\n",
              "<tbody>\n",
              "\t<tr><td>1</td><td>1_row</td><td>1</td><td>0</td></tr>\n",
              "\t<tr><td>2</td><td>2_row</td><td>2</td><td>0</td></tr>\n",
              "\t<tr><td>3</td><td>3_row</td><td>3</td><td>0</td></tr>\n",
              "</tbody>\n",
              "</table>\n"
            ],
            "text/markdown": "\nA data.frame: 3 × 4\n\n| X &lt;int&gt; | rownames &lt;chr&gt; | a &lt;int&gt; | b &lt;int&gt; |\n|---|---|---|---|\n| 1 | 1_row | 1 | 0 |\n| 2 | 2_row | 2 | 0 |\n| 3 | 3_row | 3 | 0 |\n\n",
            "text/latex": "A data.frame: 3 × 4\n\\begin{tabular}{llll}\n X & rownames & a & b\\\\\n <int> & <chr> & <int> & <int>\\\\\n\\hline\n\t 1 & 1\\_row & 1 & 0\\\\\n\t 2 & 2\\_row & 2 & 0\\\\\n\t 3 & 3\\_row & 3 & 0\\\\\n\\end{tabular}\n",
            "text/plain": [
              "  X rownames a b\n",
              "1 1 1_row    1 0\n",
              "2 2 2_row    2 0\n",
              "3 3 3_row    3 0"
            ]
          },
          "metadata": {}
        }
      ]
    },
    {
      "cell_type": "code",
      "source": [
        "read.csv(filename, sep=\";\")"
      ],
      "metadata": {
        "colab": {
          "base_uri": "https://localhost:8080/",
          "height": 192
        },
        "id": "zuI7orq5L5F6",
        "executionInfo": {
          "status": "ok",
          "timestamp": 1684704072081,
          "user_tz": -180,
          "elapsed": 427,
          "user": {
            "displayName": "Daniel D",
            "userId": "11270935181438165191"
          }
        },
        "outputId": "79f57a95-d069-4a87-ca5b-4aa81d4cf0dd"
      },
      "execution_count": null,
      "outputs": [
        {
          "output_type": "display_data",
          "data": {
            "text/html": [
              "<table class=\"dataframe\">\n",
              "<caption>A data.frame: 3 × 1</caption>\n",
              "<thead>\n",
              "\t<tr><th scope=col>X.rownames.a.b</th></tr>\n",
              "\t<tr><th scope=col>&lt;chr&gt;</th></tr>\n",
              "</thead>\n",
              "<tbody>\n",
              "\t<tr><td>1,1_row,1,0</td></tr>\n",
              "\t<tr><td>2,2_row,2,0</td></tr>\n",
              "\t<tr><td>3,3_row,3,0</td></tr>\n",
              "</tbody>\n",
              "</table>\n"
            ],
            "text/markdown": "\nA data.frame: 3 × 1\n\n| X.rownames.a.b &lt;chr&gt; |\n|---|\n| 1,1_row,1,0 |\n| 2,2_row,2,0 |\n| 3,3_row,3,0 |\n\n",
            "text/latex": "A data.frame: 3 × 1\n\\begin{tabular}{l}\n X.rownames.a.b\\\\\n <chr>\\\\\n\\hline\n\t 1,1\\_row,1,0\\\\\n\t 2,2\\_row,2,0\\\\\n\t 3,3\\_row,3,0\\\\\n\\end{tabular}\n",
            "text/plain": [
              "  X.rownames.a.b\n",
              "1 1,1_row,1,0   \n",
              "2 2,2_row,2,0   \n",
              "3 3,3_row,3,0   "
            ]
          },
          "metadata": {}
        }
      ]
    },
    {
      "cell_type": "code",
      "source": [
        "read.csv(filename, sep=\",\", nrows=5, row.names=1)"
      ],
      "metadata": {
        "colab": {
          "base_uri": "https://localhost:8080/",
          "height": 192
        },
        "id": "EmLAA0ZQLS7X",
        "executionInfo": {
          "status": "ok",
          "timestamp": 1684704075189,
          "user_tz": -180,
          "elapsed": 388,
          "user": {
            "displayName": "Daniel D",
            "userId": "11270935181438165191"
          }
        },
        "outputId": "0b04b479-1b1f-4663-e3c1-7a58a9ce62a1"
      },
      "execution_count": null,
      "outputs": [
        {
          "output_type": "display_data",
          "data": {
            "text/html": [
              "<table class=\"dataframe\">\n",
              "<caption>A data.frame: 3 × 3</caption>\n",
              "<thead>\n",
              "\t<tr><th></th><th scope=col>rownames</th><th scope=col>a</th><th scope=col>b</th></tr>\n",
              "\t<tr><th></th><th scope=col>&lt;chr&gt;</th><th scope=col>&lt;int&gt;</th><th scope=col>&lt;int&gt;</th></tr>\n",
              "</thead>\n",
              "<tbody>\n",
              "\t<tr><th scope=row>1</th><td>1_row</td><td>1</td><td>0</td></tr>\n",
              "\t<tr><th scope=row>2</th><td>2_row</td><td>2</td><td>0</td></tr>\n",
              "\t<tr><th scope=row>3</th><td>3_row</td><td>3</td><td>0</td></tr>\n",
              "</tbody>\n",
              "</table>\n"
            ],
            "text/markdown": "\nA data.frame: 3 × 3\n\n| <!--/--> | rownames &lt;chr&gt; | a &lt;int&gt; | b &lt;int&gt; |\n|---|---|---|---|\n| 1 | 1_row | 1 | 0 |\n| 2 | 2_row | 2 | 0 |\n| 3 | 3_row | 3 | 0 |\n\n",
            "text/latex": "A data.frame: 3 × 3\n\\begin{tabular}{r|lll}\n  & rownames & a & b\\\\\n  & <chr> & <int> & <int>\\\\\n\\hline\n\t1 & 1\\_row & 1 & 0\\\\\n\t2 & 2\\_row & 2 & 0\\\\\n\t3 & 3\\_row & 3 & 0\\\\\n\\end{tabular}\n",
            "text/plain": [
              "  rownames a b\n",
              "1 1_row    1 0\n",
              "2 2_row    2 0\n",
              "3 3_row    3 0"
            ]
          },
          "metadata": {}
        }
      ]
    },
    {
      "cell_type": "markdown",
      "source": [
        "В качестве названия строк взяли первый столбец, причем первый столбец\n",
        "id исчез. Обратите внимание, что повторяющиеся значения в качестве\n",
        "наименования строк брать нельзя (например, столбец \"b\")"
      ],
      "metadata": {
        "id": "htCxRPTnMK8D"
      }
    },
    {
      "cell_type": "code",
      "source": [
        "read.csv(filename, sep=\",\", nrows=5, header=FALSE)"
      ],
      "metadata": {
        "colab": {
          "base_uri": "https://localhost:8080/",
          "height": 224
        },
        "id": "CSbrLbr7Mdzn",
        "executionInfo": {
          "status": "ok",
          "timestamp": 1684704197508,
          "user_tz": -180,
          "elapsed": 3,
          "user": {
            "displayName": "Daniel D",
            "userId": "11270935181438165191"
          }
        },
        "outputId": "48b164ad-4e02-4d86-e81c-ea5448aeef90"
      },
      "execution_count": null,
      "outputs": [
        {
          "output_type": "display_data",
          "data": {
            "text/html": [
              "<table class=\"dataframe\">\n",
              "<caption>A data.frame: 4 × 4</caption>\n",
              "<thead>\n",
              "\t<tr><th scope=col>V1</th><th scope=col>V2</th><th scope=col>V3</th><th scope=col>V4</th></tr>\n",
              "\t<tr><th scope=col>&lt;int&gt;</th><th scope=col>&lt;chr&gt;</th><th scope=col>&lt;chr&gt;</th><th scope=col>&lt;chr&gt;</th></tr>\n",
              "</thead>\n",
              "<tbody>\n",
              "\t<tr><td>NA</td><td>rownames</td><td>a</td><td>b</td></tr>\n",
              "\t<tr><td> 1</td><td>1_row   </td><td>1</td><td>0</td></tr>\n",
              "\t<tr><td> 2</td><td>2_row   </td><td>2</td><td>0</td></tr>\n",
              "\t<tr><td> 3</td><td>3_row   </td><td>3</td><td>0</td></tr>\n",
              "</tbody>\n",
              "</table>\n"
            ],
            "text/markdown": "\nA data.frame: 4 × 4\n\n| V1 &lt;int&gt; | V2 &lt;chr&gt; | V3 &lt;chr&gt; | V4 &lt;chr&gt; |\n|---|---|---|---|\n| NA | rownames | a | b |\n|  1 | 1_row    | 1 | 0 |\n|  2 | 2_row    | 2 | 0 |\n|  3 | 3_row    | 3 | 0 |\n\n",
            "text/latex": "A data.frame: 4 × 4\n\\begin{tabular}{llll}\n V1 & V2 & V3 & V4\\\\\n <int> & <chr> & <chr> & <chr>\\\\\n\\hline\n\t NA & rownames & a & b\\\\\n\t  1 & 1\\_row    & 1 & 0\\\\\n\t  2 & 2\\_row    & 2 & 0\\\\\n\t  3 & 3\\_row    & 3 & 0\\\\\n\\end{tabular}\n",
            "text/plain": [
              "  V1 V2       V3 V4\n",
              "1 NA rownames a  b \n",
              "2  1 1_row    1  0 \n",
              "3  2 2_row    2  0 \n",
              "4  3 3_row    3  0 "
            ]
          },
          "metadata": {}
        }
      ]
    },
    {
      "cell_type": "markdown",
      "source": [
        "## Работа с Excel файлами"
      ],
      "metadata": {
        "id": "Ae0lO6ejRqwU"
      }
    },
    {
      "cell_type": "markdown",
      "source": [
        "Пакет \"readxl\" упрощает импорт Excel-данных в R. Этот пакет создан для работы с\n",
        "табличными данными"
      ],
      "metadata": {
        "id": "AMaUEie3Mkmq"
      }
    },
    {
      "cell_type": "code",
      "source": [
        "library(readxl)"
      ],
      "metadata": {
        "id": "xGKM7gsnSeSl"
      },
      "execution_count": null,
      "outputs": []
    },
    {
      "cell_type": "code",
      "source": [
        "library(httr)\n",
        "# Скачаем файл \"Financial Sample.xlsx\"\n",
        "filename <- \"Financial Sample.xlsx\"\n",
        "url <- \"https://go.microsoft.com/fwlink/?LinkID=521962\"\n",
        "GET(url, write_disk(filename, overwrite=TRUE))"
      ],
      "metadata": {
        "colab": {
          "base_uri": "https://localhost:8080/",
          "height": 121
        },
        "id": "U9ByEznrNSvo",
        "executionInfo": {
          "status": "ok",
          "timestamp": 1684704905027,
          "user_tz": -180,
          "elapsed": 947,
          "user": {
            "displayName": "Daniel D",
            "userId": "11270935181438165191"
          }
        },
        "outputId": "5cabf802-14e6-4386-ddc3-9726205ad6d1"
      },
      "execution_count": null,
      "outputs": [
        {
          "output_type": "display_data",
          "data": {
            "text/plain": [
              "Response [https://download.microsoft.com/download/1/4/E/14EDED28-6C58-4055-A65C-23B4DA81C4DE/Financial%20Sample.xlsx]\n",
              "  Date: 2023-05-21 21:35\n",
              "  Status: 200\n",
              "  Content-Type: application/octet-stream\n",
              "  Size: 83.4 kB\n",
              "<ON DISK>  Financial Sample.xlsxNULL"
            ]
          },
          "metadata": {}
        }
      ]
    },
    {
      "cell_type": "code",
      "source": [
        "head(readxl::read_excel(filename))"
      ],
      "metadata": {
        "colab": {
          "base_uri": "https://localhost:8080/",
          "height": 286
        },
        "id": "zwSSHzUlRrJW",
        "executionInfo": {
          "status": "ok",
          "timestamp": 1684704910788,
          "user_tz": -180,
          "elapsed": 406,
          "user": {
            "displayName": "Daniel D",
            "userId": "11270935181438165191"
          }
        },
        "outputId": "7eb1269a-0210-4940-8492-275f95a48571"
      },
      "execution_count": null,
      "outputs": [
        {
          "output_type": "display_data",
          "data": {
            "text/html": [
              "<table class=\"dataframe\">\n",
              "<caption>A tibble: 6 × 16</caption>\n",
              "<thead>\n",
              "\t<tr><th scope=col>Segment</th><th scope=col>Country</th><th scope=col>Product</th><th scope=col>Discount Band</th><th scope=col>Units Sold</th><th scope=col>Manufacturing Price</th><th scope=col>Sale Price</th><th scope=col>Gross Sales</th><th scope=col>Discounts</th><th scope=col>Sales</th><th scope=col>COGS</th><th scope=col>Profit</th><th scope=col>Date</th><th scope=col>Month Number</th><th scope=col>Month Name</th><th scope=col>Year</th></tr>\n",
              "\t<tr><th scope=col>&lt;chr&gt;</th><th scope=col>&lt;chr&gt;</th><th scope=col>&lt;chr&gt;</th><th scope=col>&lt;chr&gt;</th><th scope=col>&lt;dbl&gt;</th><th scope=col>&lt;dbl&gt;</th><th scope=col>&lt;dbl&gt;</th><th scope=col>&lt;dbl&gt;</th><th scope=col>&lt;dbl&gt;</th><th scope=col>&lt;dbl&gt;</th><th scope=col>&lt;dbl&gt;</th><th scope=col>&lt;dbl&gt;</th><th scope=col>&lt;dttm&gt;</th><th scope=col>&lt;dbl&gt;</th><th scope=col>&lt;chr&gt;</th><th scope=col>&lt;chr&gt;</th></tr>\n",
              "</thead>\n",
              "<tbody>\n",
              "\t<tr><td>Government</td><td>Canada </td><td>Carretera</td><td>None</td><td>1618.5</td><td>3</td><td> 20</td><td> 32370</td><td>0</td><td> 32370</td><td> 16185</td><td> 16185</td><td>2014-01-01</td><td> 1</td><td>January </td><td>2014</td></tr>\n",
              "\t<tr><td>Government</td><td>Germany</td><td>Carretera</td><td>None</td><td>1321.0</td><td>3</td><td> 20</td><td> 26420</td><td>0</td><td> 26420</td><td> 13210</td><td> 13210</td><td>2014-01-01</td><td> 1</td><td>January </td><td>2014</td></tr>\n",
              "\t<tr><td>Midmarket </td><td>France </td><td>Carretera</td><td>None</td><td>2178.0</td><td>3</td><td> 15</td><td> 32670</td><td>0</td><td> 32670</td><td> 21780</td><td> 10890</td><td>2014-06-01</td><td> 6</td><td>June    </td><td>2014</td></tr>\n",
              "\t<tr><td>Midmarket </td><td>Germany</td><td>Carretera</td><td>None</td><td> 888.0</td><td>3</td><td> 15</td><td> 13320</td><td>0</td><td> 13320</td><td>  8880</td><td>  4440</td><td>2014-06-01</td><td> 6</td><td>June    </td><td>2014</td></tr>\n",
              "\t<tr><td>Midmarket </td><td>Mexico </td><td>Carretera</td><td>None</td><td>2470.0</td><td>3</td><td> 15</td><td> 37050</td><td>0</td><td> 37050</td><td> 24700</td><td> 12350</td><td>2014-06-01</td><td> 6</td><td>June    </td><td>2014</td></tr>\n",
              "\t<tr><td>Government</td><td>Germany</td><td>Carretera</td><td>None</td><td>1513.0</td><td>3</td><td>350</td><td>529550</td><td>0</td><td>529550</td><td>393380</td><td>136170</td><td>2014-12-01</td><td>12</td><td>December</td><td>2014</td></tr>\n",
              "</tbody>\n",
              "</table>\n"
            ],
            "text/markdown": "\nA tibble: 6 × 16\n\n| Segment &lt;chr&gt; | Country &lt;chr&gt; | Product &lt;chr&gt; | Discount Band &lt;chr&gt; | Units Sold &lt;dbl&gt; | Manufacturing Price &lt;dbl&gt; | Sale Price &lt;dbl&gt; | Gross Sales &lt;dbl&gt; | Discounts &lt;dbl&gt; | Sales &lt;dbl&gt; | COGS &lt;dbl&gt; | Profit &lt;dbl&gt; | Date &lt;dttm&gt; | Month Number &lt;dbl&gt; | Month Name &lt;chr&gt; | Year &lt;chr&gt; |\n|---|---|---|---|---|---|---|---|---|---|---|---|---|---|---|---|\n| Government | Canada  | Carretera | None | 1618.5 | 3 |  20 |  32370 | 0 |  32370 |  16185 |  16185 | 2014-01-01 |  1 | January  | 2014 |\n| Government | Germany | Carretera | None | 1321.0 | 3 |  20 |  26420 | 0 |  26420 |  13210 |  13210 | 2014-01-01 |  1 | January  | 2014 |\n| Midmarket  | France  | Carretera | None | 2178.0 | 3 |  15 |  32670 | 0 |  32670 |  21780 |  10890 | 2014-06-01 |  6 | June     | 2014 |\n| Midmarket  | Germany | Carretera | None |  888.0 | 3 |  15 |  13320 | 0 |  13320 |   8880 |   4440 | 2014-06-01 |  6 | June     | 2014 |\n| Midmarket  | Mexico  | Carretera | None | 2470.0 | 3 |  15 |  37050 | 0 |  37050 |  24700 |  12350 | 2014-06-01 |  6 | June     | 2014 |\n| Government | Germany | Carretera | None | 1513.0 | 3 | 350 | 529550 | 0 | 529550 | 393380 | 136170 | 2014-12-01 | 12 | December | 2014 |\n\n",
            "text/latex": "A tibble: 6 × 16\n\\begin{tabular}{llllllllllllllll}\n Segment & Country & Product & Discount Band & Units Sold & Manufacturing Price & Sale Price & Gross Sales & Discounts & Sales & COGS & Profit & Date & Month Number & Month Name & Year\\\\\n <chr> & <chr> & <chr> & <chr> & <dbl> & <dbl> & <dbl> & <dbl> & <dbl> & <dbl> & <dbl> & <dbl> & <dttm> & <dbl> & <chr> & <chr>\\\\\n\\hline\n\t Government & Canada  & Carretera & None & 1618.5 & 3 &  20 &  32370 & 0 &  32370 &  16185 &  16185 & 2014-01-01 &  1 & January  & 2014\\\\\n\t Government & Germany & Carretera & None & 1321.0 & 3 &  20 &  26420 & 0 &  26420 &  13210 &  13210 & 2014-01-01 &  1 & January  & 2014\\\\\n\t Midmarket  & France  & Carretera & None & 2178.0 & 3 &  15 &  32670 & 0 &  32670 &  21780 &  10890 & 2014-06-01 &  6 & June     & 2014\\\\\n\t Midmarket  & Germany & Carretera & None &  888.0 & 3 &  15 &  13320 & 0 &  13320 &   8880 &   4440 & 2014-06-01 &  6 & June     & 2014\\\\\n\t Midmarket  & Mexico  & Carretera & None & 2470.0 & 3 &  15 &  37050 & 0 &  37050 &  24700 &  12350 & 2014-06-01 &  6 & June     & 2014\\\\\n\t Government & Germany & Carretera & None & 1513.0 & 3 & 350 & 529550 & 0 & 529550 & 393380 & 136170 & 2014-12-01 & 12 & December & 2014\\\\\n\\end{tabular}\n",
            "text/plain": [
              "  Segment    Country Product   Discount Band Units Sold Manufacturing Price\n",
              "1 Government Canada  Carretera None          1618.5     3                  \n",
              "2 Government Germany Carretera None          1321.0     3                  \n",
              "3 Midmarket  France  Carretera None          2178.0     3                  \n",
              "4 Midmarket  Germany Carretera None           888.0     3                  \n",
              "5 Midmarket  Mexico  Carretera None          2470.0     3                  \n",
              "6 Government Germany Carretera None          1513.0     3                  \n",
              "  Sale Price Gross Sales Discounts Sales  COGS   Profit Date       Month Number\n",
              "1  20         32370      0          32370  16185  16185 2014-01-01  1          \n",
              "2  20         26420      0          26420  13210  13210 2014-01-01  1          \n",
              "3  15         32670      0          32670  21780  10890 2014-06-01  6          \n",
              "4  15         13320      0          13320   8880   4440 2014-06-01  6          \n",
              "5  15         37050      0          37050  24700  12350 2014-06-01  6          \n",
              "6 350        529550      0         529550 393380 136170 2014-12-01 12          \n",
              "  Month Name Year\n",
              "1 January    2014\n",
              "2 January    2014\n",
              "3 June       2014\n",
              "4 June       2014\n",
              "5 June       2014\n",
              "6 December   2014"
            ]
          },
          "metadata": {}
        }
      ]
    },
    {
      "cell_type": "markdown",
      "source": [
        "## Импорт данных, взятых из интернет-ресурса и их обработка"
      ],
      "metadata": {
        "id": "q1x7zDmwUPtV"
      }
    },
    {
      "cell_type": "code",
      "source": [
        "library(rvest)"
      ],
      "metadata": {
        "id": "RXc2UoZ7UXgW"
      },
      "execution_count": null,
      "outputs": []
    },
    {
      "cell_type": "code",
      "source": [
        "url1 <- paste0(\"https://cdas.cancer.gov/datasets/nlst/\")\n",
        "url1"
      ],
      "metadata": {
        "colab": {
          "base_uri": "https://localhost:8080/",
          "height": 34
        },
        "id": "xi2OsPTyNM4-",
        "executionInfo": {
          "status": "ok",
          "timestamp": 1684704922968,
          "user_tz": -180,
          "elapsed": 411,
          "user": {
            "displayName": "Daniel D",
            "userId": "11270935181438165191"
          }
        },
        "outputId": "2765359d-c805-4007-b2b3-f1ace7e0749d"
      },
      "execution_count": null,
      "outputs": [
        {
          "output_type": "display_data",
          "data": {
            "text/html": [
              "'https://cdas.cancer.gov/datasets/nlst/'"
            ],
            "text/markdown": "'https://cdas.cancer.gov/datasets/nlst/'",
            "text/latex": "'https://cdas.cancer.gov/datasets/nlst/'",
            "text/plain": [
              "[1] \"https://cdas.cancer.gov/datasets/nlst/\""
            ]
          },
          "metadata": {}
        }
      ]
    },
    {
      "cell_type": "code",
      "source": [
        "page <- read_html(url1)\n",
        "page"
      ],
      "metadata": {
        "colab": {
          "base_uri": "https://localhost:8080/",
          "height": 86
        },
        "id": "IZTXztBBNNBJ",
        "executionInfo": {
          "status": "ok",
          "timestamp": 1684704949988,
          "user_tz": -180,
          "elapsed": 1593,
          "user": {
            "displayName": "Daniel D",
            "userId": "11270935181438165191"
          }
        },
        "outputId": "84877418-d059-45d2-ce07-e513c86abdc7"
      },
      "execution_count": null,
      "outputs": [
        {
          "output_type": "display_data",
          "data": {
            "text/plain": [
              "{html_document}\n",
              "<html lang=\"en\">\n",
              "[1] <head>\\n<meta http-equiv=\"Content-Type\" content=\"text/html; charset=utf-8 ...\n",
              "[2] <body class=\"\">\\n        <a href=\"#maincontent\" class=\"sr-only sr-only-fo ..."
            ]
          },
          "metadata": {}
        }
      ]
    },
    {
      "cell_type": "code",
      "source": [
        "tabl <- page %>% html_nodes(\"table\")\n",
        "tabl"
      ],
      "metadata": {
        "colab": {
          "base_uri": "https://localhost:8080/",
          "height": 69
        },
        "id": "-V_du7AuNNQd",
        "executionInfo": {
          "status": "ok",
          "timestamp": 1684704950397,
          "user_tz": -180,
          "elapsed": 5,
          "user": {
            "displayName": "Daniel D",
            "userId": "11270935181438165191"
          }
        },
        "outputId": "24df1a9a-d94f-424c-95ab-36169a93fdf0"
      },
      "execution_count": null,
      "outputs": [
        {
          "output_type": "display_data",
          "data": {
            "text/plain": [
              "{xml_nodeset (2)}\n",
              "[1] <table class=\"table table-striped table-bordered\">\\n<tr>\\n<td class=\"nowr ...\n",
              "[2] <table class=\"table table-striped table-bordered\" style=\"width: auto; min ..."
            ]
          },
          "metadata": {}
        }
      ]
    },
    {
      "cell_type": "code",
      "source": [
        "tabl <- tabl[[1]] %>% html_table\n",
        "head(tabl)"
      ],
      "metadata": {
        "colab": {
          "base_uri": "https://localhost:8080/",
          "height": 442
        },
        "id": "KK-lMwmnNNX8",
        "executionInfo": {
          "status": "ok",
          "timestamp": 1684704951233,
          "user_tz": -180,
          "elapsed": 3,
          "user": {
            "displayName": "Daniel D",
            "userId": "11270935181438165191"
          }
        },
        "outputId": "d63e1719-de69-4e53-ef1e-6a1e9c7fc3c0"
      },
      "execution_count": null,
      "outputs": [
        {
          "output_type": "display_data",
          "data": {
            "text/html": [
              "<table class=\"dataframe\">\n",
              "<caption>A tibble: 6 × 2</caption>\n",
              "<thead>\n",
              "\t<tr><th scope=col>X1</th><th scope=col>X2</th></tr>\n",
              "\t<tr><th scope=col>&lt;chr&gt;</th><th scope=col>&lt;chr&gt;</th></tr>\n",
              "</thead>\n",
              "<tbody>\n",
              "\t<tr><td>Data Dictionary\n",
              "            \n",
              "            (PDF - 382.2 KB)</td><td>1.\n",
              "                \n",
              "                \n",
              "                    The Participant dataset is a comprehensive dataset that contains all the NLST study data needed for most analyses of lung cancer screening, incidence, and mortality.  The dataset contains one record for each of the ~53,500 participants in NLST.                                                                                                                                       </td></tr>\n",
              "\t<tr><td>Data Dictionary\n",
              "            \n",
              "            (PDF - 82.7 KB) </td><td>2.\n",
              "                \n",
              "                \n",
              "                    The Spiral CT Screening dataset (~75,100, one record per CT screen) contains information from the Spiral CT screening exams. This includes technical parameters, reconstruction filter(s), reader ID, and recommendations for diagnostic follow-up.                                                                                                                                        </td></tr>\n",
              "\t<tr><td>Data Dictionary\n",
              "            \n",
              "            (PDF - 75.5 KB) </td><td>3.\n",
              "                \n",
              "                \n",
              "                    The Chest X-Ray Screening dataset (~73,500, one record per X-Ray screen) contains information from the Chest X-Ray screening exams. This includes technical parameters, reader ID, and recommendations for diagnostic follow-up.                                                                                                                                                           </td></tr>\n",
              "\t<tr><td>Data Dictionary\n",
              "            \n",
              "            (PDF - 53.6 KB) </td><td>4.\n",
              "                \n",
              "                \n",
              "                    The Spiral CT Abnormalities dataset (~177,500, one record per abnormality on CT) contains information about each abnormality observed on the Spiral CT screening exams.                                                                                                                                                                                                                    </td></tr>\n",
              "\t<tr><td>Data Dictionary\n",
              "            \n",
              "            (PDF - 50.5 KB) </td><td>5.\n",
              "                \n",
              "                \n",
              "                    The Chest X-Ray Abnormalities dataset (~47,200, one record per abnormality on X-Ray) contains information about each abnormality observed on the Chest X-Ray screening exams.                                                                                                                                                                                                              </td></tr>\n",
              "\t<tr><td><span style=white-space:pre-wrap>Data Dictionary\n",
              "            \n",
              "            (PDF - 51.0 KB) </span></td><td><span style=white-space:pre-wrap>6.\n",
              "                \n",
              "                \n",
              "                    The Spiral CT Comparison Read Abnormalities dataset (~31,000, one record per abnormality on CT) contains information about two types of abnormalities observed on the comparison read of CT exams: (a) all non-calcified nodules / masses &gt;= 4mm in diameter; (b) other abnormalities deemed significant by the radiologist. Information about change in size and attenuation is available.</span></td></tr>\n",
              "</tbody>\n",
              "</table>\n"
            ],
            "text/markdown": "\nA tibble: 6 × 2\n\n| X1 &lt;chr&gt; | X2 &lt;chr&gt; |\n|---|---|\n| Data Dictionary\n            \n            (PDF - 382.2 KB) | 1.\n                \n                \n                    The Participant dataset is a comprehensive dataset that contains all the NLST study data needed for most analyses of lung cancer screening, incidence, and mortality.  The dataset contains one record for each of the ~53,500 participants in NLST.                                                                                                                                        |\n| Data Dictionary\n            \n            (PDF - 82.7 KB)  | 2.\n                \n                \n                    The Spiral CT Screening dataset (~75,100, one record per CT screen) contains information from the Spiral CT screening exams. This includes technical parameters, reconstruction filter(s), reader ID, and recommendations for diagnostic follow-up.                                                                                                                                         |\n| Data Dictionary\n            \n            (PDF - 75.5 KB)  | 3.\n                \n                \n                    The Chest X-Ray Screening dataset (~73,500, one record per X-Ray screen) contains information from the Chest X-Ray screening exams. This includes technical parameters, reader ID, and recommendations for diagnostic follow-up.                                                                                                                                                            |\n| Data Dictionary\n            \n            (PDF - 53.6 KB)  | 4.\n                \n                \n                    The Spiral CT Abnormalities dataset (~177,500, one record per abnormality on CT) contains information about each abnormality observed on the Spiral CT screening exams.                                                                                                                                                                                                                     |\n| Data Dictionary\n            \n            (PDF - 50.5 KB)  | 5.\n                \n                \n                    The Chest X-Ray Abnormalities dataset (~47,200, one record per abnormality on X-Ray) contains information about each abnormality observed on the Chest X-Ray screening exams.                                                                                                                                                                                                               |\n| Data Dictionary\n            \n            (PDF - 51.0 KB)  | 6.\n                \n                \n                    The Spiral CT Comparison Read Abnormalities dataset (~31,000, one record per abnormality on CT) contains information about two types of abnormalities observed on the comparison read of CT exams: (a) all non-calcified nodules / masses &gt;= 4mm in diameter; (b) other abnormalities deemed significant by the radiologist. Information about change in size and attenuation is available. |\n\n",
            "text/latex": "A tibble: 6 × 2\n\\begin{tabular}{ll}\n X1 & X2\\\\\n <chr> & <chr>\\\\\n\\hline\n\t Data Dictionary\n            \n            (PDF - 382.2 KB) & 1.\n                \n                \n                    The Participant dataset is a comprehensive dataset that contains all the NLST study data needed for most analyses of lung cancer screening, incidence, and mortality.  The dataset contains one record for each of the \\textasciitilde{}53,500 participants in NLST.                                                                                                                                       \\\\\n\t Data Dictionary\n            \n            (PDF - 82.7 KB)  & 2.\n                \n                \n                    The Spiral CT Screening dataset (\\textasciitilde{}75,100, one record per CT screen) contains information from the Spiral CT screening exams. This includes technical parameters, reconstruction filter(s), reader ID, and recommendations for diagnostic follow-up.                                                                                                                                        \\\\\n\t Data Dictionary\n            \n            (PDF - 75.5 KB)  & 3.\n                \n                \n                    The Chest X-Ray Screening dataset (\\textasciitilde{}73,500, one record per X-Ray screen) contains information from the Chest X-Ray screening exams. This includes technical parameters, reader ID, and recommendations for diagnostic follow-up.                                                                                                                                                           \\\\\n\t Data Dictionary\n            \n            (PDF - 53.6 KB)  & 4.\n                \n                \n                    The Spiral CT Abnormalities dataset (\\textasciitilde{}177,500, one record per abnormality on CT) contains information about each abnormality observed on the Spiral CT screening exams.                                                                                                                                                                                                                    \\\\\n\t Data Dictionary\n            \n            (PDF - 50.5 KB)  & 5.\n                \n                \n                    The Chest X-Ray Abnormalities dataset (\\textasciitilde{}47,200, one record per abnormality on X-Ray) contains information about each abnormality observed on the Chest X-Ray screening exams.                                                                                                                                                                                                              \\\\\n\t Data Dictionary\n            \n            (PDF - 51.0 KB)  & 6.\n                \n                \n                    The Spiral CT Comparison Read Abnormalities dataset (\\textasciitilde{}31,000, one record per abnormality on CT) contains information about two types of abnormalities observed on the comparison read of CT exams: (a) all non-calcified nodules / masses >= 4mm in diameter; (b) other abnormalities deemed significant by the radiologist. Information about change in size and attenuation is available.\\\\\n\\end{tabular}\n",
            "text/plain": [
              "  X1                                                         \n",
              "1 Data Dictionary\\n            \\n            (PDF - 382.2 KB)\n",
              "2 Data Dictionary\\n            \\n            (PDF - 82.7 KB) \n",
              "3 Data Dictionary\\n            \\n            (PDF - 75.5 KB) \n",
              "4 Data Dictionary\\n            \\n            (PDF - 53.6 KB) \n",
              "5 Data Dictionary\\n            \\n            (PDF - 50.5 KB) \n",
              "6 Data Dictionary\\n            \\n            (PDF - 51.0 KB) \n",
              "  X2                                                                                                                                                                                                                                                                                                                                                                                                                                                     \n",
              "1 1.\\n                \\n                \\n                    The Participant dataset is a comprehensive dataset that contains all the NLST study data needed for most analyses of lung cancer screening, incidence, and mortality.  The dataset contains one record for each of the ~53,500 participants in NLST.                                                                                                                                       \n",
              "2 2.\\n                \\n                \\n                    The Spiral CT Screening dataset (~75,100, one record per CT screen) contains information from the Spiral CT screening exams. This includes technical parameters, reconstruction filter(s), reader ID, and recommendations for diagnostic follow-up.                                                                                                                                        \n",
              "3 3.\\n                \\n                \\n                    The Chest X-Ray Screening dataset (~73,500, one record per X-Ray screen) contains information from the Chest X-Ray screening exams. This includes technical parameters, reader ID, and recommendations for diagnostic follow-up.                                                                                                                                                           \n",
              "4 4.\\n                \\n                \\n                    The Spiral CT Abnormalities dataset (~177,500, one record per abnormality on CT) contains information about each abnormality observed on the Spiral CT screening exams.                                                                                                                                                                                                                    \n",
              "5 5.\\n                \\n                \\n                    The Chest X-Ray Abnormalities dataset (~47,200, one record per abnormality on X-Ray) contains information about each abnormality observed on the Chest X-Ray screening exams.                                                                                                                                                                                                              \n",
              "6 6.\\n                \\n                \\n                    The Spiral CT Comparison Read Abnormalities dataset (~31,000, one record per abnormality on CT) contains information about two types of abnormalities observed on the comparison read of CT exams: (a) all non-calcified nodules / masses >= 4mm in diameter; (b) other abnormalities deemed significant by the radiologist. Information about change in size and attenuation is available."
            ]
          },
          "metadata": {}
        }
      ]
    },
    {
      "cell_type": "code",
      "source": [
        "tabl <- tabl %>% setNames(c(\"data\", \"description\"))\n",
        "head(tabl, 3)"
      ],
      "metadata": {
        "colab": {
          "base_uri": "https://localhost:8080/",
          "height": 192
        },
        "id": "UEEzyzp72meS",
        "executionInfo": {
          "status": "ok",
          "timestamp": 1684704953059,
          "user_tz": -180,
          "elapsed": 391,
          "user": {
            "displayName": "Daniel D",
            "userId": "11270935181438165191"
          }
        },
        "outputId": "0de381b8-30c5-4895-e626-a247ed1aaf3b"
      },
      "execution_count": null,
      "outputs": [
        {
          "output_type": "display_data",
          "data": {
            "text/html": [
              "<table class=\"dataframe\">\n",
              "<caption>A tibble: 3 × 2</caption>\n",
              "<thead>\n",
              "\t<tr><th scope=col>data</th><th scope=col>description</th></tr>\n",
              "\t<tr><th scope=col>&lt;chr&gt;</th><th scope=col>&lt;chr&gt;</th></tr>\n",
              "</thead>\n",
              "<tbody>\n",
              "\t<tr><td>Data Dictionary\n",
              "            \n",
              "            (PDF - 382.2 KB)</td><td>1.\n",
              "                \n",
              "                \n",
              "                    The Participant dataset is a comprehensive dataset that contains all the NLST study data needed for most analyses of lung cancer screening, incidence, and mortality.  The dataset contains one record for each of the ~53,500 participants in NLST.</td></tr>\n",
              "\t<tr><td>Data Dictionary\n",
              "            \n",
              "            (PDF - 82.7 KB) </td><td>2.\n",
              "                \n",
              "                \n",
              "                    The Spiral CT Screening dataset (~75,100, one record per CT screen) contains information from the Spiral CT screening exams. This includes technical parameters, reconstruction filter(s), reader ID, and recommendations for diagnostic follow-up. </td></tr>\n",
              "\t<tr><td>Data Dictionary\n",
              "            \n",
              "            (PDF - 75.5 KB) </td><td>3.\n",
              "                \n",
              "                \n",
              "                    The Chest X-Ray Screening dataset (~73,500, one record per X-Ray screen) contains information from the Chest X-Ray screening exams. This includes technical parameters, reader ID, and recommendations for diagnostic follow-up.                    </td></tr>\n",
              "</tbody>\n",
              "</table>\n"
            ],
            "text/markdown": "\nA tibble: 3 × 2\n\n| data &lt;chr&gt; | description &lt;chr&gt; |\n|---|---|\n| Data Dictionary\n            \n            (PDF - 382.2 KB) | 1.\n                \n                \n                    The Participant dataset is a comprehensive dataset that contains all the NLST study data needed for most analyses of lung cancer screening, incidence, and mortality.  The dataset contains one record for each of the ~53,500 participants in NLST. |\n| Data Dictionary\n            \n            (PDF - 82.7 KB)  | 2.\n                \n                \n                    The Spiral CT Screening dataset (~75,100, one record per CT screen) contains information from the Spiral CT screening exams. This includes technical parameters, reconstruction filter(s), reader ID, and recommendations for diagnostic follow-up.  |\n| Data Dictionary\n            \n            (PDF - 75.5 KB)  | 3.\n                \n                \n                    The Chest X-Ray Screening dataset (~73,500, one record per X-Ray screen) contains information from the Chest X-Ray screening exams. This includes technical parameters, reader ID, and recommendations for diagnostic follow-up.                     |\n\n",
            "text/latex": "A tibble: 3 × 2\n\\begin{tabular}{ll}\n data & description\\\\\n <chr> & <chr>\\\\\n\\hline\n\t Data Dictionary\n            \n            (PDF - 382.2 KB) & 1.\n                \n                \n                    The Participant dataset is a comprehensive dataset that contains all the NLST study data needed for most analyses of lung cancer screening, incidence, and mortality.  The dataset contains one record for each of the \\textasciitilde{}53,500 participants in NLST.\\\\\n\t Data Dictionary\n            \n            (PDF - 82.7 KB)  & 2.\n                \n                \n                    The Spiral CT Screening dataset (\\textasciitilde{}75,100, one record per CT screen) contains information from the Spiral CT screening exams. This includes technical parameters, reconstruction filter(s), reader ID, and recommendations for diagnostic follow-up. \\\\\n\t Data Dictionary\n            \n            (PDF - 75.5 KB)  & 3.\n                \n                \n                    The Chest X-Ray Screening dataset (\\textasciitilde{}73,500, one record per X-Ray screen) contains information from the Chest X-Ray screening exams. This includes technical parameters, reader ID, and recommendations for diagnostic follow-up.                    \\\\\n\\end{tabular}\n",
            "text/plain": [
              "  data                                                       \n",
              "1 Data Dictionary\\n            \\n            (PDF - 382.2 KB)\n",
              "2 Data Dictionary\\n            \\n            (PDF - 82.7 KB) \n",
              "3 Data Dictionary\\n            \\n            (PDF - 75.5 KB) \n",
              "  description                                                                                                                                                                                                                                                                                                     \n",
              "1 1.\\n                \\n                \\n                    The Participant dataset is a comprehensive dataset that contains all the NLST study data needed for most analyses of lung cancer screening, incidence, and mortality.  The dataset contains one record for each of the ~53,500 participants in NLST.\n",
              "2 2.\\n                \\n                \\n                    The Spiral CT Screening dataset (~75,100, one record per CT screen) contains information from the Spiral CT screening exams. This includes technical parameters, reconstruction filter(s), reader ID, and recommendations for diagnostic follow-up. \n",
              "3 3.\\n                \\n                \\n                    The Chest X-Ray Screening dataset (~73,500, one record per X-Ray screen) contains information from the Chest X-Ray screening exams. This includes technical parameters, reader ID, and recommendations for diagnostic follow-up.                    "
            ]
          },
          "metadata": {}
        }
      ]
    },
    {
      "cell_type": "markdown",
      "source": [
        "## Рассмотрим отдельный столбец датафрейма"
      ],
      "metadata": {
        "id": "yXiAxsomPim-"
      }
    },
    {
      "cell_type": "code",
      "source": [
        "head(tabl[\"description\"])"
      ],
      "metadata": {
        "colab": {
          "base_uri": "https://localhost:8080/",
          "height": 356
        },
        "id": "743XMGIL2wF1",
        "executionInfo": {
          "status": "ok",
          "timestamp": 1684705206834,
          "user_tz": -180,
          "elapsed": 458,
          "user": {
            "displayName": "Daniel D",
            "userId": "11270935181438165191"
          }
        },
        "outputId": "6e90470c-565d-4df8-bd74-cbb14330c8c4"
      },
      "execution_count": null,
      "outputs": [
        {
          "output_type": "display_data",
          "data": {
            "text/html": [
              "<table class=\"dataframe\">\n",
              "<caption>A tibble: 6 × 1</caption>\n",
              "<thead>\n",
              "\t<tr><th scope=col>description</th></tr>\n",
              "\t<tr><th scope=col>&lt;chr&gt;</th></tr>\n",
              "</thead>\n",
              "<tbody>\n",
              "\t<tr><td>1.\n",
              "                \n",
              "                \n",
              "                    The Participant dataset is a comprehensive dataset that contains all the NLST study data needed for most analyses of lung cancer screening, incidence, and mortality.  The dataset contains one record for each of the ~53,500 participants in NLST.                                                                                                                                       </td></tr>\n",
              "\t<tr><td>2.\n",
              "                \n",
              "                \n",
              "                    The Spiral CT Screening dataset (~75,100, one record per CT screen) contains information from the Spiral CT screening exams. This includes technical parameters, reconstruction filter(s), reader ID, and recommendations for diagnostic follow-up.                                                                                                                                        </td></tr>\n",
              "\t<tr><td>3.\n",
              "                \n",
              "                \n",
              "                    The Chest X-Ray Screening dataset (~73,500, one record per X-Ray screen) contains information from the Chest X-Ray screening exams. This includes technical parameters, reader ID, and recommendations for diagnostic follow-up.                                                                                                                                                           </td></tr>\n",
              "\t<tr><td>4.\n",
              "                \n",
              "                \n",
              "                    The Spiral CT Abnormalities dataset (~177,500, one record per abnormality on CT) contains information about each abnormality observed on the Spiral CT screening exams.                                                                                                                                                                                                                    </td></tr>\n",
              "\t<tr><td>5.\n",
              "                \n",
              "                \n",
              "                    The Chest X-Ray Abnormalities dataset (~47,200, one record per abnormality on X-Ray) contains information about each abnormality observed on the Chest X-Ray screening exams.                                                                                                                                                                                                              </td></tr>\n",
              "\t<tr><td><span style=white-space:pre-wrap>6.\n",
              "                \n",
              "                \n",
              "                    The Spiral CT Comparison Read Abnormalities dataset (~31,000, one record per abnormality on CT) contains information about two types of abnormalities observed on the comparison read of CT exams: (a) all non-calcified nodules / masses &gt;= 4mm in diameter; (b) other abnormalities deemed significant by the radiologist. Information about change in size and attenuation is available.</span></td></tr>\n",
              "</tbody>\n",
              "</table>\n"
            ],
            "text/markdown": "\nA tibble: 6 × 1\n\n| description &lt;chr&gt; |\n|---|\n| 1.\n                \n                \n                    The Participant dataset is a comprehensive dataset that contains all the NLST study data needed for most analyses of lung cancer screening, incidence, and mortality.  The dataset contains one record for each of the ~53,500 participants in NLST.                                                                                                                                        |\n| 2.\n                \n                \n                    The Spiral CT Screening dataset (~75,100, one record per CT screen) contains information from the Spiral CT screening exams. This includes technical parameters, reconstruction filter(s), reader ID, and recommendations for diagnostic follow-up.                                                                                                                                         |\n| 3.\n                \n                \n                    The Chest X-Ray Screening dataset (~73,500, one record per X-Ray screen) contains information from the Chest X-Ray screening exams. This includes technical parameters, reader ID, and recommendations for diagnostic follow-up.                                                                                                                                                            |\n| 4.\n                \n                \n                    The Spiral CT Abnormalities dataset (~177,500, one record per abnormality on CT) contains information about each abnormality observed on the Spiral CT screening exams.                                                                                                                                                                                                                     |\n| 5.\n                \n                \n                    The Chest X-Ray Abnormalities dataset (~47,200, one record per abnormality on X-Ray) contains information about each abnormality observed on the Chest X-Ray screening exams.                                                                                                                                                                                                               |\n| 6.\n                \n                \n                    The Spiral CT Comparison Read Abnormalities dataset (~31,000, one record per abnormality on CT) contains information about two types of abnormalities observed on the comparison read of CT exams: (a) all non-calcified nodules / masses &gt;= 4mm in diameter; (b) other abnormalities deemed significant by the radiologist. Information about change in size and attenuation is available. |\n\n",
            "text/latex": "A tibble: 6 × 1\n\\begin{tabular}{l}\n description\\\\\n <chr>\\\\\n\\hline\n\t 1.\n                \n                \n                    The Participant dataset is a comprehensive dataset that contains all the NLST study data needed for most analyses of lung cancer screening, incidence, and mortality.  The dataset contains one record for each of the \\textasciitilde{}53,500 participants in NLST.                                                                                                                                       \\\\\n\t 2.\n                \n                \n                    The Spiral CT Screening dataset (\\textasciitilde{}75,100, one record per CT screen) contains information from the Spiral CT screening exams. This includes technical parameters, reconstruction filter(s), reader ID, and recommendations for diagnostic follow-up.                                                                                                                                        \\\\\n\t 3.\n                \n                \n                    The Chest X-Ray Screening dataset (\\textasciitilde{}73,500, one record per X-Ray screen) contains information from the Chest X-Ray screening exams. This includes technical parameters, reader ID, and recommendations for diagnostic follow-up.                                                                                                                                                           \\\\\n\t 4.\n                \n                \n                    The Spiral CT Abnormalities dataset (\\textasciitilde{}177,500, one record per abnormality on CT) contains information about each abnormality observed on the Spiral CT screening exams.                                                                                                                                                                                                                    \\\\\n\t 5.\n                \n                \n                    The Chest X-Ray Abnormalities dataset (\\textasciitilde{}47,200, one record per abnormality on X-Ray) contains information about each abnormality observed on the Chest X-Ray screening exams.                                                                                                                                                                                                              \\\\\n\t 6.\n                \n                \n                    The Spiral CT Comparison Read Abnormalities dataset (\\textasciitilde{}31,000, one record per abnormality on CT) contains information about two types of abnormalities observed on the comparison read of CT exams: (a) all non-calcified nodules / masses >= 4mm in diameter; (b) other abnormalities deemed significant by the radiologist. Information about change in size and attenuation is available.\\\\\n\\end{tabular}\n",
            "text/plain": [
              "  description                                                                                                                                                                                                                                                                                                                                                                                                                                            \n",
              "1 1.\\n                \\n                \\n                    The Participant dataset is a comprehensive dataset that contains all the NLST study data needed for most analyses of lung cancer screening, incidence, and mortality.  The dataset contains one record for each of the ~53,500 participants in NLST.                                                                                                                                       \n",
              "2 2.\\n                \\n                \\n                    The Spiral CT Screening dataset (~75,100, one record per CT screen) contains information from the Spiral CT screening exams. This includes technical parameters, reconstruction filter(s), reader ID, and recommendations for diagnostic follow-up.                                                                                                                                        \n",
              "3 3.\\n                \\n                \\n                    The Chest X-Ray Screening dataset (~73,500, one record per X-Ray screen) contains information from the Chest X-Ray screening exams. This includes technical parameters, reader ID, and recommendations for diagnostic follow-up.                                                                                                                                                           \n",
              "4 4.\\n                \\n                \\n                    The Spiral CT Abnormalities dataset (~177,500, one record per abnormality on CT) contains information about each abnormality observed on the Spiral CT screening exams.                                                                                                                                                                                                                    \n",
              "5 5.\\n                \\n                \\n                    The Chest X-Ray Abnormalities dataset (~47,200, one record per abnormality on X-Ray) contains information about each abnormality observed on the Chest X-Ray screening exams.                                                                                                                                                                                                              \n",
              "6 6.\\n                \\n                \\n                    The Spiral CT Comparison Read Abnormalities dataset (~31,000, one record per abnormality on CT) contains information about two types of abnormalities observed on the comparison read of CT exams: (a) all non-calcified nodules / masses >= 4mm in diameter; (b) other abnormalities deemed significant by the radiologist. Information about change in size and attenuation is available."
            ]
          },
          "metadata": {}
        }
      ]
    },
    {
      "cell_type": "code",
      "source": [
        "library(stringr)"
      ],
      "metadata": {
        "id": "60TiCm0kZd6n"
      },
      "execution_count": null,
      "outputs": []
    },
    {
      "cell_type": "code",
      "source": [
        "desc_new <- stringr::str_replace(tabl$description, \"\\\\d*.\", \"\")\n",
        "head(desc_new)"
      ],
      "metadata": {
        "colab": {
          "base_uri": "https://localhost:8080/",
          "height": 139
        },
        "id": "yC6m1WUMW94j",
        "executionInfo": {
          "status": "ok",
          "timestamp": 1684705209528,
          "user_tz": -180,
          "elapsed": 2,
          "user": {
            "displayName": "Daniel D",
            "userId": "11270935181438165191"
          }
        },
        "outputId": "329b9592-b369-4788-9da1-798722dda683"
      },
      "execution_count": null,
      "outputs": [
        {
          "output_type": "display_data",
          "data": {
            "text/html": [
              "<style>\n",
              ".list-inline {list-style: none; margin:0; padding: 0}\n",
              ".list-inline>li {display: inline-block}\n",
              ".list-inline>li:not(:last-child)::after {content: \"\\00b7\"; padding: 0 .5ex}\n",
              "</style>\n",
              "<ol class=list-inline><li><span style=white-space:pre-wrap>'\\n                \\n                \\n                    The Participant dataset is a comprehensive dataset that contains all the NLST study data needed for most analyses of lung cancer screening, incidence, and mortality.  The dataset contains one record for each of the ~53,500 participants in NLST.'</span></li><li><span style=white-space:pre-wrap>'\\n                \\n                \\n                    The Spiral CT Screening dataset (~75,100, one record per CT screen) contains information from the Spiral CT screening exams. This includes technical parameters, reconstruction filter(s), reader ID, and recommendations for diagnostic follow-up.'</span></li><li><span style=white-space:pre-wrap>'\\n                \\n                \\n                    The Chest X-Ray Screening dataset (~73,500, one record per X-Ray screen) contains information from the Chest X-Ray screening exams. This includes technical parameters, reader ID, and recommendations for diagnostic follow-up.'</span></li><li><span style=white-space:pre-wrap>'\\n                \\n                \\n                    The Spiral CT Abnormalities dataset (~177,500, one record per abnormality on CT) contains information about each abnormality observed on the Spiral CT screening exams.'</span></li><li><span style=white-space:pre-wrap>'\\n                \\n                \\n                    The Chest X-Ray Abnormalities dataset (~47,200, one record per abnormality on X-Ray) contains information about each abnormality observed on the Chest X-Ray screening exams.'</span></li><li><span style=white-space:pre-wrap>'\\n                \\n                \\n                    The Spiral CT Comparison Read Abnormalities dataset (~31,000, one record per abnormality on CT) contains information about two types of abnormalities observed on the comparison read of CT exams: (a) all non-calcified nodules / masses &gt;= 4mm in diameter; (b) other abnormalities deemed significant by the radiologist. Information about change in size and attenuation is available.'</span></li></ol>\n"
            ],
            "text/markdown": "1. <span style=white-space:pre-wrap>'\\n                \\n                \\n                    The Participant dataset is a comprehensive dataset that contains all the NLST study data needed for most analyses of lung cancer screening, incidence, and mortality.  The dataset contains one record for each of the ~53,500 participants in NLST.'</span>\n2. <span style=white-space:pre-wrap>'\\n                \\n                \\n                    The Spiral CT Screening dataset (~75,100, one record per CT screen) contains information from the Spiral CT screening exams. This includes technical parameters, reconstruction filter(s), reader ID, and recommendations for diagnostic follow-up.'</span>\n3. <span style=white-space:pre-wrap>'\\n                \\n                \\n                    The Chest X-Ray Screening dataset (~73,500, one record per X-Ray screen) contains information from the Chest X-Ray screening exams. This includes technical parameters, reader ID, and recommendations for diagnostic follow-up.'</span>\n4. <span style=white-space:pre-wrap>'\\n                \\n                \\n                    The Spiral CT Abnormalities dataset (~177,500, one record per abnormality on CT) contains information about each abnormality observed on the Spiral CT screening exams.'</span>\n5. <span style=white-space:pre-wrap>'\\n                \\n                \\n                    The Chest X-Ray Abnormalities dataset (~47,200, one record per abnormality on X-Ray) contains information about each abnormality observed on the Chest X-Ray screening exams.'</span>\n6. <span style=white-space:pre-wrap>'\\n                \\n                \\n                    The Spiral CT Comparison Read Abnormalities dataset (~31,000, one record per abnormality on CT) contains information about two types of abnormalities observed on the comparison read of CT exams: (a) all non-calcified nodules / masses &gt;= 4mm in diameter; (b) other abnormalities deemed significant by the radiologist. Information about change in size and attenuation is available.'</span>\n\n\n",
            "text/latex": "\\begin{enumerate*}\n\\item '\\textbackslash{}n                \\textbackslash{}n                \\textbackslash{}n                    The Participant dataset is a comprehensive dataset that contains all the NLST study data needed for most analyses of lung cancer screening, incidence, and mortality.  The dataset contains one record for each of the \\textasciitilde{}53,500 participants in NLST.'\n\\item '\\textbackslash{}n                \\textbackslash{}n                \\textbackslash{}n                    The Spiral CT Screening dataset (\\textasciitilde{}75,100, one record per CT screen) contains information from the Spiral CT screening exams. This includes technical parameters, reconstruction filter(s), reader ID, and recommendations for diagnostic follow-up.'\n\\item '\\textbackslash{}n                \\textbackslash{}n                \\textbackslash{}n                    The Chest X-Ray Screening dataset (\\textasciitilde{}73,500, one record per X-Ray screen) contains information from the Chest X-Ray screening exams. This includes technical parameters, reader ID, and recommendations for diagnostic follow-up.'\n\\item '\\textbackslash{}n                \\textbackslash{}n                \\textbackslash{}n                    The Spiral CT Abnormalities dataset (\\textasciitilde{}177,500, one record per abnormality on CT) contains information about each abnormality observed on the Spiral CT screening exams.'\n\\item '\\textbackslash{}n                \\textbackslash{}n                \\textbackslash{}n                    The Chest X-Ray Abnormalities dataset (\\textasciitilde{}47,200, one record per abnormality on X-Ray) contains information about each abnormality observed on the Chest X-Ray screening exams.'\n\\item '\\textbackslash{}n                \\textbackslash{}n                \\textbackslash{}n                    The Spiral CT Comparison Read Abnormalities dataset (\\textasciitilde{}31,000, one record per abnormality on CT) contains information about two types of abnormalities observed on the comparison read of CT exams: (a) all non-calcified nodules / masses >= 4mm in diameter; (b) other abnormalities deemed significant by the radiologist. Information about change in size and attenuation is available.'\n\\end{enumerate*}\n",
            "text/plain": [
              "[1] \"\\n                \\n                \\n                    The Participant dataset is a comprehensive dataset that contains all the NLST study data needed for most analyses of lung cancer screening, incidence, and mortality.  The dataset contains one record for each of the ~53,500 participants in NLST.\"                                                                                                                                       \n",
              "[2] \"\\n                \\n                \\n                    The Spiral CT Screening dataset (~75,100, one record per CT screen) contains information from the Spiral CT screening exams. This includes technical parameters, reconstruction filter(s), reader ID, and recommendations for diagnostic follow-up.\"                                                                                                                                        \n",
              "[3] \"\\n                \\n                \\n                    The Chest X-Ray Screening dataset (~73,500, one record per X-Ray screen) contains information from the Chest X-Ray screening exams. This includes technical parameters, reader ID, and recommendations for diagnostic follow-up.\"                                                                                                                                                           \n",
              "[4] \"\\n                \\n                \\n                    The Spiral CT Abnormalities dataset (~177,500, one record per abnormality on CT) contains information about each abnormality observed on the Spiral CT screening exams.\"                                                                                                                                                                                                                    \n",
              "[5] \"\\n                \\n                \\n                    The Chest X-Ray Abnormalities dataset (~47,200, one record per abnormality on X-Ray) contains information about each abnormality observed on the Chest X-Ray screening exams.\"                                                                                                                                                                                                              \n",
              "[6] \"\\n                \\n                \\n                    The Spiral CT Comparison Read Abnormalities dataset (~31,000, one record per abnormality on CT) contains information about two types of abnormalities observed on the comparison read of CT exams: (a) all non-calcified nodules / masses >= 4mm in diameter; (b) other abnormalities deemed significant by the radiologist. Information about change in size and attenuation is available.\""
            ]
          },
          "metadata": {}
        }
      ]
    },
    {
      "cell_type": "code",
      "source": [
        "desc_new <- gsub(\"\\n\", \"\", desc_new)\n",
        "desc_new <- trimws(desc_new)\n",
        "head(desc_new)"
      ],
      "metadata": {
        "colab": {
          "base_uri": "https://localhost:8080/",
          "height": 139
        },
        "id": "39pdllDqaIpu",
        "executionInfo": {
          "status": "ok",
          "timestamp": 1684705210603,
          "user_tz": -180,
          "elapsed": 545,
          "user": {
            "displayName": "Daniel D",
            "userId": "11270935181438165191"
          }
        },
        "outputId": "49d46e42-5963-4c9b-ca17-b44552be3d86"
      },
      "execution_count": null,
      "outputs": [
        {
          "output_type": "display_data",
          "data": {
            "text/html": [
              "<style>\n",
              ".list-inline {list-style: none; margin:0; padding: 0}\n",
              ".list-inline>li {display: inline-block}\n",
              ".list-inline>li:not(:last-child)::after {content: \"\\00b7\"; padding: 0 .5ex}\n",
              "</style>\n",
              "<ol class=list-inline><li><span style=white-space:pre-wrap>'The Participant dataset is a comprehensive dataset that contains all the NLST study data needed for most analyses of lung cancer screening, incidence, and mortality.  The dataset contains one record for each of the ~53,500 participants in NLST.'</span></li><li>'The Spiral CT Screening dataset (~75,100, one record per CT screen) contains information from the Spiral CT screening exams. This includes technical parameters, reconstruction filter(s), reader ID, and recommendations for diagnostic follow-up.'</li><li>'The Chest X-Ray Screening dataset (~73,500, one record per X-Ray screen) contains information from the Chest X-Ray screening exams. This includes technical parameters, reader ID, and recommendations for diagnostic follow-up.'</li><li>'The Spiral CT Abnormalities dataset (~177,500, one record per abnormality on CT) contains information about each abnormality observed on the Spiral CT screening exams.'</li><li>'The Chest X-Ray Abnormalities dataset (~47,200, one record per abnormality on X-Ray) contains information about each abnormality observed on the Chest X-Ray screening exams.'</li><li>'The Spiral CT Comparison Read Abnormalities dataset (~31,000, one record per abnormality on CT) contains information about two types of abnormalities observed on the comparison read of CT exams: (a) all non-calcified nodules / masses &gt;= 4mm in diameter; (b) other abnormalities deemed significant by the radiologist. Information about change in size and attenuation is available.'</li></ol>\n"
            ],
            "text/markdown": "1. <span style=white-space:pre-wrap>'The Participant dataset is a comprehensive dataset that contains all the NLST study data needed for most analyses of lung cancer screening, incidence, and mortality.  The dataset contains one record for each of the ~53,500 participants in NLST.'</span>\n2. 'The Spiral CT Screening dataset (~75,100, one record per CT screen) contains information from the Spiral CT screening exams. This includes technical parameters, reconstruction filter(s), reader ID, and recommendations for diagnostic follow-up.'\n3. 'The Chest X-Ray Screening dataset (~73,500, one record per X-Ray screen) contains information from the Chest X-Ray screening exams. This includes technical parameters, reader ID, and recommendations for diagnostic follow-up.'\n4. 'The Spiral CT Abnormalities dataset (~177,500, one record per abnormality on CT) contains information about each abnormality observed on the Spiral CT screening exams.'\n5. 'The Chest X-Ray Abnormalities dataset (~47,200, one record per abnormality on X-Ray) contains information about each abnormality observed on the Chest X-Ray screening exams.'\n6. 'The Spiral CT Comparison Read Abnormalities dataset (~31,000, one record per abnormality on CT) contains information about two types of abnormalities observed on the comparison read of CT exams: (a) all non-calcified nodules / masses &gt;= 4mm in diameter; (b) other abnormalities deemed significant by the radiologist. Information about change in size and attenuation is available.'\n\n\n",
            "text/latex": "\\begin{enumerate*}\n\\item 'The Participant dataset is a comprehensive dataset that contains all the NLST study data needed for most analyses of lung cancer screening, incidence, and mortality.  The dataset contains one record for each of the \\textasciitilde{}53,500 participants in NLST.'\n\\item 'The Spiral CT Screening dataset (\\textasciitilde{}75,100, one record per CT screen) contains information from the Spiral CT screening exams. This includes technical parameters, reconstruction filter(s), reader ID, and recommendations for diagnostic follow-up.'\n\\item 'The Chest X-Ray Screening dataset (\\textasciitilde{}73,500, one record per X-Ray screen) contains information from the Chest X-Ray screening exams. This includes technical parameters, reader ID, and recommendations for diagnostic follow-up.'\n\\item 'The Spiral CT Abnormalities dataset (\\textasciitilde{}177,500, one record per abnormality on CT) contains information about each abnormality observed on the Spiral CT screening exams.'\n\\item 'The Chest X-Ray Abnormalities dataset (\\textasciitilde{}47,200, one record per abnormality on X-Ray) contains information about each abnormality observed on the Chest X-Ray screening exams.'\n\\item 'The Spiral CT Comparison Read Abnormalities dataset (\\textasciitilde{}31,000, one record per abnormality on CT) contains information about two types of abnormalities observed on the comparison read of CT exams: (a) all non-calcified nodules / masses >= 4mm in diameter; (b) other abnormalities deemed significant by the radiologist. Information about change in size and attenuation is available.'\n\\end{enumerate*}\n",
            "text/plain": [
              "[1] \"The Participant dataset is a comprehensive dataset that contains all the NLST study data needed for most analyses of lung cancer screening, incidence, and mortality.  The dataset contains one record for each of the ~53,500 participants in NLST.\"                                                                                                                                       \n",
              "[2] \"The Spiral CT Screening dataset (~75,100, one record per CT screen) contains information from the Spiral CT screening exams. This includes technical parameters, reconstruction filter(s), reader ID, and recommendations for diagnostic follow-up.\"                                                                                                                                        \n",
              "[3] \"The Chest X-Ray Screening dataset (~73,500, one record per X-Ray screen) contains information from the Chest X-Ray screening exams. This includes technical parameters, reader ID, and recommendations for diagnostic follow-up.\"                                                                                                                                                           \n",
              "[4] \"The Spiral CT Abnormalities dataset (~177,500, one record per abnormality on CT) contains information about each abnormality observed on the Spiral CT screening exams.\"                                                                                                                                                                                                                    \n",
              "[5] \"The Chest X-Ray Abnormalities dataset (~47,200, one record per abnormality on X-Ray) contains information about each abnormality observed on the Chest X-Ray screening exams.\"                                                                                                                                                                                                              \n",
              "[6] \"The Spiral CT Comparison Read Abnormalities dataset (~31,000, one record per abnormality on CT) contains information about two types of abnormalities observed on the comparison read of CT exams: (a) all non-calcified nodules / masses >= 4mm in diameter; (b) other abnormalities deemed significant by the radiologist. Information about change in size and attenuation is available.\""
            ]
          },
          "metadata": {}
        }
      ]
    },
    {
      "cell_type": "markdown",
      "source": [
        "## Сохраним обработанные данные в наш датафрейм"
      ],
      "metadata": {
        "id": "NmOpZGXLQPy6"
      }
    },
    {
      "cell_type": "code",
      "source": [
        "tabl[\"description\"] = desc_new\n",
        "dplyr::tibble(tabl)"
      ],
      "metadata": {
        "colab": {
          "base_uri": "https://localhost:8080/",
          "height": 978
        },
        "id": "SrHlEB8_205F",
        "executionInfo": {
          "status": "ok",
          "timestamp": 1684705212345,
          "user_tz": -180,
          "elapsed": 418,
          "user": {
            "displayName": "Daniel D",
            "userId": "11270935181438165191"
          }
        },
        "outputId": "db28ce8a-2dbf-471d-ffb7-38c42b718553"
      },
      "execution_count": null,
      "outputs": [
        {
          "output_type": "display_data",
          "data": {
            "text/html": [
              "<table class=\"dataframe\">\n",
              "<caption>A tibble: 17 × 2</caption>\n",
              "<thead>\n",
              "\t<tr><th scope=col>data</th><th scope=col>description</th></tr>\n",
              "\t<tr><th scope=col>&lt;chr&gt;</th><th scope=col>&lt;chr&gt;</th></tr>\n",
              "</thead>\n",
              "<tbody>\n",
              "\t<tr><td>Data Dictionary\n",
              "            \n",
              "            (PDF - 382.2 KB)</td><td>The Participant dataset is a comprehensive dataset that contains all the NLST study data needed for most analyses of lung cancer screening, incidence, and mortality.  The dataset contains one record for each of the ~53,500 participants in NLST.                                                                                                                                                                                                                                                                                     </td></tr>\n",
              "\t<tr><td>Data Dictionary\n",
              "            \n",
              "            (PDF - 82.7 KB) </td><td>The Spiral CT Screening dataset (~75,100, one record per CT screen) contains information from the Spiral CT screening exams. This includes technical parameters, reconstruction filter(s), reader ID, and recommendations for diagnostic follow-up.                                                                                                                                                                                                                                                                                      </td></tr>\n",
              "\t<tr><td>Data Dictionary\n",
              "            \n",
              "            (PDF - 75.5 KB) </td><td>The Chest X-Ray Screening dataset (~73,500, one record per X-Ray screen) contains information from the Chest X-Ray screening exams. This includes technical parameters, reader ID, and recommendations for diagnostic follow-up.                                                                                                                                                                                                                                                                                                         </td></tr>\n",
              "\t<tr><td>Data Dictionary\n",
              "            \n",
              "            (PDF - 53.6 KB) </td><td>The Spiral CT Abnormalities dataset (~177,500, one record per abnormality on CT) contains information about each abnormality observed on the Spiral CT screening exams.                                                                                                                                                                                                                                                                                                                                                                  </td></tr>\n",
              "\t<tr><td>Data Dictionary\n",
              "            \n",
              "            (PDF - 50.5 KB) </td><td>The Chest X-Ray Abnormalities dataset (~47,200, one record per abnormality on X-Ray) contains information about each abnormality observed on the Chest X-Ray screening exams.                                                                                                                                                                                                                                                                                                                                                            </td></tr>\n",
              "\t<tr><td><span style=white-space:pre-wrap>Data Dictionary\n",
              "            \n",
              "            (PDF - 51.0 KB) </span></td><td><span style=white-space:pre-wrap>The Spiral CT Comparison Read Abnormalities dataset (~31,000, one record per abnormality on CT) contains information about two types of abnormalities observed on the comparison read of CT exams: (a) all non-calcified nodules / masses &gt;= 4mm in diameter; (b) other abnormalities deemed significant by the radiologist. Information about change in size and attenuation is available.                                                                                                                                              </span></td></tr>\n",
              "\t<tr><td>Data Dictionary\n",
              "            \n",
              "            (PDF - 51.0 KB) </td><td>The Chest X-Ray Comparison Read Abnormalities dataset (~5,200, one record per abnormality on X-Ray) contains information about two types of abnormalities observed on the comparison read of X-rays: (a) all non-calcified nodules / masses; (b) other abnormalities deemed significant by the radiologist. Information about change in size and attenuation is available.                                                                                                                                                               </td></tr>\n",
              "\t<tr><td>Data Dictionary\n",
              "            \n",
              "            (PDF - 52.4 KB) </td><td>The Diagnostic Procedures dataset (~60,900, one record per diagnostic procedure) contains information on: (a) diagnostic procedures prompted by a positive screening exam (i.e. suspicious for lung cancer), and (b) diagnostic / staging procedures associated with any lung cancer diagnosed during the trial.                                                                                                                                                                                                                         </td></tr>\n",
              "\t<tr><td>Data Dictionary\n",
              "            \n",
              "            (PDF - 52.9 KB) </td><td>The Medical Complications dataset (~800, one record per medical complication) contains information about complications related to diagnostic evaluation performed in response to a positive screening exam or in diagnosing lung cancer at any time during the trial.                                                                                                                                                                                                                                                                    </td></tr>\n",
              "\t<tr><td>Data Dictionary\n",
              "            \n",
              "            (PDF - 87.4 KB) </td><td>The Lung Cancer dataset (~2,100, one record per lung cancer) contains information about each lung cancer diagnosed during the trial, including multiple primary tumors in the same individual. It focuses on characteristics of the cancer, including information not available in the Participant dataset.                                                                                                                                                                                                                              </td></tr>\n",
              "\t<tr><td>Data Dictionary\n",
              "            \n",
              "            (PDF - 47.8 KB) </td><td>The Treatment dataset (~4,600, one record per treatment procedure) contains information about procedures received in the initial course of treatment for lung cancer.                                                                                                                                                                                                                                                                                                                                                                    </td></tr>\n",
              "\t<tr><td>Data Dictionary\n",
              "            \n",
              "            (PDF - 43.7 KB) </td><td>The Cause of Death dataset (~15,200, one record per cause of death/other condition) contains information on all conditions listed on the death certificate and the cause of death from the endpoint verification process.                                                                                                                                                                                                                                                                                                                </td></tr>\n",
              "\t<tr><td>Data Dictionary\n",
              "            \n",
              "            (PDF - 42.6 KB) </td><td>The LSS Non-cancer Condition dataset (~10,900, one record per condition) contains information on non-cancer conditions diagnosed near the time of lung cancer diagnosis or of diagnostic evaluation for lung cancer following a positive screening exam. These data have serious limitations for most analyses; they were collected only on a subset of study participants during limited time windows, and they may not be comprehensive even within those windows because these data were not a primary focus of collection.           </td></tr>\n",
              "\t<tr><td>Data Dictionary\n",
              "            \n",
              "            (PDF - 43.0 KB) </td><td>The ACRIN Non-lung-cancer Condition dataset (~3,400, one record per condition) contains information on non-lung-cancer conditions diagnosed near the time of lung cancer diagnosis or of diagnostic evaluation for lung cancer following a positive screening exam. These data have serious limitations for most analyses; they were collected only on a subset of study participants during limited time windows, and they may not be comprehensive even within those windows because these data were not a primary focus of collection.</td></tr>\n",
              "\t<tr><td>Data Dictionary\n",
              "            \n",
              "            (PDF - 67.8 KB) </td><td>The LSS HAQ dataset (~3,200, one record per survey form) contains data from an annual survey of a random sample of LSS participants about medical procedures received over the previous year. The main purpose of the survey was to learn about spiral CT and chest x-ray exams received to calculate how often spiral CT screening was being used by participants in the x-ray arm and vice versa.                                                                                                                                      </td></tr>\n",
              "\t<tr><td>Data Dictionary\n",
              "            \n",
              "            (PDF - 79.0 KB) </td><td>The Spiral CT Image Information dataset (~203,000, one record per SCT image series) contains information on the technical parameters of the CT scanner recorded during the image collection. The dataset also provides a means to link SCT image files to participants and where those images are batched in either a hard drive delivery or Lung Cancer Selection download.                                                                                                                                                             </td></tr>\n",
              "\t<tr><td>Data Dictionary\n",
              "            \n",
              "            (PDF - 98.9 KB) </td><td>The Pathology Image dataset (~1,250, one record per pathology image) contains data pertaining to the tissue block as well of the regions of interest indicated in the pathology report. The dataset also provides a means to link pathology image files to participants and where those images are batched in either a hard drive delivery or Standard Pathology Selection download.                                                                                                                                                     </td></tr>\n",
              "</tbody>\n",
              "</table>\n"
            ],
            "text/markdown": "\nA tibble: 17 × 2\n\n| data &lt;chr&gt; | description &lt;chr&gt; |\n|---|---|\n| Data Dictionary\n            \n            (PDF - 382.2 KB) | The Participant dataset is a comprehensive dataset that contains all the NLST study data needed for most analyses of lung cancer screening, incidence, and mortality.  The dataset contains one record for each of the ~53,500 participants in NLST.                                                                                                                                                                                                                                                                                      |\n| Data Dictionary\n            \n            (PDF - 82.7 KB)  | The Spiral CT Screening dataset (~75,100, one record per CT screen) contains information from the Spiral CT screening exams. This includes technical parameters, reconstruction filter(s), reader ID, and recommendations for diagnostic follow-up.                                                                                                                                                                                                                                                                                       |\n| Data Dictionary\n            \n            (PDF - 75.5 KB)  | The Chest X-Ray Screening dataset (~73,500, one record per X-Ray screen) contains information from the Chest X-Ray screening exams. This includes technical parameters, reader ID, and recommendations for diagnostic follow-up.                                                                                                                                                                                                                                                                                                          |\n| Data Dictionary\n            \n            (PDF - 53.6 KB)  | The Spiral CT Abnormalities dataset (~177,500, one record per abnormality on CT) contains information about each abnormality observed on the Spiral CT screening exams.                                                                                                                                                                                                                                                                                                                                                                   |\n| Data Dictionary\n            \n            (PDF - 50.5 KB)  | The Chest X-Ray Abnormalities dataset (~47,200, one record per abnormality on X-Ray) contains information about each abnormality observed on the Chest X-Ray screening exams.                                                                                                                                                                                                                                                                                                                                                             |\n| Data Dictionary\n            \n            (PDF - 51.0 KB)  | The Spiral CT Comparison Read Abnormalities dataset (~31,000, one record per abnormality on CT) contains information about two types of abnormalities observed on the comparison read of CT exams: (a) all non-calcified nodules / masses &gt;= 4mm in diameter; (b) other abnormalities deemed significant by the radiologist. Information about change in size and attenuation is available.                                                                                                                                               |\n| Data Dictionary\n            \n            (PDF - 51.0 KB)  | The Chest X-Ray Comparison Read Abnormalities dataset (~5,200, one record per abnormality on X-Ray) contains information about two types of abnormalities observed on the comparison read of X-rays: (a) all non-calcified nodules / masses; (b) other abnormalities deemed significant by the radiologist. Information about change in size and attenuation is available.                                                                                                                                                                |\n| Data Dictionary\n            \n            (PDF - 52.4 KB)  | The Diagnostic Procedures dataset (~60,900, one record per diagnostic procedure) contains information on: (a) diagnostic procedures prompted by a positive screening exam (i.e. suspicious for lung cancer), and (b) diagnostic / staging procedures associated with any lung cancer diagnosed during the trial.                                                                                                                                                                                                                          |\n| Data Dictionary\n            \n            (PDF - 52.9 KB)  | The Medical Complications dataset (~800, one record per medical complication) contains information about complications related to diagnostic evaluation performed in response to a positive screening exam or in diagnosing lung cancer at any time during the trial.                                                                                                                                                                                                                                                                     |\n| Data Dictionary\n            \n            (PDF - 87.4 KB)  | The Lung Cancer dataset (~2,100, one record per lung cancer) contains information about each lung cancer diagnosed during the trial, including multiple primary tumors in the same individual. It focuses on characteristics of the cancer, including information not available in the Participant dataset.                                                                                                                                                                                                                               |\n| Data Dictionary\n            \n            (PDF - 47.8 KB)  | The Treatment dataset (~4,600, one record per treatment procedure) contains information about procedures received in the initial course of treatment for lung cancer.                                                                                                                                                                                                                                                                                                                                                                     |\n| Data Dictionary\n            \n            (PDF - 43.7 KB)  | The Cause of Death dataset (~15,200, one record per cause of death/other condition) contains information on all conditions listed on the death certificate and the cause of death from the endpoint verification process.                                                                                                                                                                                                                                                                                                                 |\n| Data Dictionary\n            \n            (PDF - 42.6 KB)  | The LSS Non-cancer Condition dataset (~10,900, one record per condition) contains information on non-cancer conditions diagnosed near the time of lung cancer diagnosis or of diagnostic evaluation for lung cancer following a positive screening exam. These data have serious limitations for most analyses; they were collected only on a subset of study participants during limited time windows, and they may not be comprehensive even within those windows because these data were not a primary focus of collection.            |\n| Data Dictionary\n            \n            (PDF - 43.0 KB)  | The ACRIN Non-lung-cancer Condition dataset (~3,400, one record per condition) contains information on non-lung-cancer conditions diagnosed near the time of lung cancer diagnosis or of diagnostic evaluation for lung cancer following a positive screening exam. These data have serious limitations for most analyses; they were collected only on a subset of study participants during limited time windows, and they may not be comprehensive even within those windows because these data were not a primary focus of collection. |\n| Data Dictionary\n            \n            (PDF - 67.8 KB)  | The LSS HAQ dataset (~3,200, one record per survey form) contains data from an annual survey of a random sample of LSS participants about medical procedures received over the previous year. The main purpose of the survey was to learn about spiral CT and chest x-ray exams received to calculate how often spiral CT screening was being used by participants in the x-ray arm and vice versa.                                                                                                                                       |\n| Data Dictionary\n            \n            (PDF - 79.0 KB)  | The Spiral CT Image Information dataset (~203,000, one record per SCT image series) contains information on the technical parameters of the CT scanner recorded during the image collection. The dataset also provides a means to link SCT image files to participants and where those images are batched in either a hard drive delivery or Lung Cancer Selection download.                                                                                                                                                              |\n| Data Dictionary\n            \n            (PDF - 98.9 KB)  | The Pathology Image dataset (~1,250, one record per pathology image) contains data pertaining to the tissue block as well of the regions of interest indicated in the pathology report. The dataset also provides a means to link pathology image files to participants and where those images are batched in either a hard drive delivery or Standard Pathology Selection download.                                                                                                                                                      |\n\n",
            "text/latex": "A tibble: 17 × 2\n\\begin{tabular}{ll}\n data & description\\\\\n <chr> & <chr>\\\\\n\\hline\n\t Data Dictionary\n            \n            (PDF - 382.2 KB) & The Participant dataset is a comprehensive dataset that contains all the NLST study data needed for most analyses of lung cancer screening, incidence, and mortality.  The dataset contains one record for each of the \\textasciitilde{}53,500 participants in NLST.                                                                                                                                                                                                                                                                                     \\\\\n\t Data Dictionary\n            \n            (PDF - 82.7 KB)  & The Spiral CT Screening dataset (\\textasciitilde{}75,100, one record per CT screen) contains information from the Spiral CT screening exams. This includes technical parameters, reconstruction filter(s), reader ID, and recommendations for diagnostic follow-up.                                                                                                                                                                                                                                                                                      \\\\\n\t Data Dictionary\n            \n            (PDF - 75.5 KB)  & The Chest X-Ray Screening dataset (\\textasciitilde{}73,500, one record per X-Ray screen) contains information from the Chest X-Ray screening exams. This includes technical parameters, reader ID, and recommendations for diagnostic follow-up.                                                                                                                                                                                                                                                                                                         \\\\\n\t Data Dictionary\n            \n            (PDF - 53.6 KB)  & The Spiral CT Abnormalities dataset (\\textasciitilde{}177,500, one record per abnormality on CT) contains information about each abnormality observed on the Spiral CT screening exams.                                                                                                                                                                                                                                                                                                                                                                  \\\\\n\t Data Dictionary\n            \n            (PDF - 50.5 KB)  & The Chest X-Ray Abnormalities dataset (\\textasciitilde{}47,200, one record per abnormality on X-Ray) contains information about each abnormality observed on the Chest X-Ray screening exams.                                                                                                                                                                                                                                                                                                                                                            \\\\\n\t Data Dictionary\n            \n            (PDF - 51.0 KB)  & The Spiral CT Comparison Read Abnormalities dataset (\\textasciitilde{}31,000, one record per abnormality on CT) contains information about two types of abnormalities observed on the comparison read of CT exams: (a) all non-calcified nodules / masses >= 4mm in diameter; (b) other abnormalities deemed significant by the radiologist. Information about change in size and attenuation is available.                                                                                                                                              \\\\\n\t Data Dictionary\n            \n            (PDF - 51.0 KB)  & The Chest X-Ray Comparison Read Abnormalities dataset (\\textasciitilde{}5,200, one record per abnormality on X-Ray) contains information about two types of abnormalities observed on the comparison read of X-rays: (a) all non-calcified nodules / masses; (b) other abnormalities deemed significant by the radiologist. Information about change in size and attenuation is available.                                                                                                                                                               \\\\\n\t Data Dictionary\n            \n            (PDF - 52.4 KB)  & The Diagnostic Procedures dataset (\\textasciitilde{}60,900, one record per diagnostic procedure) contains information on: (a) diagnostic procedures prompted by a positive screening exam (i.e. suspicious for lung cancer), and (b) diagnostic / staging procedures associated with any lung cancer diagnosed during the trial.                                                                                                                                                                                                                         \\\\\n\t Data Dictionary\n            \n            (PDF - 52.9 KB)  & The Medical Complications dataset (\\textasciitilde{}800, one record per medical complication) contains information about complications related to diagnostic evaluation performed in response to a positive screening exam or in diagnosing lung cancer at any time during the trial.                                                                                                                                                                                                                                                                    \\\\\n\t Data Dictionary\n            \n            (PDF - 87.4 KB)  & The Lung Cancer dataset (\\textasciitilde{}2,100, one record per lung cancer) contains information about each lung cancer diagnosed during the trial, including multiple primary tumors in the same individual. It focuses on characteristics of the cancer, including information not available in the Participant dataset.                                                                                                                                                                                                                              \\\\\n\t Data Dictionary\n            \n            (PDF - 47.8 KB)  & The Treatment dataset (\\textasciitilde{}4,600, one record per treatment procedure) contains information about procedures received in the initial course of treatment for lung cancer.                                                                                                                                                                                                                                                                                                                                                                    \\\\\n\t Data Dictionary\n            \n            (PDF - 43.7 KB)  & The Cause of Death dataset (\\textasciitilde{}15,200, one record per cause of death/other condition) contains information on all conditions listed on the death certificate and the cause of death from the endpoint verification process.                                                                                                                                                                                                                                                                                                                \\\\\n\t Data Dictionary\n            \n            (PDF - 42.6 KB)  & The LSS Non-cancer Condition dataset (\\textasciitilde{}10,900, one record per condition) contains information on non-cancer conditions diagnosed near the time of lung cancer diagnosis or of diagnostic evaluation for lung cancer following a positive screening exam. These data have serious limitations for most analyses; they were collected only on a subset of study participants during limited time windows, and they may not be comprehensive even within those windows because these data were not a primary focus of collection.           \\\\\n\t Data Dictionary\n            \n            (PDF - 43.0 KB)  & The ACRIN Non-lung-cancer Condition dataset (\\textasciitilde{}3,400, one record per condition) contains information on non-lung-cancer conditions diagnosed near the time of lung cancer diagnosis or of diagnostic evaluation for lung cancer following a positive screening exam. These data have serious limitations for most analyses; they were collected only on a subset of study participants during limited time windows, and they may not be comprehensive even within those windows because these data were not a primary focus of collection.\\\\\n\t Data Dictionary\n            \n            (PDF - 67.8 KB)  & The LSS HAQ dataset (\\textasciitilde{}3,200, one record per survey form) contains data from an annual survey of a random sample of LSS participants about medical procedures received over the previous year. The main purpose of the survey was to learn about spiral CT and chest x-ray exams received to calculate how often spiral CT screening was being used by participants in the x-ray arm and vice versa.                                                                                                                                      \\\\\n\t Data Dictionary\n            \n            (PDF - 79.0 KB)  & The Spiral CT Image Information dataset (\\textasciitilde{}203,000, one record per SCT image series) contains information on the technical parameters of the CT scanner recorded during the image collection. The dataset also provides a means to link SCT image files to participants and where those images are batched in either a hard drive delivery or Lung Cancer Selection download.                                                                                                                                                             \\\\\n\t Data Dictionary\n            \n            (PDF - 98.9 KB)  & The Pathology Image dataset (\\textasciitilde{}1,250, one record per pathology image) contains data pertaining to the tissue block as well of the regions of interest indicated in the pathology report. The dataset also provides a means to link pathology image files to participants and where those images are batched in either a hard drive delivery or Standard Pathology Selection download.                                                                                                                                                     \\\\\n\\end{tabular}\n",
            "text/plain": [
              "   data                                                       \n",
              "1  Data Dictionary\\n            \\n            (PDF - 382.2 KB)\n",
              "2  Data Dictionary\\n            \\n            (PDF - 82.7 KB) \n",
              "3  Data Dictionary\\n            \\n            (PDF - 75.5 KB) \n",
              "4  Data Dictionary\\n            \\n            (PDF - 53.6 KB) \n",
              "5  Data Dictionary\\n            \\n            (PDF - 50.5 KB) \n",
              "6  Data Dictionary\\n            \\n            (PDF - 51.0 KB) \n",
              "7  Data Dictionary\\n            \\n            (PDF - 51.0 KB) \n",
              "8  Data Dictionary\\n            \\n            (PDF - 52.4 KB) \n",
              "9  Data Dictionary\\n            \\n            (PDF - 52.9 KB) \n",
              "10 Data Dictionary\\n            \\n            (PDF - 87.4 KB) \n",
              "11 Data Dictionary\\n            \\n            (PDF - 47.8 KB) \n",
              "12 Data Dictionary\\n            \\n            (PDF - 43.7 KB) \n",
              "13 Data Dictionary\\n            \\n            (PDF - 42.6 KB) \n",
              "14 Data Dictionary\\n            \\n            (PDF - 43.0 KB) \n",
              "15 Data Dictionary\\n            \\n            (PDF - 67.8 KB) \n",
              "16 Data Dictionary\\n            \\n            (PDF - 79.0 KB) \n",
              "17 Data Dictionary\\n            \\n            (PDF - 98.9 KB) \n",
              "   description                                                                                                                                                                                                                                                                                                                                                                                                                                                                                                                              \n",
              "1  The Participant dataset is a comprehensive dataset that contains all the NLST study data needed for most analyses of lung cancer screening, incidence, and mortality.  The dataset contains one record for each of the ~53,500 participants in NLST.                                                                                                                                                                                                                                                                                     \n",
              "2  The Spiral CT Screening dataset (~75,100, one record per CT screen) contains information from the Spiral CT screening exams. This includes technical parameters, reconstruction filter(s), reader ID, and recommendations for diagnostic follow-up.                                                                                                                                                                                                                                                                                      \n",
              "3  The Chest X-Ray Screening dataset (~73,500, one record per X-Ray screen) contains information from the Chest X-Ray screening exams. This includes technical parameters, reader ID, and recommendations for diagnostic follow-up.                                                                                                                                                                                                                                                                                                         \n",
              "4  The Spiral CT Abnormalities dataset (~177,500, one record per abnormality on CT) contains information about each abnormality observed on the Spiral CT screening exams.                                                                                                                                                                                                                                                                                                                                                                  \n",
              "5  The Chest X-Ray Abnormalities dataset (~47,200, one record per abnormality on X-Ray) contains information about each abnormality observed on the Chest X-Ray screening exams.                                                                                                                                                                                                                                                                                                                                                            \n",
              "6  The Spiral CT Comparison Read Abnormalities dataset (~31,000, one record per abnormality on CT) contains information about two types of abnormalities observed on the comparison read of CT exams: (a) all non-calcified nodules / masses >= 4mm in diameter; (b) other abnormalities deemed significant by the radiologist. Information about change in size and attenuation is available.                                                                                                                                              \n",
              "7  The Chest X-Ray Comparison Read Abnormalities dataset (~5,200, one record per abnormality on X-Ray) contains information about two types of abnormalities observed on the comparison read of X-rays: (a) all non-calcified nodules / masses; (b) other abnormalities deemed significant by the radiologist. Information about change in size and attenuation is available.                                                                                                                                                               \n",
              "8  The Diagnostic Procedures dataset (~60,900, one record per diagnostic procedure) contains information on: (a) diagnostic procedures prompted by a positive screening exam (i.e. suspicious for lung cancer), and (b) diagnostic / staging procedures associated with any lung cancer diagnosed during the trial.                                                                                                                                                                                                                         \n",
              "9  The Medical Complications dataset (~800, one record per medical complication) contains information about complications related to diagnostic evaluation performed in response to a positive screening exam or in diagnosing lung cancer at any time during the trial.                                                                                                                                                                                                                                                                    \n",
              "10 The Lung Cancer dataset (~2,100, one record per lung cancer) contains information about each lung cancer diagnosed during the trial, including multiple primary tumors in the same individual. It focuses on characteristics of the cancer, including information not available in the Participant dataset.                                                                                                                                                                                                                              \n",
              "11 The Treatment dataset (~4,600, one record per treatment procedure) contains information about procedures received in the initial course of treatment for lung cancer.                                                                                                                                                                                                                                                                                                                                                                    \n",
              "12 The Cause of Death dataset (~15,200, one record per cause of death/other condition) contains information on all conditions listed on the death certificate and the cause of death from the endpoint verification process.                                                                                                                                                                                                                                                                                                                \n",
              "13 The LSS Non-cancer Condition dataset (~10,900, one record per condition) contains information on non-cancer conditions diagnosed near the time of lung cancer diagnosis or of diagnostic evaluation for lung cancer following a positive screening exam. These data have serious limitations for most analyses; they were collected only on a subset of study participants during limited time windows, and they may not be comprehensive even within those windows because these data were not a primary focus of collection.           \n",
              "14 The ACRIN Non-lung-cancer Condition dataset (~3,400, one record per condition) contains information on non-lung-cancer conditions diagnosed near the time of lung cancer diagnosis or of diagnostic evaluation for lung cancer following a positive screening exam. These data have serious limitations for most analyses; they were collected only on a subset of study participants during limited time windows, and they may not be comprehensive even within those windows because these data were not a primary focus of collection.\n",
              "15 The LSS HAQ dataset (~3,200, one record per survey form) contains data from an annual survey of a random sample of LSS participants about medical procedures received over the previous year. The main purpose of the survey was to learn about spiral CT and chest x-ray exams received to calculate how often spiral CT screening was being used by participants in the x-ray arm and vice versa.                                                                                                                                      \n",
              "16 The Spiral CT Image Information dataset (~203,000, one record per SCT image series) contains information on the technical parameters of the CT scanner recorded during the image collection. The dataset also provides a means to link SCT image files to participants and where those images are batched in either a hard drive delivery or Lung Cancer Selection download.                                                                                                                                                             \n",
              "17 The Pathology Image dataset (~1,250, one record per pathology image) contains data pertaining to the tissue block as well of the regions of interest indicated in the pathology report. The dataset also provides a means to link pathology image files to participants and where those images are batched in either a hard drive delivery or Standard Pathology Selection download.                                                                                                                                                     "
            ]
          },
          "metadata": {}
        }
      ]
    },
    {
      "cell_type": "markdown",
      "source": [
        "## Приобретенные навыки\n",
        "\n",
        "1. Научились писать условие if else\n",
        "2. Познакомились с полезными и простыми функциями ifelse(), sapply(), tapply(), lapply()\n",
        "3. Научились писать свою собственную функцию и использовать цикл for\n",
        "4. Рассмотрели метод Монте-Карло\n",
        "5. Познакомились с пакетом dplyr и его полезными функциями для подготовки данных\n",
        "6. Научились сохранять и импортировать данные в R\n",
        "7. На реальном примере импортировали данные в R из интернет-ресурса\n",
        "8. Познакомились с инструментарием для работы с текстовыми данными"
      ],
      "metadata": {
        "id": "VbQ5vagfQ_95"
      }
    },
    {
      "cell_type": "code",
      "source": [],
      "metadata": {
        "id": "LreOhYrZbCXJ"
      },
      "execution_count": null,
      "outputs": []
    }
  ]
}