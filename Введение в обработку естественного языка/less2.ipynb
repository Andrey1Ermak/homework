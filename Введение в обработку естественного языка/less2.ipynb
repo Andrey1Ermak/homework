{
 "cells": [
  {
   "cell_type": "markdown",
   "id": "d1d96d99",
   "metadata": {
    "_cell_guid": "3e195f12-de82-440d-855c-6f6e667cf36e",
    "_uuid": "7e41fa0f-369b-4da3-84a5-4f533d26a1f7",
    "papermill": {
     "duration": 0.019364,
     "end_time": "2023-08-08T11:42:27.705113",
     "exception": false,
     "start_time": "2023-08-08T11:42:27.685749",
     "status": "completed"
    },
    "tags": []
   },
   "source": [
    "# Введение в обработку естественного языка"
   ]
  },
  {
   "cell_type": "markdown",
   "id": "a0250112",
   "metadata": {
    "_cell_guid": "b6f6a0fd-cd52-493b-9c96-4b7a4911b1c2",
    "_uuid": "478e4147-b501-420f-bfbd-abe06d0c728e",
    "papermill": {
     "duration": 0.018336,
     "end_time": "2023-08-08T11:42:27.742236",
     "exception": false,
     "start_time": "2023-08-08T11:42:27.723900",
     "status": "completed"
    },
    "tags": []
   },
   "source": [
    "## Урок 2. Создание признакового пространства"
   ]
  },
  {
   "cell_type": "markdown",
   "id": "80c81afe",
   "metadata": {
    "_cell_guid": "ddf29d8a-9f80-4d76-b17f-10b5f560a36e",
    "_uuid": "4ce1431f-4e43-4e29-90ed-805ab4dc392d",
    "id": "nom2EZsLKNhj",
    "papermill": {
     "duration": 0.018164,
     "end_time": "2023-08-08T11:42:27.779219",
     "exception": false,
     "start_time": "2023-08-08T11:42:27.761055",
     "status": "completed"
    },
    "tags": []
   },
   "source": [
    "Данные:\n",
    "\n",
    "https://disk.yandex.ru/i/v5HM-ENiGXZVpQ\n",
    "\n",
    "https://disk.yandex.ru/i/koR5eMCToCZS2Q\n",
    "\n",
    "Задание 1.\n",
    "Задание: обучите три классификатора:\n",
    "\n",
    "1) на токенах с высокой частотой\n",
    "\n",
    "2) на токенах со средней частотой\n",
    "\n",
    "3) на токенах с низкой частотой\n",
    "\n",
    "Сравните полученные результаты, оцените какие токены наиболее важные для классификации.\n",
    "\n",
    "Задание 2.\n",
    "найти фичи с наибольшей значимостью, и вывести их\n",
    "\n",
    "Задание 3.\n",
    "\n",
    "1) сравнить count/tf-idf/hashing векторайзеры/полносвязанную сетку (построить classification_report)\n",
    "\n",
    "2) подобрать оптимальный размер для hashing векторайзера\n",
    "\n",
    "3) убедиться что для сетки нет переобучения"
   ]
  },
  {
   "cell_type": "code",
   "execution_count": 1,
   "id": "ca668e19",
   "metadata": {
    "_cell_guid": "39ccf248-3396-47a0-a22d-cffae6b95d6f",
    "_uuid": "80b98e20-5631-45c0-803f-3e38b2ef8ea6",
    "collapsed": false,
    "execution": {
     "iopub.execute_input": "2023-08-08T11:42:27.819158Z",
     "iopub.status.busy": "2023-08-08T11:42:27.818114Z",
     "iopub.status.idle": "2023-08-08T11:42:29.383519Z",
     "shell.execute_reply": "2023-08-08T11:42:29.382506Z"
    },
    "id": "mcXSMZL_HRBN",
    "jupyter": {
     "outputs_hidden": false
    },
    "outputId": "92bd55d4-49c1-40f0-cc75-011f0f64bca6",
    "papermill": {
     "duration": 1.588277,
     "end_time": "2023-08-08T11:42:29.385972",
     "exception": false,
     "start_time": "2023-08-08T11:42:27.797695",
     "status": "completed"
    },
    "tags": []
   },
   "outputs": [
    {
     "name": "stderr",
     "output_type": "stream",
     "text": [
      "/opt/conda/lib/python3.10/site-packages/scipy/__init__.py:146: UserWarning: A NumPy version >=1.16.5 and <1.23.0 is required for this version of SciPy (detected version 1.23.5\n",
      "  warnings.warn(f\"A NumPy version >={np_minversion} and <{np_maxversion}\"\n"
     ]
    }
   ],
   "source": [
    "import pandas as pd\n",
    "import numpy as np\n",
    "import re\n",
    "from sklearn.metrics import *\n",
    "from sklearn.model_selection import train_test_split\n",
    "from nltk import word_tokenize\n",
    "from sklearn.linear_model import LogisticRegression\n",
    "from sklearn.feature_extraction.text import CountVectorizer, TfidfVectorizer, HashingVectorizer\n",
    "from collections import Counter\n",
    "from string import punctuation\n",
    "import matplotlib.pyplot as plt\n",
    "%matplotlib inline\n",
    "import nltk\n",
    "\n",
    "nltk.download('punkt', quiet=True)\n",
    "\n",
    "# Отключить вывод ошибок\n",
    "import warnings\n",
    "warnings.filterwarnings('ignore')\n",
    "warnings.simplefilter('ignore')"
   ]
  },
  {
   "cell_type": "code",
   "execution_count": 2,
   "id": "dc79309d",
   "metadata": {
    "_cell_guid": "172c8ebc-910f-48d1-bbd4-dbc7ad9d251b",
    "_uuid": "c8a2edb4-5a1b-4cac-a780-d433605a0cef",
    "collapsed": false,
    "execution": {
     "iopub.execute_input": "2023-08-08T11:42:29.425477Z",
     "iopub.status.busy": "2023-08-08T11:42:29.425112Z",
     "iopub.status.idle": "2023-08-08T11:42:30.943544Z",
     "shell.execute_reply": "2023-08-08T11:42:30.942531Z"
    },
    "id": "xu87Chct9g9P",
    "jupyter": {
     "outputs_hidden": false
    },
    "outputId": "461b5595-8340-4c09-a89b-195f9c682391",
    "papermill": {
     "duration": 1.541034,
     "end_time": "2023-08-08T11:42:30.946056",
     "exception": false,
     "start_time": "2023-08-08T11:42:29.405022",
     "status": "completed"
    },
    "tags": []
   },
   "outputs": [],
   "source": [
    "# считываем данные и заполняем общий датасет\n",
    "positive = pd.read_csv('/kaggle/input/INP-Lesson-02/positive.csv', sep=';', usecols=[3], names=['text'])\n",
    "positive['label'] = ['positive'] * len(positive)\n",
    "negative = pd.read_csv('/kaggle/input/INP-Lesson-02/negative.csv', sep=';', usecols=[3], names=['text'])\n",
    "negative['label'] = ['negative'] * len(negative)\n",
    "df = positive.append(negative)"
   ]
  },
  {
   "cell_type": "code",
   "execution_count": 3,
   "id": "584f13b7",
   "metadata": {
    "_cell_guid": "5735af90-1255-42ec-9e44-b65ff25dda07",
    "_uuid": "35810db0-6b41-4fe9-9262-044cbffa17a4",
    "collapsed": false,
    "execution": {
     "iopub.execute_input": "2023-08-08T11:42:30.985853Z",
     "iopub.status.busy": "2023-08-08T11:42:30.985144Z",
     "iopub.status.idle": "2023-08-08T11:42:30.989776Z",
     "shell.execute_reply": "2023-08-08T11:42:30.988873Z"
    },
    "id": "O4cXfWbRLPVl",
    "jupyter": {
     "outputs_hidden": false
    },
    "papermill": {
     "duration": 0.026641,
     "end_time": "2023-08-08T11:42:30.991760",
     "exception": false,
     "start_time": "2023-08-08T11:42:30.965119",
     "status": "completed"
    },
    "tags": []
   },
   "outputs": [],
   "source": [
    "def delete_pattern(text, pattern):\n",
    "  return re.sub(pattern, ' ', text)"
   ]
  },
  {
   "cell_type": "code",
   "execution_count": 4,
   "id": "883c742c",
   "metadata": {
    "_cell_guid": "3e36b860-0ac6-4443-87be-07ce9819ca16",
    "_uuid": "bca73250-6e10-4ea5-ab13-836720956541",
    "collapsed": false,
    "execution": {
     "iopub.execute_input": "2023-08-08T11:42:31.034631Z",
     "iopub.status.busy": "2023-08-08T11:42:31.033198Z",
     "iopub.status.idle": "2023-08-08T11:42:43.123610Z",
     "shell.execute_reply": "2023-08-08T11:42:43.122624Z"
    },
    "id": "MeXJMGF_KgzH",
    "jupyter": {
     "outputs_hidden": false
    },
    "papermill": {
     "duration": 12.114088,
     "end_time": "2023-08-08T11:42:43.126060",
     "exception": false,
     "start_time": "2023-08-08T11:42:31.011972",
     "status": "completed"
    },
    "tags": []
   },
   "outputs": [],
   "source": [
    "df['text'] = df['text'].apply(lambda x: x.lower())\n",
    "# Замена пунктуации на пробелы\n",
    "pattern_for_punctuation = r'[^\\w\\s]'\n",
    "df['text'] = df['text'].apply(lambda x: delete_pattern(x, pattern_for_punctuation))\n",
    "# Замена спец. символов на пробелы \n",
    "pattern_for_special_symb = r'[^a-zA-Z0-9]'\n",
    "df['text'] = df['text'].apply(lambda x: delete_pattern(x, pattern_for_special_symb))\n",
    "# Замена чисел на пробелы \n",
    "pattern_for_numbers = r'[^a-zA-Z]'\n",
    "df['text'] = df['text'].apply(lambda x: delete_pattern(x, pattern_for_numbers))\n",
    "# Удаление лишних пробелов\n",
    "df['text'] = df['text'].apply(lambda x: ' '.join(x.split()))"
   ]
  },
  {
   "cell_type": "code",
   "execution_count": 5,
   "id": "b3be9798",
   "metadata": {
    "_cell_guid": "50b14740-872b-4852-9c96-6e6dfbbcfde0",
    "_uuid": "faf15945-3ce7-46fe-9269-4c20ea17bdea",
    "collapsed": false,
    "execution": {
     "iopub.execute_input": "2023-08-08T11:42:43.168924Z",
     "iopub.status.busy": "2023-08-08T11:42:43.168581Z",
     "iopub.status.idle": "2023-08-08T11:42:43.507360Z",
     "shell.execute_reply": "2023-08-08T11:42:43.506379Z"
    },
    "id": "FHKlZcfe9gxq",
    "jupyter": {
     "outputs_hidden": false
    },
    "papermill": {
     "duration": 0.364194,
     "end_time": "2023-08-08T11:42:43.509803",
     "exception": false,
     "start_time": "2023-08-08T11:42:43.145609",
     "status": "completed"
    },
    "tags": []
   },
   "outputs": [],
   "source": [
    "x_train, x_test, y_train, y_test = train_test_split(df.text, df.label, \n",
    "                                                    test_size=0.25,\n",
    "                                                    stratify=df.label)"
   ]
  },
  {
   "cell_type": "code",
   "execution_count": 6,
   "id": "88cc3fc9",
   "metadata": {
    "_cell_guid": "46aec459-c12e-4416-a123-b535a4891053",
    "_uuid": "22cb6de6-5e6f-452b-a4b0-fe3a4fffe1c5",
    "collapsed": false,
    "execution": {
     "iopub.execute_input": "2023-08-08T11:42:43.549622Z",
     "iopub.status.busy": "2023-08-08T11:42:43.549257Z",
     "iopub.status.idle": "2023-08-08T11:42:43.562527Z",
     "shell.execute_reply": "2023-08-08T11:42:43.561603Z"
    },
    "id": "ZXtZd-icMxjC",
    "jupyter": {
     "outputs_hidden": false
    },
    "papermill": {
     "duration": 0.035398,
     "end_time": "2023-08-08T11:42:43.564713",
     "exception": false,
     "start_time": "2023-08-08T11:42:43.529315",
     "status": "completed"
    },
    "tags": []
   },
   "outputs": [],
   "source": [
    "x_train = x_train.reset_index(drop=True)\n",
    "x_test = x_test.reset_index(drop=True)\n",
    "y_train = y_train.reset_index(drop=True)\n",
    "y_test = y_test.reset_index(drop=True)"
   ]
  },
  {
   "cell_type": "code",
   "execution_count": 7,
   "id": "f0ce6f27",
   "metadata": {
    "_cell_guid": "48b63ff5-375c-4fab-8a5f-69732f663268",
    "_uuid": "bf37173b-4872-42e6-a115-1a14c3a64d74",
    "collapsed": false,
    "execution": {
     "iopub.execute_input": "2023-08-08T11:42:43.603550Z",
     "iopub.status.busy": "2023-08-08T11:42:43.603107Z",
     "iopub.status.idle": "2023-08-08T11:42:43.654045Z",
     "shell.execute_reply": "2023-08-08T11:42:43.652966Z"
    },
    "id": "p-Y84EYHgK4d",
    "jupyter": {
     "outputs_hidden": false
    },
    "papermill": {
     "duration": 0.072885,
     "end_time": "2023-08-08T11:42:43.656279",
     "exception": false,
     "start_time": "2023-08-08T11:42:43.583394",
     "status": "completed"
    },
    "tags": []
   },
   "outputs": [],
   "source": [
    "y_train_word = y_train.copy()\n",
    "y_train = [1 if elem == 'positive' else 0 for elem in y_train]\n",
    "y_test_word = y_test.copy()\n",
    "y_test = [1 if elem == 'positive' else 0 for elem in y_test]"
   ]
  },
  {
   "cell_type": "code",
   "execution_count": 8,
   "id": "8bd75b14",
   "metadata": {
    "_cell_guid": "636ce03c-3549-41c6-b8b6-ff0bfc4402d4",
    "_uuid": "c212c5e4-f3f3-4cf1-b699-82080152dfc9",
    "collapsed": false,
    "execution": {
     "iopub.execute_input": "2023-08-08T11:42:43.695631Z",
     "iopub.status.busy": "2023-08-08T11:42:43.695235Z",
     "iopub.status.idle": "2023-08-08T11:42:43.702132Z",
     "shell.execute_reply": "2023-08-08T11:42:43.701248Z"
    },
    "id": "gMzwhBw2-VSu",
    "jupyter": {
     "outputs_hidden": false
    },
    "outputId": "3de4fada-7d8f-4fab-9941-42e33d30494a",
    "papermill": {
     "duration": 0.029441,
     "end_time": "2023-08-08T11:42:43.704563",
     "exception": false,
     "start_time": "2023-08-08T11:42:43.675122",
     "status": "completed"
    },
    "tags": []
   },
   "outputs": [
    {
     "data": {
      "text/plain": [
       "'!\"#$%&\\'()*+,-./:;<=>?@[\\\\]^_`{|}~'"
      ]
     },
     "execution_count": 8,
     "metadata": {},
     "output_type": "execute_result"
    }
   ],
   "source": [
    "punctuation"
   ]
  },
  {
   "cell_type": "code",
   "execution_count": 9,
   "id": "b336a35e",
   "metadata": {
    "_cell_guid": "3744d4be-1de1-461b-a522-6377e5f761df",
    "_uuid": "9845ebbc-5984-47e3-85f9-67d9a47326cb",
    "collapsed": false,
    "execution": {
     "iopub.execute_input": "2023-08-08T11:42:43.744255Z",
     "iopub.status.busy": "2023-08-08T11:42:43.743249Z",
     "iopub.status.idle": "2023-08-08T11:43:01.109215Z",
     "shell.execute_reply": "2023-08-08T11:43:01.108318Z"
    },
    "id": "5dWIfZEr-O5R",
    "jupyter": {
     "outputs_hidden": false
    },
    "outputId": "654c6bb0-da25-4cb2-d5ed-2fce22638e79",
    "papermill": {
     "duration": 17.388149,
     "end_time": "2023-08-08T11:43:01.111434",
     "exception": false,
     "start_time": "2023-08-08T11:42:43.723285",
     "status": "completed"
    },
    "tags": []
   },
   "outputs": [
    {
     "name": "stdout",
     "output_type": "stream",
     "text": [
      "467845\n"
     ]
    },
    {
     "data": {
      "text/plain": [
       "['first', 'timee', 'd', 'd', 'rt', 'katiacheh', 'rt', 'digger', 'dd', 'http']"
      ]
     },
     "execution_count": 9,
     "metadata": {},
     "output_type": "execute_result"
    }
   ],
   "source": [
    "corpus = [token for tweet in df.text for token in word_tokenize(tweet) if token not in punctuation]\n",
    "print(len(corpus))\n",
    "corpus[:10]"
   ]
  },
  {
   "cell_type": "code",
   "execution_count": 10,
   "id": "291b533a",
   "metadata": {
    "_cell_guid": "657beea3-1f67-490f-a376-543eca96fbb7",
    "_uuid": "e6f819c5-833f-4b38-823a-048bc1729aba",
    "collapsed": false,
    "execution": {
     "iopub.execute_input": "2023-08-08T11:43:01.151525Z",
     "iopub.status.busy": "2023-08-08T11:43:01.151170Z",
     "iopub.status.idle": "2023-08-08T11:43:01.274440Z",
     "shell.execute_reply": "2023-08-08T11:43:01.273398Z"
    },
    "id": "BgxI3ZgN-Ovn",
    "jupyter": {
     "outputs_hidden": false
    },
    "outputId": "2d677768-1a07-48d8-d907-7a01350fc8f9",
    "papermill": {
     "duration": 0.145769,
     "end_time": "2023-08-08T11:43:01.276747",
     "exception": false,
     "start_time": "2023-08-08T11:43:01.130978",
     "status": "completed"
    },
    "tags": []
   },
   "outputs": [
    {
     "data": {
      "text/plain": [
       "[('rt', 38168),\n",
       " ('t', 34166),\n",
       " ('http', 33076),\n",
       " ('co', 33071),\n",
       " ('d', 19449),\n",
       " ('o', 3501),\n",
       " ('a', 2299),\n",
       " ('s', 1603),\n",
       " ('i', 1553),\n",
       " ('dd', 1311)]"
      ]
     },
     "execution_count": 10,
     "metadata": {},
     "output_type": "execute_result"
    }
   ],
   "source": [
    "freq_dict = Counter(corpus)\n",
    "freq_dict_sorted= sorted(freq_dict.items(), key=lambda x: -x[1])\n",
    "list(freq_dict_sorted)[:10]"
   ]
  },
  {
   "cell_type": "code",
   "execution_count": 11,
   "id": "63e3cec9",
   "metadata": {
    "_cell_guid": "aca8e1e0-51c7-4161-b1d9-c815f64c5e3c",
    "_uuid": "c63c6998-a34a-4d6b-a7b5-33e3065eba96",
    "collapsed": false,
    "execution": {
     "iopub.execute_input": "2023-08-08T11:43:01.317712Z",
     "iopub.status.busy": "2023-08-08T11:43:01.316756Z",
     "iopub.status.idle": "2023-08-08T11:43:01.577361Z",
     "shell.execute_reply": "2023-08-08T11:43:01.576291Z"
    },
    "id": "uRwMHNK1ChwF",
    "jupyter": {
     "outputs_hidden": false
    },
    "outputId": "de61abc1-42c5-41e4-cdd1-e5183198ea6f",
    "papermill": {
     "duration": 0.282915,
     "end_time": "2023-08-08T11:43:01.579500",
     "exception": false,
     "start_time": "2023-08-08T11:43:01.296585",
     "status": "completed"
    },
    "tags": []
   },
   "outputs": [
    {
     "data": {
      "image/png": "[encoded data removed]",
      "text/plain": [
       "<Figure size 640x480 with 1 Axes>"
      ]
     },
     "metadata": {},
     "output_type": "display_data"
    }
   ],
   "source": [
    "first_100_freqs = [freq for word, freq in freq_dict_sorted[:100]]\n",
    "plt.plot(first_100_freqs)\n",
    "plt.show()"
   ]
  },
  {
   "cell_type": "code",
   "execution_count": 12,
   "id": "e1b853e4",
   "metadata": {
    "_cell_guid": "6f17fb38-d4d7-4a3e-beb9-5723a832770c",
    "_uuid": "8e7827ff-08f1-487b-8036-0ca66bade60e",
    "collapsed": false,
    "execution": {
     "iopub.execute_input": "2023-08-08T11:43:01.621599Z",
     "iopub.status.busy": "2023-08-08T11:43:01.620584Z",
     "iopub.status.idle": "2023-08-08T11:43:01.896294Z",
     "shell.execute_reply": "2023-08-08T11:43:01.895259Z"
    },
    "id": "gz01vPUIC0kM",
    "jupyter": {
     "outputs_hidden": false
    },
    "outputId": "430b0d0b-adad-4b42-8123-b80c0e3bd5d8",
    "papermill": {
     "duration": 0.298955,
     "end_time": "2023-08-08T11:43:01.898625",
     "exception": false,
     "start_time": "2023-08-08T11:43:01.599670",
     "status": "completed"
    },
    "tags": []
   },
   "outputs": [
    {
     "data": {
      "image/png": "[encoded data removed]",
      "text/plain": [
       "<Figure size 640x480 with 1 Axes>"
      ]
     },
     "metadata": {},
     "output_type": "display_data"
    }
   ],
   "source": [
    "low_freq = [freq for word, freq in freq_dict_sorted if freq < 10]\n",
    "plt.plot(low_freq)\n",
    "plt.show()"
   ]
  },
  {
   "cell_type": "code",
   "execution_count": 13,
   "id": "d4f57589",
   "metadata": {
    "_cell_guid": "7d41d761-2d7f-4ba4-aa90-809090e02b09",
    "_uuid": "d526f688-147a-4a94-ae21-4018b3ba2bb1",
    "collapsed": false,
    "execution": {
     "iopub.execute_input": "2023-08-08T11:43:01.941033Z",
     "iopub.status.busy": "2023-08-08T11:43:01.940035Z",
     "iopub.status.idle": "2023-08-08T11:43:01.963019Z",
     "shell.execute_reply": "2023-08-08T11:43:01.962107Z"
    },
    "id": "P4JGqNGziyAs",
    "jupyter": {
     "outputs_hidden": false
    },
    "papermill": {
     "duration": 0.046294,
     "end_time": "2023-08-08T11:43:01.965172",
     "exception": false,
     "start_time": "2023-08-08T11:43:01.918878",
     "status": "completed"
    },
    "tags": []
   },
   "outputs": [],
   "source": [
    "very_low_freq = [freq for word, freq in freq_dict_sorted if freq <= 10]"
   ]
  },
  {
   "cell_type": "code",
   "execution_count": 14,
   "id": "c4684aba",
   "metadata": {
    "_cell_guid": "23d16144-655b-48dd-9740-be9f706e1ebc",
    "_uuid": "88b6196a-ed13-47a6-a332-15ed456d03d4",
    "collapsed": false,
    "execution": {
     "iopub.execute_input": "2023-08-08T11:43:02.007107Z",
     "iopub.status.busy": "2023-08-08T11:43:02.006105Z",
     "iopub.status.idle": "2023-08-08T11:43:02.243166Z",
     "shell.execute_reply": "2023-08-08T11:43:02.242099Z"
    },
    "id": "bLNAVrBVDd9n",
    "jupyter": {
     "outputs_hidden": false
    },
    "outputId": "0d74177e-a693-41ad-9fe3-8b1d6dd8a379",
    "papermill": {
     "duration": 0.260183,
     "end_time": "2023-08-08T11:43:02.245450",
     "exception": false,
     "start_time": "2023-08-08T11:43:01.985267",
     "status": "completed"
    },
    "tags": []
   },
   "outputs": [
    {
     "data": {
      "image/png": "[encoded data removed]",
      "text/plain": [
       "<Figure size 640x480 with 1 Axes>"
      ]
     },
     "metadata": {},
     "output_type": "display_data"
    }
   ],
   "source": [
    "mean_freq = [freq for word, freq in freq_dict_sorted[100:-len(low_freq)]]\n",
    "plt.plot(mean_freq)\n",
    "plt.show()"
   ]
  },
  {
   "cell_type": "code",
   "execution_count": 15,
   "id": "e4fa9e41",
   "metadata": {
    "_cell_guid": "a292fc21-951f-4b55-a159-7d1d50e5f21e",
    "_uuid": "2307668b-9ec4-4fe8-b7f9-0b2f9e361c3a",
    "collapsed": false,
    "execution": {
     "iopub.execute_input": "2023-08-08T11:43:02.287237Z",
     "iopub.status.busy": "2023-08-08T11:43:02.286613Z",
     "iopub.status.idle": "2023-08-08T11:43:02.293267Z",
     "shell.execute_reply": "2023-08-08T11:43:02.292302Z"
    },
    "id": "s0TRqoO0DJQP",
    "jupyter": {
     "outputs_hidden": false
    },
    "outputId": "5aabbf32-9324-4cf5-fff2-d21c66ccd08d",
    "papermill": {
     "duration": 0.029732,
     "end_time": "2023-08-08T11:43:02.295263",
     "exception": false,
     "start_time": "2023-08-08T11:43:02.265531",
     "status": "completed"
    },
    "tags": []
   },
   "outputs": [
    {
     "data": {
      "text/plain": [
       "112197"
      ]
     },
     "execution_count": 15,
     "metadata": {},
     "output_type": "execute_result"
    }
   ],
   "source": [
    "len(freq_dict_sorted)"
   ]
  },
  {
   "cell_type": "code",
   "execution_count": 16,
   "id": "83fb0d8b",
   "metadata": {
    "_cell_guid": "829a34a7-931e-44e1-aa50-1fc67c0c2dd2",
    "_uuid": "ae120fd2-7b7e-485e-94f2-e5a6a2e7ea8c",
    "collapsed": false,
    "execution": {
     "iopub.execute_input": "2023-08-08T11:43:02.338868Z",
     "iopub.status.busy": "2023-08-08T11:43:02.337121Z",
     "iopub.status.idle": "2023-08-08T11:43:02.344260Z",
     "shell.execute_reply": "2023-08-08T11:43:02.343298Z"
    },
    "id": "paAAkP97DFAZ",
    "jupyter": {
     "outputs_hidden": false
    },
    "outputId": "f7c2a04a-ebc8-4b71-aba7-5ff193101b49",
    "papermill": {
     "duration": 0.030738,
     "end_time": "2023-08-08T11:43:02.346259",
     "exception": false,
     "start_time": "2023-08-08T11:43:02.315521",
     "status": "completed"
    },
    "tags": []
   },
   "outputs": [
    {
     "data": {
      "text/plain": [
       "(108611, 3486, 100)"
      ]
     },
     "execution_count": 16,
     "metadata": {},
     "output_type": "execute_result"
    }
   ],
   "source": [
    "len(low_freq), len(mean_freq), len(first_100_freqs)"
   ]
  },
  {
   "cell_type": "code",
   "execution_count": 17,
   "id": "985e1628",
   "metadata": {
    "_cell_guid": "02989aa8-4453-4aff-ae9d-56c73f99b806",
    "_uuid": "b478a8e0-d93e-46e4-a94d-2f2f789cdef5",
    "collapsed": false,
    "execution": {
     "iopub.execute_input": "2023-08-08T11:43:02.388797Z",
     "iopub.status.busy": "2023-08-08T11:43:02.388166Z",
     "iopub.status.idle": "2023-08-08T11:43:03.810731Z",
     "shell.execute_reply": "2023-08-08T11:43:03.809664Z"
    },
    "id": "6bSsh5umF1hA",
    "jupyter": {
     "outputs_hidden": false
    },
    "papermill": {
     "duration": 1.446804,
     "end_time": "2023-08-08T11:43:03.813309",
     "exception": false,
     "start_time": "2023-08-08T11:43:02.366505",
     "status": "completed"
    },
    "tags": []
   },
   "outputs": [],
   "source": [
    "vectorizer_high_freq = TfidfVectorizer(vocabulary=list(dict(freq_dict_sorted[:100]).keys()))\n",
    "\n",
    "# Создаем the Bag-of-Words модель\n",
    "bag_of_words_high_freq = vectorizer_high_freq.fit_transform(x_train.values)\n",
    "\n",
    "# Отобразим Bag-of-Words модель как DataFrame\n",
    "feature_names_high_freq = vectorizer_high_freq.get_feature_names_out()\n",
    "df_high_freq_train = pd.DataFrame(bag_of_words_high_freq.toarray(), columns = feature_names_high_freq)\n",
    "bag_of_words_high_freq_test = vectorizer_high_freq.transform(x_test.values)\n",
    "df_high_freq_test = pd.DataFrame(bag_of_words_high_freq_test.toarray(), columns = feature_names_high_freq)"
   ]
  },
  {
   "cell_type": "code",
   "execution_count": 18,
   "id": "a9c9ebd7",
   "metadata": {
    "_cell_guid": "38fef1e3-bb57-4670-a1ff-34856d9791d7",
    "_uuid": "ef13d22f-3442-4dd0-866d-1575bc1f1086",
    "collapsed": false,
    "execution": {
     "iopub.execute_input": "2023-08-08T11:43:03.857504Z",
     "iopub.status.busy": "2023-08-08T11:43:03.856508Z",
     "iopub.status.idle": "2023-08-08T11:43:10.012461Z",
     "shell.execute_reply": "2023-08-08T11:43:10.011105Z"
    },
    "id": "MgUPtqTZNDiB",
    "jupyter": {
     "outputs_hidden": false
    },
    "papermill": {
     "duration": 6.180997,
     "end_time": "2023-08-08T11:43:10.016101",
     "exception": false,
     "start_time": "2023-08-08T11:43:03.835104",
     "status": "completed"
    },
    "tags": []
   },
   "outputs": [],
   "source": [
    "classifier_high_freq = LogisticRegression(solver='lbfgs', max_iter=1000)\n",
    "classifier_high_freq.fit(df_high_freq_train, y_train)\n",
    "predictions_high_freq_train = classifier_high_freq.predict(df_high_freq_train)\n",
    "predictions_high_freq_test = classifier_high_freq.predict(df_high_freq_test)"
   ]
  },
  {
   "cell_type": "code",
   "execution_count": 19,
   "id": "b414da8c",
   "metadata": {
    "_cell_guid": "df6eab59-ec5a-477c-8508-ead45dd7e22e",
    "_uuid": "db7e56ed-460b-4728-9a96-2c7b9da35b09",
    "collapsed": false,
    "execution": {
     "iopub.execute_input": "2023-08-08T11:43:10.104199Z",
     "iopub.status.busy": "2023-08-08T11:43:10.103505Z",
     "iopub.status.idle": "2023-08-08T11:43:10.468263Z",
     "shell.execute_reply": "2023-08-08T11:43:10.467223Z"
    },
    "id": "WYlUPkIsZT4D",
    "jupyter": {
     "outputs_hidden": false
    },
    "outputId": "cf864009-a8eb-4efa-9061-2844fe3fd3d0",
    "papermill": {
     "duration": 0.411705,
     "end_time": "2023-08-08T11:43:10.470916",
     "exception": false,
     "start_time": "2023-08-08T11:43:10.059211",
     "status": "completed"
    },
    "tags": []
   },
   "outputs": [
    {
     "name": "stdout",
     "output_type": "stream",
     "text": [
      "              precision    recall  f1-score   support\n",
      "\n",
      "           0       0.77      0.55      0.64    118722\n",
      "           1       0.37      0.63      0.47     51403\n",
      "\n",
      "    accuracy                           0.57    170125\n",
      "   macro avg       0.57      0.59      0.55    170125\n",
      "weighted avg       0.65      0.57      0.59    170125\n",
      "\n"
     ]
    }
   ],
   "source": [
    "print(classification_report(predictions_high_freq_train, y_train))"
   ]
  },
  {
   "cell_type": "code",
   "execution_count": 20,
   "id": "450299e3",
   "metadata": {
    "_cell_guid": "6acef5f8-6343-4e96-9f2d-f53bec69a9f9",
    "_uuid": "b108f0a3-6b76-4a1f-8df9-1a08f0499d23",
    "collapsed": false,
    "execution": {
     "iopub.execute_input": "2023-08-08T11:43:10.514819Z",
     "iopub.status.busy": "2023-08-08T11:43:10.514458Z",
     "iopub.status.idle": "2023-08-08T11:43:10.629582Z",
     "shell.execute_reply": "2023-08-08T11:43:10.628255Z"
    },
    "id": "DgpcKk15ZFTH",
    "jupyter": {
     "outputs_hidden": false
    },
    "outputId": "502776d8-3807-4298-c48d-b3b2b6313400",
    "papermill": {
     "duration": 0.140091,
     "end_time": "2023-08-08T11:43:10.632808",
     "exception": false,
     "start_time": "2023-08-08T11:43:10.492717",
     "status": "completed"
    },
    "tags": []
   },
   "outputs": [
    {
     "name": "stdout",
     "output_type": "stream",
     "text": [
      "              precision    recall  f1-score   support\n",
      "\n",
      "           0       0.77      0.54      0.64     39675\n",
      "           1       0.37      0.62      0.46     17034\n",
      "\n",
      "    accuracy                           0.57     56709\n",
      "   macro avg       0.57      0.58      0.55     56709\n",
      "weighted avg       0.65      0.57      0.59     56709\n",
      "\n"
     ]
    }
   ],
   "source": [
    "print(classification_report(predictions_high_freq_test, y_test))"
   ]
  },
  {
   "cell_type": "code",
   "execution_count": 21,
   "id": "75dadc88",
   "metadata": {
    "_cell_guid": "e35e427b-e72f-4f3a-a3d4-de2beb50d198",
    "_uuid": "f1cb5ab1-8ac8-4087-943e-2eacccc60c58",
    "collapsed": false,
    "execution": {
     "iopub.execute_input": "2023-08-08T11:43:10.676147Z",
     "iopub.status.busy": "2023-08-08T11:43:10.675811Z",
     "iopub.status.idle": "2023-08-08T11:43:12.951660Z",
     "shell.execute_reply": "2023-08-08T11:43:12.950638Z"
    },
    "id": "cxD_EOYwZWqj",
    "jupyter": {
     "outputs_hidden": false
    },
    "papermill": {
     "duration": 2.300008,
     "end_time": "2023-08-08T11:43:12.954083",
     "exception": false,
     "start_time": "2023-08-08T11:43:10.654075",
     "status": "completed"
    },
    "tags": []
   },
   "outputs": [],
   "source": [
    "vectorizer_low_freq = TfidfVectorizer(vocabulary=list(dict(freq_dict_sorted[-len(low_freq):]).keys()))\n",
    "\n",
    "# Создаем the Bag-of-Words модель\n",
    "bag_of_words_low_freq = vectorizer_low_freq.fit_transform(x_train.values)\n",
    "\n",
    "# Отобразим Bag-of-Words модель как DataFrame\n",
    "feature_names_low_freq = vectorizer_low_freq.get_feature_names_out()\n",
    "df_low_freq_train = pd.DataFrame(bag_of_words_low_freq.toarray(), columns = feature_names_low_freq)\n",
    "bag_of_words_low_freq_test = vectorizer_low_freq.transform(x_test.values)\n",
    "df_low_freq_test = pd.DataFrame(bag_of_words_low_freq_test.toarray(), columns = feature_names_low_freq)"
   ]
  },
  {
   "cell_type": "code",
   "execution_count": 22,
   "id": "283850e8",
   "metadata": {
    "_cell_guid": "ff46ad7e-7703-49bb-9011-7e744148a92e",
    "_uuid": "14887b9b-e59d-4916-915f-cf00bb558f4a",
    "collapsed": false,
    "execution": {
     "iopub.execute_input": "2023-08-08T11:43:12.997681Z",
     "iopub.status.busy": "2023-08-08T11:43:12.996754Z",
     "iopub.status.idle": "2023-08-08T11:48:36.124982Z",
     "shell.execute_reply": "2023-08-08T11:48:36.123454Z"
    },
    "id": "lyh-lsyObgL3",
    "jupyter": {
     "outputs_hidden": false
    },
    "papermill": {
     "duration": 323.15409,
     "end_time": "2023-08-08T11:48:36.129156",
     "exception": false,
     "start_time": "2023-08-08T11:43:12.975066",
     "status": "completed"
    },
    "tags": []
   },
   "outputs": [],
   "source": [
    "classifier_low_freq = LogisticRegression(solver='lbfgs', max_iter=1000)\n",
    "classifier_low_freq.fit(df_low_freq_train, y_train)\n",
    "predictions_low_freq_train = classifier_low_freq.predict(df_low_freq_train)\n",
    "predictions_low_freq_test = classifier_low_freq.predict(df_low_freq_test)"
   ]
  },
  {
   "cell_type": "code",
   "execution_count": 23,
   "id": "5fd1f3c0",
   "metadata": {
    "_cell_guid": "c34ab4ba-9dee-457b-abf5-d8db9ee6dc85",
    "_uuid": "cc48332e-e1c5-42be-9919-0d2b98987f1e",
    "collapsed": false,
    "execution": {
     "iopub.execute_input": "2023-08-08T11:48:36.274423Z",
     "iopub.status.busy": "2023-08-08T11:48:36.274038Z",
     "iopub.status.idle": "2023-08-08T11:48:36.610364Z",
     "shell.execute_reply": "2023-08-08T11:48:36.609425Z"
    },
    "id": "rsv4j_zVbqCs",
    "jupyter": {
     "outputs_hidden": false
    },
    "outputId": "5fda5b5b-1b97-4fb0-a10f-92da736184d9",
    "papermill": {
     "duration": 0.384727,
     "end_time": "2023-08-08T11:48:36.612666",
     "exception": false,
     "start_time": "2023-08-08T11:48:36.227939",
     "status": "completed"
    },
    "tags": []
   },
   "outputs": [
    {
     "name": "stdout",
     "output_type": "stream",
     "text": [
      "              precision    recall  f1-score   support\n",
      "\n",
      "           0       0.97      0.69      0.80    118585\n",
      "           1       0.57      0.95      0.71     51540\n",
      "\n",
      "    accuracy                           0.77    170125\n",
      "   macro avg       0.77      0.82      0.76    170125\n",
      "weighted avg       0.85      0.77      0.78    170125\n",
      "\n"
     ]
    }
   ],
   "source": [
    "print(classification_report(predictions_low_freq_train, y_train))"
   ]
  },
  {
   "cell_type": "code",
   "execution_count": 24,
   "id": "73d6d633",
   "metadata": {
    "_cell_guid": "ddc02b8f-1614-43c4-af09-6ca780639d96",
    "_uuid": "6395d5f5-6493-42b7-a2a7-1864466b7ea5",
    "collapsed": false,
    "execution": {
     "iopub.execute_input": "2023-08-08T11:48:36.656309Z",
     "iopub.status.busy": "2023-08-08T11:48:36.655255Z",
     "iopub.status.idle": "2023-08-08T11:48:36.765011Z",
     "shell.execute_reply": "2023-08-08T11:48:36.764075Z"
    },
    "id": "0QoE5H13btvs",
    "jupyter": {
     "outputs_hidden": false
    },
    "outputId": "e3101506-8207-4993-f5b4-5af2602d9b42",
    "papermill": {
     "duration": 0.133288,
     "end_time": "2023-08-08T11:48:36.767157",
     "exception": false,
     "start_time": "2023-08-08T11:48:36.633869",
     "status": "completed"
    },
    "tags": []
   },
   "outputs": [
    {
     "name": "stdout",
     "output_type": "stream",
     "text": [
      "              precision    recall  f1-score   support\n",
      "\n",
      "           0       0.91      0.53      0.67     47825\n",
      "           1       0.22      0.72      0.34      8884\n",
      "\n",
      "    accuracy                           0.56     56709\n",
      "   macro avg       0.57      0.62      0.51     56709\n",
      "weighted avg       0.80      0.56      0.62     56709\n",
      "\n"
     ]
    }
   ],
   "source": [
    "print(classification_report(predictions_low_freq_test, y_test))"
   ]
  },
  {
   "cell_type": "code",
   "execution_count": 25,
   "id": "ade76f1e",
   "metadata": {
    "_cell_guid": "5f2a9d3b-6a1a-4e0b-85a7-e6a37b924127",
    "_uuid": "fbc330e1-fe5a-4e51-96cc-d96d5cf982e1",
    "collapsed": false,
    "execution": {
     "iopub.execute_input": "2023-08-08T11:48:36.810988Z",
     "iopub.status.busy": "2023-08-08T11:48:36.810229Z",
     "iopub.status.idle": "2023-08-08T11:48:38.858276Z",
     "shell.execute_reply": "2023-08-08T11:48:38.857293Z"
    },
    "id": "m2nFLeMAb3B2",
    "jupyter": {
     "outputs_hidden": false
    },
    "papermill": {
     "duration": 2.072504,
     "end_time": "2023-08-08T11:48:38.860638",
     "exception": false,
     "start_time": "2023-08-08T11:48:36.788134",
     "status": "completed"
    },
    "tags": []
   },
   "outputs": [],
   "source": [
    "vectorizer_mean_freq = TfidfVectorizer(vocabulary=list(dict(freq_dict_sorted[100:-len(low_freq)]).keys()))\n",
    "\n",
    "# Создаем the Bag-of-Words модель\n",
    "bag_of_words_mean_freq = vectorizer_mean_freq.fit_transform(x_train.values)\n",
    "\n",
    "# Отобразим Bag-of-Words модель как DataFrame\n",
    "feature_names_mean_freq = vectorizer_mean_freq.get_feature_names_out()\n",
    "df_mean_freq_train = pd.DataFrame(bag_of_words_mean_freq.toarray(), columns = feature_names_mean_freq)\n",
    "bag_of_words_mean_freq_test = vectorizer_mean_freq.transform(x_test.values)\n",
    "df_mean_freq_test = pd.DataFrame(bag_of_words_mean_freq_test.toarray(), columns = feature_names_mean_freq)"
   ]
  },
  {
   "cell_type": "code",
   "execution_count": 26,
   "id": "50e859f6",
   "metadata": {
    "_cell_guid": "aeadecc9-5e77-4c10-a2c6-5590f1da3c5c",
    "_uuid": "3a47781b-06b7-48ce-8db2-448f98c72de3",
    "collapsed": false,
    "execution": {
     "iopub.execute_input": "2023-08-08T11:48:38.904067Z",
     "iopub.status.busy": "2023-08-08T11:48:38.903749Z",
     "iopub.status.idle": "2023-08-08T11:49:01.396377Z",
     "shell.execute_reply": "2023-08-08T11:49:01.394957Z"
    },
    "id": "LbXIcDZ6bzdW",
    "jupyter": {
     "outputs_hidden": false
    },
    "papermill": {
     "duration": 22.518618,
     "end_time": "2023-08-08T11:49:01.400779",
     "exception": false,
     "start_time": "2023-08-08T11:48:38.882161",
     "status": "completed"
    },
    "tags": []
   },
   "outputs": [],
   "source": [
    "classifier_mean_freq = LogisticRegression(solver='lbfgs', max_iter=1000)\n",
    "classifier_mean_freq.fit(df_mean_freq_train, y_train)\n",
    "predictions_mean_freq_train = classifier_mean_freq.predict(df_mean_freq_train)\n",
    "predictions_mean_freq_test = classifier_mean_freq.predict(df_mean_freq_test)"
   ]
  },
  {
   "cell_type": "code",
   "execution_count": 27,
   "id": "ff72464d",
   "metadata": {
    "_cell_guid": "82105a69-2449-4da8-a0d6-b3552201e3fb",
    "_uuid": "68ddf12d-2b81-4705-abac-f55de96943ad",
    "collapsed": false,
    "execution": {
     "iopub.execute_input": "2023-08-08T11:49:01.490197Z",
     "iopub.status.busy": "2023-08-08T11:49:01.489526Z",
     "iopub.status.idle": "2023-08-08T11:49:01.836921Z",
     "shell.execute_reply": "2023-08-08T11:49:01.835928Z"
    },
    "id": "IBxCtK0acsnA",
    "jupyter": {
     "outputs_hidden": false
    },
    "outputId": "aa161459-31c5-4bc5-f59a-6aa43092b051",
    "papermill": {
     "duration": 0.394465,
     "end_time": "2023-08-08T11:49:01.839195",
     "exception": false,
     "start_time": "2023-08-08T11:49:01.444730",
     "status": "completed"
    },
    "tags": []
   },
   "outputs": [
    {
     "name": "stdout",
     "output_type": "stream",
     "text": [
      "              precision    recall  f1-score   support\n",
      "\n",
      "           0       0.88      0.54      0.67    138126\n",
      "           1       0.26      0.70      0.38     31999\n",
      "\n",
      "    accuracy                           0.57    170125\n",
      "   macro avg       0.57      0.62      0.52    170125\n",
      "weighted avg       0.77      0.57      0.61    170125\n",
      "\n"
     ]
    }
   ],
   "source": [
    "print(classification_report(predictions_mean_freq_train, y_train))"
   ]
  },
  {
   "cell_type": "code",
   "execution_count": 28,
   "id": "431ce843",
   "metadata": {
    "_cell_guid": "61f4bcc2-8fb0-4706-a7c1-99e5cab7d2f1",
    "_uuid": "f8a4c18a-b50a-40f0-bcaf-2f301a1d0e12",
    "collapsed": false,
    "execution": {
     "iopub.execute_input": "2023-08-08T11:49:01.883458Z",
     "iopub.status.busy": "2023-08-08T11:49:01.882457Z",
     "iopub.status.idle": "2023-08-08T11:49:01.997994Z",
     "shell.execute_reply": "2023-08-08T11:49:01.997004Z"
    },
    "id": "gi7FFEJXcvL_",
    "jupyter": {
     "outputs_hidden": false
    },
    "outputId": "1d5f0014-8773-4ad7-953e-f52e01e4f556",
    "papermill": {
     "duration": 0.139699,
     "end_time": "2023-08-08T11:49:02.000303",
     "exception": false,
     "start_time": "2023-08-08T11:49:01.860604",
     "status": "completed"
    },
    "tags": []
   },
   "outputs": [
    {
     "name": "stdout",
     "output_type": "stream",
     "text": [
      "              precision    recall  f1-score   support\n",
      "\n",
      "           0       0.87      0.53      0.66     46052\n",
      "           1       0.24      0.66      0.36     10657\n",
      "\n",
      "    accuracy                           0.55     56709\n",
      "   macro avg       0.56      0.59      0.51     56709\n",
      "weighted avg       0.75      0.55      0.60     56709\n",
      "\n"
     ]
    }
   ],
   "source": [
    "print(classification_report(predictions_mean_freq_test, y_test))"
   ]
  },
  {
   "cell_type": "code",
   "execution_count": 29,
   "id": "57eb0459",
   "metadata": {
    "_cell_guid": "7640aae0-e582-4aa6-a289-c26275c2c6b2",
    "_uuid": "dbf9fcfb-aa2c-4438-8d69-0df70823d027",
    "collapsed": false,
    "execution": {
     "iopub.execute_input": "2023-08-08T11:49:02.045458Z",
     "iopub.status.busy": "2023-08-08T11:49:02.044605Z",
     "iopub.status.idle": "2023-08-08T11:49:02.051577Z",
     "shell.execute_reply": "2023-08-08T11:49:02.050579Z"
    },
    "id": "v65tq5GhenOx",
    "jupyter": {
     "outputs_hidden": false
    },
    "outputId": "6bd05edb-97ff-4748-b1cb-fe4f2348e7fe",
    "papermill": {
     "duration": 0.031022,
     "end_time": "2023-08-08T11:49:02.053768",
     "exception": false,
     "start_time": "2023-08-08T11:49:02.022746",
     "status": "completed"
    },
    "tags": []
   },
   "outputs": [
    {
     "data": {
      "text/plain": [
       "array([ 0.2407361 ,  0.74156555,  0.47451122,  0.0578801 , -0.11161405,\n",
       "        0.00459646,  0.72820986,  0.20102781,  0.25740353,  0.21444068])"
      ]
     },
     "execution_count": 29,
     "metadata": {},
     "output_type": "execute_result"
    }
   ],
   "source": [
    "classifier_mean_freq.coef_[0][:10]"
   ]
  },
  {
   "cell_type": "code",
   "execution_count": 30,
   "id": "5348006b",
   "metadata": {
    "_cell_guid": "e0d3c425-3cfb-4a40-82de-3469d325cfb1",
    "_uuid": "4349fd5d-7f46-4f8e-9755-58207c4cf411",
    "collapsed": false,
    "execution": {
     "iopub.execute_input": "2023-08-08T11:49:02.099770Z",
     "iopub.status.busy": "2023-08-08T11:49:02.099177Z",
     "iopub.status.idle": "2023-08-08T11:49:02.105979Z",
     "shell.execute_reply": "2023-08-08T11:49:02.104897Z"
    },
    "id": "Iw-Z9ayPcw2C",
    "jupyter": {
     "outputs_hidden": false
    },
    "outputId": "b97e344f-05e8-484d-99e2-4ff32ee9c5f6",
    "papermill": {
     "duration": 0.030541,
     "end_time": "2023-08-08T11:49:02.107974",
     "exception": false,
     "start_time": "2023-08-08T11:49:02.077433",
     "status": "completed"
    },
    "tags": []
   },
   "outputs": [
    {
     "data": {
      "text/plain": [
       "array(['styles', 'olga', 'na', 'green', 'sobchak', 'masha', 'and', 'way',\n",
       "       'lol', 'killjoy'], dtype=object)"
      ]
     },
     "execution_count": 30,
     "metadata": {},
     "output_type": "execute_result"
    }
   ],
   "source": [
    "classifier_mean_freq.feature_names_in_[0:10]"
   ]
  },
  {
   "cell_type": "code",
   "execution_count": 31,
   "id": "108e2ea4",
   "metadata": {
    "_cell_guid": "786fcee7-b488-4102-9c9f-5d43b8517120",
    "_uuid": "6aa45359-b1b7-4ed1-9ecb-987d148753fa",
    "collapsed": false,
    "execution": {
     "iopub.execute_input": "2023-08-08T11:49:02.152861Z",
     "iopub.status.busy": "2023-08-08T11:49:02.152025Z",
     "iopub.status.idle": "2023-08-08T11:49:02.161848Z",
     "shell.execute_reply": "2023-08-08T11:49:02.160971Z"
    },
    "id": "hkNsrc-akHhI",
    "jupyter": {
     "outputs_hidden": false
    },
    "papermill": {
     "duration": 0.033586,
     "end_time": "2023-08-08T11:49:02.163957",
     "exception": false,
     "start_time": "2023-08-08T11:49:02.130371",
     "status": "completed"
    },
    "tags": []
   },
   "outputs": [],
   "source": [
    "df_feature_importance = pd.DataFrame({'feature': list(classifier_mean_freq.feature_names_in_),\n",
    "                                      'weight': list(classifier_mean_freq.coef_[0]),\n",
    "                                      'abs_weight': [abs(elem) for elem in list(classifier_mean_freq.coef_[0])]})"
   ]
  },
  {
   "cell_type": "code",
   "execution_count": 32,
   "id": "10bec75e",
   "metadata": {
    "_cell_guid": "a6700ad6-7d70-4aa4-8dcc-610999e506d1",
    "_uuid": "6db39293-5508-4d5c-9233-b0b8eb886352",
    "collapsed": false,
    "execution": {
     "iopub.execute_input": "2023-08-08T11:49:02.207920Z",
     "iopub.status.busy": "2023-08-08T11:49:02.207064Z",
     "iopub.status.idle": "2023-08-08T11:49:02.214799Z",
     "shell.execute_reply": "2023-08-08T11:49:02.213936Z"
    },
    "id": "npKvX-RbkoOJ",
    "jupyter": {
     "outputs_hidden": false
    },
    "papermill": {
     "duration": 0.031625,
     "end_time": "2023-08-08T11:49:02.216792",
     "exception": false,
     "start_time": "2023-08-08T11:49:02.185167",
     "status": "completed"
    },
    "tags": []
   },
   "outputs": [],
   "source": [
    "df_feature_importance = df_feature_importance.sort_values(by='abs_weight', ascending=False)"
   ]
  },
  {
   "cell_type": "code",
   "execution_count": 33,
   "id": "100ba710",
   "metadata": {
    "_cell_guid": "7b85e978-94e9-437f-9e45-dbd61d1c464f",
    "_uuid": "1f3b99e9-2689-471d-a163-366ba39d3b61",
    "collapsed": false,
    "execution": {
     "iopub.execute_input": "2023-08-08T11:49:02.260505Z",
     "iopub.status.busy": "2023-08-08T11:49:02.260096Z",
     "iopub.status.idle": "2023-08-08T11:49:02.275994Z",
     "shell.execute_reply": "2023-08-08T11:49:02.274916Z"
    },
    "id": "opr88xT6enqO",
    "jupyter": {
     "outputs_hidden": false
    },
    "outputId": "2b352a31-dd0d-48c9-bfc3-aa841358d8e9",
    "papermill": {
     "duration": 0.040319,
     "end_time": "2023-08-08T11:49:02.278209",
     "exception": false,
     "start_time": "2023-08-08T11:49:02.237890",
     "status": "completed"
    },
    "tags": []
   },
   "outputs": [
    {
     "name": "stdout",
     "output_type": "stream",
     "text": [
      "Признаки с наибольшей значимостью\n"
     ]
    },
    {
     "data": {
      "text/html": [
       "<div>\n",
       "<style scoped>\n",
       "    .dataframe tbody tr th:only-of-type {\n",
       "        vertical-align: middle;\n",
       "    }\n",
       "\n",
       "    .dataframe tbody tr th {\n",
       "        vertical-align: top;\n",
       "    }\n",
       "\n",
       "    .dataframe thead th {\n",
       "        text-align: right;\n",
       "    }\n",
       "</style>\n",
       "<table border=\"1\" class=\"dataframe\">\n",
       "  <thead>\n",
       "    <tr style=\"text-align: right;\">\n",
       "      <th></th>\n",
       "      <th>feature</th>\n",
       "      <th>weight</th>\n",
       "      <th>abs_weight</th>\n",
       "    </tr>\n",
       "  </thead>\n",
       "  <tbody>\n",
       "    <tr>\n",
       "      <th>70</th>\n",
       "      <td>prisonero</td>\n",
       "      <td>-3.721891</td>\n",
       "      <td>3.721891</td>\n",
       "    </tr>\n",
       "    <tr>\n",
       "      <th>235</th>\n",
       "      <td>horanso</td>\n",
       "      <td>-3.101318</td>\n",
       "      <td>3.101318</td>\n",
       "    </tr>\n",
       "    <tr>\n",
       "      <th>301</th>\n",
       "      <td>ohoo</td>\n",
       "      <td>-3.029646</td>\n",
       "      <td>3.029646</td>\n",
       "    </tr>\n",
       "    <tr>\n",
       "      <th>144</th>\n",
       "      <td>ddddd</td>\n",
       "      <td>2.821061</td>\n",
       "      <td>2.821061</td>\n",
       "    </tr>\n",
       "    <tr>\n",
       "      <th>428</th>\n",
       "      <td>lponomarenko</td>\n",
       "      <td>-2.752672</td>\n",
       "      <td>2.752672</td>\n",
       "    </tr>\n",
       "    <tr>\n",
       "      <th>250</th>\n",
       "      <td>dtoropova</td>\n",
       "      <td>2.595520</td>\n",
       "      <td>2.595520</td>\n",
       "    </tr>\n",
       "    <tr>\n",
       "      <th>381</th>\n",
       "      <td>obnulyay</td>\n",
       "      <td>-2.559802</td>\n",
       "      <td>2.559802</td>\n",
       "    </tr>\n",
       "    <tr>\n",
       "      <th>935</th>\n",
       "      <td>eminofficial</td>\n",
       "      <td>2.538932</td>\n",
       "      <td>2.538932</td>\n",
       "    </tr>\n",
       "    <tr>\n",
       "      <th>105</th>\n",
       "      <td>oppa</td>\n",
       "      <td>-2.515019</td>\n",
       "      <td>2.515019</td>\n",
       "    </tr>\n",
       "    <tr>\n",
       "      <th>377</th>\n",
       "      <td>juljulianapai</td>\n",
       "      <td>2.466749</td>\n",
       "      <td>2.466749</td>\n",
       "    </tr>\n",
       "  </tbody>\n",
       "</table>\n",
       "</div>"
      ],
      "text/plain": [
       "           feature    weight  abs_weight\n",
       "70       prisonero -3.721891    3.721891\n",
       "235        horanso -3.101318    3.101318\n",
       "301           ohoo -3.029646    3.029646\n",
       "144          ddddd  2.821061    2.821061\n",
       "428   lponomarenko -2.752672    2.752672\n",
       "250      dtoropova  2.595520    2.595520\n",
       "381       obnulyay -2.559802    2.559802\n",
       "935   eminofficial  2.538932    2.538932\n",
       "105           oppa -2.515019    2.515019\n",
       "377  juljulianapai  2.466749    2.466749"
      ]
     },
     "execution_count": 33,
     "metadata": {},
     "output_type": "execute_result"
    }
   ],
   "source": [
    "print('Признаки с наибольшей значимостью')\n",
    "df_feature_importance.head(10)"
   ]
  },
  {
   "cell_type": "code",
   "execution_count": 34,
   "id": "32b47b05",
   "metadata": {
    "_cell_guid": "a3129380-271e-4d96-930e-7103aa6a69c7",
    "_uuid": "3e84cadb-6c8c-48e9-842b-cd0cb05e130a",
    "collapsed": false,
    "execution": {
     "iopub.execute_input": "2023-08-08T11:49:02.323735Z",
     "iopub.status.busy": "2023-08-08T11:49:02.323389Z",
     "iopub.status.idle": "2023-08-08T11:49:02.346454Z",
     "shell.execute_reply": "2023-08-08T11:49:02.345406Z"
    },
    "id": "R7h-GZ76GXsO",
    "jupyter": {
     "outputs_hidden": false
    },
    "outputId": "25df51a5-194a-4517-81a1-724ec3cb4ed9",
    "papermill": {
     "duration": 0.047497,
     "end_time": "2023-08-08T11:49:02.348488",
     "exception": false,
     "start_time": "2023-08-08T11:49:02.300991",
     "status": "completed"
    },
    "tags": []
   },
   "outputs": [
    {
     "data": {
      "text/plain": [
       "6569"
      ]
     },
     "execution_count": 34,
     "metadata": {},
     "output_type": "execute_result"
    }
   ],
   "source": [
    "words_with_normal_freq = [word for word, freq in freq_dict_sorted if freq > 5]\n",
    "len(words_with_normal_freq)"
   ]
  },
  {
   "cell_type": "code",
   "execution_count": 35,
   "id": "81c7faa5",
   "metadata": {
    "_cell_guid": "e5ef710f-cca4-4384-93ca-3ff544387248",
    "_uuid": "c0529318-540c-4922-8b7f-fdb86ab69e5e",
    "collapsed": false,
    "execution": {
     "iopub.execute_input": "2023-08-08T11:49:02.393228Z",
     "iopub.status.busy": "2023-08-08T11:49:02.392287Z",
     "iopub.status.idle": "2023-08-08T11:49:07.401093Z",
     "shell.execute_reply": "2023-08-08T11:49:07.400098Z"
    },
    "id": "3E81tyqxks6O",
    "jupyter": {
     "outputs_hidden": false
    },
    "papermill": {
     "duration": 5.033625,
     "end_time": "2023-08-08T11:49:07.403486",
     "exception": false,
     "start_time": "2023-08-08T11:49:02.369861",
     "status": "completed"
    },
    "tags": []
   },
   "outputs": [],
   "source": [
    "count_vectorizer = CountVectorizer(vocabulary = words_with_normal_freq)\n",
    "x_train_count = count_vectorizer.fit_transform(x_train.values)\n",
    "x_test_count = count_vectorizer.transform(x_test.values)\n",
    "classifier_count_vect = LogisticRegression(solver='lbfgs', max_iter=1000)\n",
    "classifier_count_vect.fit(x_train_count, y_train)\n",
    "predictions_train_count = classifier_count_vect.predict(x_train_count)\n",
    "predictions_test_count = classifier_count_vect.predict(x_test_count)"
   ]
  },
  {
   "cell_type": "code",
   "execution_count": 36,
   "id": "1fefd36a",
   "metadata": {
    "_cell_guid": "b89481af-3b4e-4149-aa56-251c3464d36f",
    "_uuid": "52cd724c-95d4-488d-b81c-e90dd81ba4e1",
    "collapsed": false,
    "execution": {
     "iopub.execute_input": "2023-08-08T11:49:07.449583Z",
     "iopub.status.busy": "2023-08-08T11:49:07.448003Z",
     "iopub.status.idle": "2023-08-08T11:49:07.787470Z",
     "shell.execute_reply": "2023-08-08T11:49:07.786047Z"
    },
    "id": "2rBaN45Izh7q",
    "jupyter": {
     "outputs_hidden": false
    },
    "outputId": "6511cb49-abb4-41a3-984c-fd64fc0e542c",
    "papermill": {
     "duration": 0.364018,
     "end_time": "2023-08-08T11:49:07.789722",
     "exception": false,
     "start_time": "2023-08-08T11:49:07.425704",
     "status": "completed"
    },
    "tags": []
   },
   "outputs": [
    {
     "name": "stdout",
     "output_type": "stream",
     "text": [
      "              precision    recall  f1-score   support\n",
      "\n",
      "           0       0.78      0.59      0.67    111183\n",
      "           1       0.47      0.69      0.56     58942\n",
      "\n",
      "    accuracy                           0.62    170125\n",
      "   macro avg       0.62      0.64      0.61    170125\n",
      "weighted avg       0.67      0.62      0.63    170125\n",
      "\n"
     ]
    }
   ],
   "source": [
    "print(classification_report(predictions_train_count, y_train))"
   ]
  },
  {
   "cell_type": "code",
   "execution_count": 37,
   "id": "587f1717",
   "metadata": {
    "_cell_guid": "4a17b75b-7e6a-4ea7-b91d-a9170f80bd23",
    "_uuid": "616e76a2-e0f9-4123-83a6-0e2a2526075f",
    "collapsed": false,
    "execution": {
     "iopub.execute_input": "2023-08-08T11:49:07.835566Z",
     "iopub.status.busy": "2023-08-08T11:49:07.834635Z",
     "iopub.status.idle": "2023-08-08T11:49:07.950791Z",
     "shell.execute_reply": "2023-08-08T11:49:07.949655Z"
    },
    "id": "pwa6Pu5Czf4S",
    "jupyter": {
     "outputs_hidden": false
    },
    "outputId": "8f114f0f-72b1-4440-d998-75814049191d",
    "papermill": {
     "duration": 0.141934,
     "end_time": "2023-08-08T11:49:07.953433",
     "exception": false,
     "start_time": "2023-08-08T11:49:07.811499",
     "status": "completed"
    },
    "tags": []
   },
   "outputs": [
    {
     "name": "stdout",
     "output_type": "stream",
     "text": [
      "              precision    recall  f1-score   support\n",
      "\n",
      "           0       0.76      0.57      0.65     37193\n",
      "           1       0.44      0.65      0.53     19516\n",
      "\n",
      "    accuracy                           0.60     56709\n",
      "   macro avg       0.60      0.61      0.59     56709\n",
      "weighted avg       0.65      0.60      0.61     56709\n",
      "\n"
     ]
    }
   ],
   "source": [
    "print(classification_report(predictions_test_count, y_test))"
   ]
  },
  {
   "cell_type": "code",
   "execution_count": 38,
   "id": "860ac0e2",
   "metadata": {
    "_cell_guid": "116e8e39-ccd5-415b-8e98-ab30211a9835",
    "_uuid": "23c30777-104d-4b06-b4f6-8155e4bdb17b",
    "collapsed": false,
    "execution": {
     "iopub.execute_input": "2023-08-08T11:49:07.998529Z",
     "iopub.status.busy": "2023-08-08T11:49:07.997923Z",
     "iopub.status.idle": "2023-08-08T11:49:12.545390Z",
     "shell.execute_reply": "2023-08-08T11:49:12.544394Z"
    },
    "id": "F_0mqj4Zl5Cx",
    "jupyter": {
     "outputs_hidden": false
    },
    "papermill": {
     "duration": 4.572547,
     "end_time": "2023-08-08T11:49:12.547733",
     "exception": false,
     "start_time": "2023-08-08T11:49:07.975186",
     "status": "completed"
    },
    "tags": []
   },
   "outputs": [],
   "source": [
    "tfidf_vectorizer = TfidfVectorizer(vocabulary = words_with_normal_freq)\n",
    "x_train_tfidf = tfidf_vectorizer.fit_transform(x_train.values)\n",
    "x_test_tfidf = tfidf_vectorizer.transform(x_test.values)\n",
    "classifier_tfidf_vect = LogisticRegression(solver='lbfgs', max_iter=1000)\n",
    "classifier_tfidf_vect.fit(x_train_tfidf, y_train)\n",
    "predictions_train_tfidf = classifier_tfidf_vect.predict(x_train_tfidf)\n",
    "predictions_test_tfidf = classifier_tfidf_vect.predict(x_test_tfidf)"
   ]
  },
  {
   "cell_type": "code",
   "execution_count": 39,
   "id": "4606eb45",
   "metadata": {
    "_cell_guid": "34a687eb-d19b-4bd7-8c4f-7f5b9a25dd6e",
    "_uuid": "dc258927-1e34-4e2b-849a-b1dce9363fcf",
    "collapsed": false,
    "execution": {
     "iopub.execute_input": "2023-08-08T11:49:12.594540Z",
     "iopub.status.busy": "2023-08-08T11:49:12.594201Z",
     "iopub.status.idle": "2023-08-08T11:49:12.933811Z",
     "shell.execute_reply": "2023-08-08T11:49:12.932418Z"
    },
    "id": "OnBolojZmBmY",
    "jupyter": {
     "outputs_hidden": false
    },
    "outputId": "169bc64d-ed6a-400c-b34f-f90b62e6509a",
    "papermill": {
     "duration": 0.365467,
     "end_time": "2023-08-08T11:49:12.936016",
     "exception": false,
     "start_time": "2023-08-08T11:49:12.570549",
     "status": "completed"
    },
    "tags": []
   },
   "outputs": [
    {
     "name": "stdout",
     "output_type": "stream",
     "text": [
      "              precision    recall  f1-score   support\n",
      "\n",
      "           0       0.77      0.59      0.67    109243\n",
      "           1       0.48      0.68      0.56     60882\n",
      "\n",
      "    accuracy                           0.62    170125\n",
      "   macro avg       0.63      0.64      0.62    170125\n",
      "weighted avg       0.67      0.62      0.63    170125\n",
      "\n"
     ]
    }
   ],
   "source": [
    "print(classification_report(predictions_train_tfidf, y_train))"
   ]
  },
  {
   "cell_type": "code",
   "execution_count": 40,
   "id": "c5f63b86",
   "metadata": {
    "_cell_guid": "68f58243-d9b2-4fde-87ed-f111c1963177",
    "_uuid": "1ad29cb3-3285-4ef0-a8fa-4a167eae719b",
    "collapsed": false,
    "execution": {
     "iopub.execute_input": "2023-08-08T11:49:12.981200Z",
     "iopub.status.busy": "2023-08-08T11:49:12.980880Z",
     "iopub.status.idle": "2023-08-08T11:49:13.096479Z",
     "shell.execute_reply": "2023-08-08T11:49:13.095362Z"
    },
    "id": "VJwo_bSPz0YM",
    "jupyter": {
     "outputs_hidden": false
    },
    "outputId": "c67bad2c-743f-4f70-b624-dbc29fce923f",
    "papermill": {
     "duration": 0.140578,
     "end_time": "2023-08-08T11:49:13.098786",
     "exception": false,
     "start_time": "2023-08-08T11:49:12.958208",
     "status": "completed"
    },
    "tags": []
   },
   "outputs": [
    {
     "name": "stdout",
     "output_type": "stream",
     "text": [
      "              precision    recall  f1-score   support\n",
      "\n",
      "           0       0.75      0.57      0.65     36569\n",
      "           1       0.46      0.65      0.54     20140\n",
      "\n",
      "    accuracy                           0.60     56709\n",
      "   macro avg       0.60      0.61      0.59     56709\n",
      "weighted avg       0.65      0.60      0.61     56709\n",
      "\n"
     ]
    }
   ],
   "source": [
    "print(classification_report(predictions_test_tfidf, y_test))"
   ]
  },
  {
   "cell_type": "code",
   "execution_count": 41,
   "id": "851eaa14",
   "metadata": {
    "_cell_guid": "90e61505-208c-49d5-a4c0-0e93913900f4",
    "_uuid": "d68b9bb1-49e2-41c7-a23f-1eca366b17b7",
    "collapsed": false,
    "execution": {
     "iopub.execute_input": "2023-08-08T11:49:13.145859Z",
     "iopub.status.busy": "2023-08-08T11:49:13.144909Z",
     "iopub.status.idle": "2023-08-08T11:49:13.149965Z",
     "shell.execute_reply": "2023-08-08T11:49:13.149085Z"
    },
    "id": "du3ZL61dMVpw",
    "jupyter": {
     "outputs_hidden": false
    },
    "papermill": {
     "duration": 0.030026,
     "end_time": "2023-08-08T11:49:13.151937",
     "exception": false,
     "start_time": "2023-08-08T11:49:13.121911",
     "status": "completed"
    },
    "tags": []
   },
   "outputs": [],
   "source": [
    "n_features_for_hash = [2 ** i for i in range(18)]"
   ]
  },
  {
   "cell_type": "code",
   "execution_count": 42,
   "id": "1ecb3d4c",
   "metadata": {
    "_cell_guid": "0366ae76-2d1f-4439-a819-1a5e84b4f667",
    "_uuid": "b5f25c10-4fa4-4190-9361-5b59983f9b14",
    "collapsed": false,
    "execution": {
     "iopub.execute_input": "2023-08-08T11:49:13.200452Z",
     "iopub.status.busy": "2023-08-08T11:49:13.200085Z",
     "iopub.status.idle": "2023-08-08T11:50:29.979696Z",
     "shell.execute_reply": "2023-08-08T11:50:29.978648Z"
    },
    "id": "oYz-NaD4Fh4z",
    "jupyter": {
     "outputs_hidden": false
    },
    "outputId": "db91802e-624f-4490-986f-5e26b52b6ebb",
    "papermill": {
     "duration": 76.827813,
     "end_time": "2023-08-08T11:50:30.005075",
     "exception": false,
     "start_time": "2023-08-08T11:49:13.177262",
     "status": "completed"
    },
    "tags": []
   },
   "outputs": [
    {
     "name": "stdout",
     "output_type": "stream",
     "text": [
      "n_features = 1\n",
      "              precision    recall  f1-score   support\n",
      "\n",
      "           0       0.20      0.43      0.27     12945\n",
      "           1       0.74      0.49      0.59     43764\n",
      "\n",
      "    accuracy                           0.48     56709\n",
      "   macro avg       0.47      0.46      0.43     56709\n",
      "weighted avg       0.62      0.48      0.52     56709\n",
      "\n",
      "\n",
      "n_features = 2\n",
      "              precision    recall  f1-score   support\n",
      "\n",
      "           0       0.69      0.55      0.61     35308\n",
      "           1       0.44      0.59      0.51     21401\n",
      "\n",
      "    accuracy                           0.56     56709\n",
      "   macro avg       0.57      0.57      0.56     56709\n",
      "weighted avg       0.60      0.56      0.57     56709\n",
      "\n",
      "\n",
      "n_features = 4\n",
      "              precision    recall  f1-score   support\n",
      "\n",
      "           0       0.67      0.55      0.60     34402\n",
      "           1       0.46      0.59      0.52     22307\n",
      "\n",
      "    accuracy                           0.57     56709\n",
      "   macro avg       0.57      0.57      0.56     56709\n",
      "weighted avg       0.59      0.57      0.57     56709\n",
      "\n",
      "\n",
      "n_features = 8\n",
      "              precision    recall  f1-score   support\n",
      "\n",
      "           0       0.73      0.54      0.62     38146\n",
      "           1       0.39      0.60      0.47     18563\n",
      "\n",
      "    accuracy                           0.56     56709\n",
      "   macro avg       0.56      0.57      0.55     56709\n",
      "weighted avg       0.62      0.56      0.57     56709\n",
      "\n",
      "\n",
      "n_features = 16\n",
      "              precision    recall  f1-score   support\n",
      "\n",
      "           0       0.75      0.54      0.63     39295\n",
      "           1       0.36      0.60      0.45     17414\n",
      "\n",
      "    accuracy                           0.56     56709\n",
      "   macro avg       0.56      0.57      0.54     56709\n",
      "weighted avg       0.63      0.56      0.57     56709\n",
      "\n",
      "\n",
      "n_features = 32\n",
      "              precision    recall  f1-score   support\n",
      "\n",
      "           0       0.75      0.54      0.63     38612\n",
      "           1       0.38      0.61      0.47     18097\n",
      "\n",
      "    accuracy                           0.56     56709\n",
      "   macro avg       0.56      0.57      0.55     56709\n",
      "weighted avg       0.63      0.56      0.58     56709\n",
      "\n",
      "\n",
      "n_features = 64\n",
      "              precision    recall  f1-score   support\n",
      "\n",
      "           0       0.74      0.54      0.63     38164\n",
      "           1       0.39      0.61      0.48     18545\n",
      "\n",
      "    accuracy                           0.56     56709\n",
      "   macro avg       0.57      0.57      0.55     56709\n",
      "weighted avg       0.63      0.56      0.58     56709\n",
      "\n",
      "\n",
      "n_features = 128\n",
      "              precision    recall  f1-score   support\n",
      "\n",
      "           0       0.74      0.55      0.63     37633\n",
      "           1       0.41      0.62      0.49     19076\n",
      "\n",
      "    accuracy                           0.57     56709\n",
      "   macro avg       0.57      0.58      0.56     56709\n",
      "weighted avg       0.63      0.57      0.58     56709\n",
      "\n",
      "\n",
      "n_features = 256\n",
      "              precision    recall  f1-score   support\n",
      "\n",
      "           0       0.74      0.55      0.63     37454\n",
      "           1       0.41      0.62      0.49     19255\n",
      "\n",
      "    accuracy                           0.57     56709\n",
      "   macro avg       0.57      0.58      0.56     56709\n",
      "weighted avg       0.63      0.57      0.58     56709\n",
      "\n",
      "\n",
      "n_features = 512\n",
      "              precision    recall  f1-score   support\n",
      "\n",
      "           0       0.73      0.55      0.63     36833\n",
      "           1       0.43      0.62      0.51     19876\n",
      "\n",
      "    accuracy                           0.58     56709\n",
      "   macro avg       0.58      0.59      0.57     56709\n",
      "weighted avg       0.62      0.58      0.59     56709\n",
      "\n",
      "\n",
      "n_features = 1024\n",
      "              precision    recall  f1-score   support\n",
      "\n",
      "           0       0.72      0.56      0.63     36209\n",
      "           1       0.44      0.62      0.52     20500\n",
      "\n",
      "    accuracy                           0.58     56709\n",
      "   macro avg       0.58      0.59      0.57     56709\n",
      "weighted avg       0.62      0.58      0.59     56709\n",
      "\n",
      "\n",
      "n_features = 2048\n",
      "              precision    recall  f1-score   support\n",
      "\n",
      "           0       0.72      0.56      0.63     35926\n",
      "           1       0.45      0.63      0.53     20783\n",
      "\n",
      "    accuracy                           0.59     56709\n",
      "   macro avg       0.59      0.59      0.58     56709\n",
      "weighted avg       0.62      0.59      0.59     56709\n",
      "\n",
      "\n",
      "n_features = 4096\n",
      "              precision    recall  f1-score   support\n",
      "\n",
      "           0       0.72      0.57      0.64     35542\n",
      "           1       0.47      0.63      0.54     21167\n",
      "\n",
      "    accuracy                           0.59     56709\n",
      "   macro avg       0.59      0.60      0.59     56709\n",
      "weighted avg       0.63      0.59      0.60     56709\n",
      "\n",
      "\n",
      "n_features = 8192\n",
      "              precision    recall  f1-score   support\n",
      "\n",
      "           0       0.72      0.57      0.64     35323\n",
      "           1       0.48      0.64      0.54     21386\n",
      "\n",
      "    accuracy                           0.60     56709\n",
      "   macro avg       0.60      0.61      0.59     56709\n",
      "weighted avg       0.63      0.60      0.60     56709\n",
      "\n",
      "\n",
      "n_features = 16384\n",
      "              precision    recall  f1-score   support\n",
      "\n",
      "           0       0.72      0.58      0.64     35148\n",
      "           1       0.48      0.64      0.55     21561\n",
      "\n",
      "    accuracy                           0.60     56709\n",
      "   macro avg       0.60      0.61      0.60     56709\n",
      "weighted avg       0.63      0.60      0.61     56709\n",
      "\n",
      "\n",
      "n_features = 32768\n",
      "              precision    recall  f1-score   support\n",
      "\n",
      "           0       0.73      0.58      0.65     35142\n",
      "           1       0.49      0.65      0.55     21567\n",
      "\n",
      "    accuracy                           0.60     56709\n",
      "   macro avg       0.61      0.61      0.60     56709\n",
      "weighted avg       0.64      0.60      0.61     56709\n",
      "\n",
      "\n",
      "n_features = 65536\n",
      "              precision    recall  f1-score   support\n",
      "\n",
      "           0       0.73      0.58      0.65     35260\n",
      "           1       0.49      0.65      0.56     21449\n",
      "\n",
      "    accuracy                           0.61     56709\n",
      "   macro avg       0.61      0.62      0.60     56709\n",
      "weighted avg       0.64      0.61      0.61     56709\n",
      "\n",
      "\n",
      "n_features = 131072\n",
      "              precision    recall  f1-score   support\n",
      "\n",
      "           0       0.74      0.58      0.65     35402\n",
      "           1       0.49      0.66      0.56     21307\n",
      "\n",
      "    accuracy                           0.61     56709\n",
      "   macro avg       0.61      0.62      0.61     56709\n",
      "weighted avg       0.64      0.61      0.62     56709\n",
      "\n",
      "\n"
     ]
    }
   ],
   "source": [
    "for numb in n_features_for_hash:\n",
    "    print('n_features =', numb)\n",
    "    hash_vectorizer = HashingVectorizer(n_features=numb)\n",
    "    x_train_hash = hash_vectorizer.fit_transform(x_train.values)\n",
    "    x_test_hash = hash_vectorizer.transform(x_test.values)\n",
    "    classifier_hash_vect = LogisticRegression(solver='lbfgs', max_iter=1000)\n",
    "    classifier_hash_vect.fit(x_train_hash, y_train)\n",
    "    predictions_train_hash = classifier_hash_vect.predict(x_train_hash)\n",
    "    predictions_test_hash = classifier_hash_vect.predict(x_test_hash)\n",
    "    print(classification_report(predictions_test_hash, y_test))\n",
    "    print()"
   ]
  },
  {
   "cell_type": "code",
   "execution_count": 43,
   "id": "2837eaca",
   "metadata": {
    "_cell_guid": "c899d41b-5ee0-4854-814e-0aa5abfe7bb9",
    "_uuid": "fca29e94-d1ec-4a2b-bda5-07ec162656f5",
    "collapsed": false,
    "execution": {
     "iopub.execute_input": "2023-08-08T11:50:30.053577Z",
     "iopub.status.busy": "2023-08-08T11:50:30.052678Z",
     "iopub.status.idle": "2023-08-08T11:50:30.057521Z",
     "shell.execute_reply": "2023-08-08T11:50:30.056548Z"
    },
    "id": "xvx9-QVUrRXp",
    "jupyter": {
     "outputs_hidden": false
    },
    "papermill": {
     "duration": 0.031282,
     "end_time": "2023-08-08T11:50:30.059589",
     "exception": false,
     "start_time": "2023-08-08T11:50:30.028307",
     "status": "completed"
    },
    "tags": []
   },
   "outputs": [],
   "source": [
    "from nltk.tokenize import WordPunctTokenizer"
   ]
  },
  {
   "cell_type": "code",
   "execution_count": 44,
   "id": "77ae12df",
   "metadata": {
    "_cell_guid": "0f3d0e44-6dcd-4721-babd-66ac432e6d31",
    "_uuid": "360af752-457e-4e70-83a9-ba86685e32f6",
    "collapsed": false,
    "execution": {
     "iopub.execute_input": "2023-08-08T11:50:30.107541Z",
     "iopub.status.busy": "2023-08-08T11:50:30.107176Z",
     "iopub.status.idle": "2023-08-08T11:50:30.111282Z",
     "shell.execute_reply": "2023-08-08T11:50:30.110415Z"
    },
    "id": "IQgbmGHurWxn",
    "jupyter": {
     "outputs_hidden": false
    },
    "papermill": {
     "duration": 0.030514,
     "end_time": "2023-08-08T11:50:30.113415",
     "exception": false,
     "start_time": "2023-08-08T11:50:30.082901",
     "status": "completed"
    },
    "tags": []
   },
   "outputs": [],
   "source": [
    "tokenizer = WordPunctTokenizer()"
   ]
  },
  {
   "cell_type": "code",
   "execution_count": 45,
   "id": "1a6789df",
   "metadata": {
    "_cell_guid": "faca1ce7-53f5-4476-a67e-0a40df2cad76",
    "_uuid": "e03dbad5-219e-466e-bc30-fc2d2d5f2743",
    "collapsed": false,
    "execution": {
     "iopub.execute_input": "2023-08-08T11:50:30.160964Z",
     "iopub.status.busy": "2023-08-08T11:50:30.160640Z",
     "iopub.status.idle": "2023-08-08T11:50:32.918370Z",
     "shell.execute_reply": "2023-08-08T11:50:32.917390Z"
    },
    "id": "TYyi5PyHMkNl",
    "jupyter": {
     "outputs_hidden": false
    },
    "papermill": {
     "duration": 2.784349,
     "end_time": "2023-08-08T11:50:32.920803",
     "exception": false,
     "start_time": "2023-08-08T11:50:30.136454",
     "status": "completed"
    },
    "tags": []
   },
   "outputs": [],
   "source": [
    "train_corpus = \" \".join(x_train.values)\n",
    "train_corpus = train_corpus.lower()\n",
    "tokens = word_tokenize(train_corpus)"
   ]
  },
  {
   "cell_type": "code",
   "execution_count": 46,
   "id": "5ee7d42d",
   "metadata": {
    "_cell_guid": "288c8c08-664b-407a-864d-23d3e58782ed",
    "_uuid": "782ecda8-0f1d-43ae-a2e1-06f4d1c7eea6",
    "collapsed": false,
    "execution": {
     "iopub.execute_input": "2023-08-08T11:50:32.970523Z",
     "iopub.status.busy": "2023-08-08T11:50:32.968866Z",
     "iopub.status.idle": "2023-08-08T11:50:32.974190Z",
     "shell.execute_reply": "2023-08-08T11:50:32.973321Z"
    },
    "id": "6mAsQ0IYrslA",
    "jupyter": {
     "outputs_hidden": false
    },
    "papermill": {
     "duration": 0.031636,
     "end_time": "2023-08-08T11:50:32.976340",
     "exception": false,
     "start_time": "2023-08-08T11:50:32.944704",
     "status": "completed"
    },
    "tags": []
   },
   "outputs": [],
   "source": [
    "from collections import Counter"
   ]
  },
  {
   "cell_type": "code",
   "execution_count": 47,
   "id": "373c88d8",
   "metadata": {
    "_cell_guid": "9e2bb838-c0b7-4633-870e-f111b1fb6862",
    "_uuid": "d58ff8be-a730-4ce0-8914-0fef47b41eda",
    "collapsed": false,
    "execution": {
     "iopub.execute_input": "2023-08-08T11:50:33.024598Z",
     "iopub.status.busy": "2023-08-08T11:50:33.023670Z",
     "iopub.status.idle": "2023-08-08T11:50:33.040721Z",
     "shell.execute_reply": "2023-08-08T11:50:33.039740Z"
    },
    "id": "-a7Te2TGaThN",
    "jupyter": {
     "outputs_hidden": false
    },
    "papermill": {
     "duration": 0.043577,
     "end_time": "2023-08-08T11:50:33.042974",
     "exception": false,
     "start_time": "2023-08-08T11:50:32.999397",
     "status": "completed"
    },
    "tags": []
   },
   "outputs": [],
   "source": [
    "tokens_filtered = [word for word in tokens]"
   ]
  },
  {
   "cell_type": "code",
   "execution_count": 48,
   "id": "43ce27ea",
   "metadata": {
    "_cell_guid": "ee485d8e-5f2b-4836-978a-dc5ecfa76d2f",
    "_uuid": "683ef700-0a88-4137-94b2-eb12e3c758c5",
    "collapsed": false,
    "execution": {
     "iopub.execute_input": "2023-08-08T11:50:33.091812Z",
     "iopub.status.busy": "2023-08-08T11:50:33.091165Z",
     "iopub.status.idle": "2023-08-08T11:50:33.174147Z",
     "shell.execute_reply": "2023-08-08T11:50:33.173188Z"
    },
    "id": "uMCRG30QGRd6",
    "jupyter": {
     "outputs_hidden": false
    },
    "papermill": {
     "duration": 0.109917,
     "end_time": "2023-08-08T11:50:33.176592",
     "exception": false,
     "start_time": "2023-08-08T11:50:33.066675",
     "status": "completed"
    },
    "tags": []
   },
   "outputs": [],
   "source": [
    "index_count = 0\n",
    "vocabulary_inv = {}\n",
    "vocabulary = {}\n",
    "for key in dict(Counter(tokens_filtered).most_common(3000)).keys():\n",
    "  vocabulary_inv[index_count] = key\n",
    "  vocabulary[key] = index_count\n",
    "  index_count += 1"
   ]
  },
  {
   "cell_type": "code",
   "execution_count": 49,
   "id": "bbfd4d73",
   "metadata": {
    "_cell_guid": "3b0e2f07-0e58-4b52-9df4-3afa38d6fbc9",
    "_uuid": "9fcf3187-ac1e-4a8c-abec-32e22f0c8285",
    "collapsed": false,
    "execution": {
     "iopub.execute_input": "2023-08-08T11:50:33.225076Z",
     "iopub.status.busy": "2023-08-08T11:50:33.224117Z",
     "iopub.status.idle": "2023-08-08T11:50:33.230644Z",
     "shell.execute_reply": "2023-08-08T11:50:33.229787Z"
    },
    "id": "clgj6oNpbZt4",
    "jupyter": {
     "outputs_hidden": false
    },
    "papermill": {
     "duration": 0.032662,
     "end_time": "2023-08-08T11:50:33.232662",
     "exception": false,
     "start_time": "2023-08-08T11:50:33.200000",
     "status": "completed"
    },
    "tags": []
   },
   "outputs": [],
   "source": [
    "import numpy as np\n",
    "def text_to_sequence(text, maxlen):\n",
    "    result = []\n",
    "    tokens = word_tokenize(text.lower())\n",
    "    tokens_filtered = [word for word in tokens if word.isalnum()]\n",
    "    for word in tokens_filtered:\n",
    "        if word in vocabulary:\n",
    "            result.append(vocabulary[word])\n",
    "    padding = [0]*(maxlen-len(result))\n",
    "    return padding + result[-maxlen:]"
   ]
  },
  {
   "cell_type": "code",
   "execution_count": 50,
   "id": "25533cfc",
   "metadata": {
    "_cell_guid": "aeff5738-a922-4366-af15-7c7e8b4480b8",
    "_uuid": "66c0e4b7-17fe-4bdc-97dd-f1ed65b5cdd2",
    "collapsed": false,
    "execution": {
     "iopub.execute_input": "2023-08-08T11:50:33.281043Z",
     "iopub.status.busy": "2023-08-08T11:50:33.280082Z",
     "iopub.status.idle": "2023-08-08T11:50:33.284887Z",
     "shell.execute_reply": "2023-08-08T11:50:33.284018Z"
    },
    "id": "_agzDpfIb3O7",
    "jupyter": {
     "outputs_hidden": false
    },
    "papermill": {
     "duration": 0.031089,
     "end_time": "2023-08-08T11:50:33.287040",
     "exception": false,
     "start_time": "2023-08-08T11:50:33.255951",
     "status": "completed"
    },
    "tags": []
   },
   "outputs": [],
   "source": [
    "max_len = len(vocabulary)"
   ]
  },
  {
   "cell_type": "code",
   "execution_count": 51,
   "id": "90f36455",
   "metadata": {
    "_cell_guid": "2b2bd981-ae8f-4c48-8276-9be17eedab1d",
    "_uuid": "9abbe6d0-e123-4e64-a493-06270440bd39",
    "collapsed": false,
    "execution": {
     "iopub.execute_input": "2023-08-08T11:50:33.335818Z",
     "iopub.status.busy": "2023-08-08T11:50:33.335157Z",
     "iopub.status.idle": "2023-08-08T11:51:59.119832Z",
     "shell.execute_reply": "2023-08-08T11:51:59.118827Z"
    },
    "id": "l4sa_qPqba8q",
    "jupyter": {
     "outputs_hidden": false
    },
    "papermill": {
     "duration": 85.812383,
     "end_time": "2023-08-08T11:51:59.122775",
     "exception": false,
     "start_time": "2023-08-08T11:50:33.310392",
     "status": "completed"
    },
    "tags": []
   },
   "outputs": [],
   "source": [
    "x_train_for_nn = np.array([text_to_sequence(text, max_len) for text in x_train.values], dtype=np.int32)\n",
    "x_test_for_nn = np.array([text_to_sequence(text, max_len) for text in x_test.values], dtype=np.int32)"
   ]
  },
  {
   "cell_type": "code",
   "execution_count": 52,
   "id": "4228255d",
   "metadata": {
    "_cell_guid": "7a1055bd-1550-476e-8b12-035dd31ef013",
    "_uuid": "9ec7293e-8ea7-4be4-8b99-5fb1ed9d0669",
    "collapsed": false,
    "execution": {
     "iopub.execute_input": "2023-08-08T11:51:59.172686Z",
     "iopub.status.busy": "2023-08-08T11:51:59.171657Z",
     "iopub.status.idle": "2023-08-08T11:52:02.520658Z",
     "shell.execute_reply": "2023-08-08T11:52:02.519619Z"
    },
    "id": "ZJqLU-ljb17v",
    "jupyter": {
     "outputs_hidden": false
    },
    "papermill": {
     "duration": 3.376057,
     "end_time": "2023-08-08T11:52:02.523128",
     "exception": false,
     "start_time": "2023-08-08T11:51:59.147071",
     "status": "completed"
    },
    "tags": []
   },
   "outputs": [],
   "source": [
    "import random\n",
    "import torch\n",
    "import torch.nn as nn\n",
    "\n",
    "seed = 0\n",
    "\n",
    "random.seed(seed)\n",
    "np.random.seed(seed)\n",
    "torch.manual_seed(seed)\n",
    "torch.cuda.manual_seed(seed)\n",
    "torch.backends.cudnn.deterministic = True"
   ]
  },
  {
   "cell_type": "code",
   "execution_count": 53,
   "id": "d6c4fe01",
   "metadata": {
    "_cell_guid": "9eb9a9b6-a5c0-45c4-a104-09cee6c82c51",
    "_uuid": "94af5209-2c79-4b5a-a6c1-3576f8d8e45c",
    "collapsed": false,
    "execution": {
     "iopub.execute_input": "2023-08-08T11:52:02.572462Z",
     "iopub.status.busy": "2023-08-08T11:52:02.571846Z",
     "iopub.status.idle": "2023-08-08T11:52:02.644244Z",
     "shell.execute_reply": "2023-08-08T11:52:02.643259Z"
    },
    "id": "3XohQ3b7kPgC",
    "jupyter": {
     "outputs_hidden": false
    },
    "outputId": "77f91c61-d206-4934-fad9-6715db65c423",
    "papermill": {
     "duration": 0.099432,
     "end_time": "2023-08-08T11:52:02.646324",
     "exception": false,
     "start_time": "2023-08-08T11:52:02.546892",
     "status": "completed"
    },
    "tags": []
   },
   "outputs": [
    {
     "data": {
      "text/plain": [
       "'cuda'"
      ]
     },
     "execution_count": 53,
     "metadata": {},
     "output_type": "execute_result"
    }
   ],
   "source": [
    "device = 'cuda' if torch.cuda.is_available() else 'cpu'\n",
    "device"
   ]
  },
  {
   "cell_type": "code",
   "execution_count": 54,
   "id": "0837fb7f",
   "metadata": {
    "_cell_guid": "df0d1d3e-9828-4c63-bf4c-f17ab46a7642",
    "_uuid": "71a7c2c8-96e1-4472-b88d-f8df8d29beb8",
    "collapsed": false,
    "execution": {
     "iopub.execute_input": "2023-08-08T11:52:02.695827Z",
     "iopub.status.busy": "2023-08-08T11:52:02.695150Z",
     "iopub.status.idle": "2023-08-08T11:52:02.703556Z",
     "shell.execute_reply": "2023-08-08T11:52:02.702485Z"
    },
    "id": "GLRyytjJcCFM",
    "jupyter": {
     "outputs_hidden": false
    },
    "papermill": {
     "duration": 0.035389,
     "end_time": "2023-08-08T11:52:02.705648",
     "exception": false,
     "start_time": "2023-08-08T11:52:02.670259",
     "status": "completed"
    },
    "tags": []
   },
   "outputs": [],
   "source": [
    "class Net(nn.Module):\n",
    "    def __init__(self, vocab_size=3000, embedding_dim = 256, out_channel = 128, num_classes = 1):\n",
    "        super().__init__()\n",
    "        self.embedding = nn.Embedding(vocab_size, embedding_dim)\n",
    "        self.conv = nn.Conv1d(embedding_dim, out_channel, kernel_size=3)\n",
    "        self.relu = nn.ReLU()\n",
    "        self.linear = nn.Linear(out_channel, num_classes)\n",
    "        \n",
    "    def forward(self, x):        \n",
    "        output = self.embedding(x)\n",
    "        #                       B  F  L         \n",
    "        output = output.permute(0, 2, 1)\n",
    "        output = self.conv(output)\n",
    "        output = self.relu(output)\n",
    "        output = torch.max(output, axis=2).values\n",
    "        output = self.linear(output)\n",
    "        \n",
    "        return output"
   ]
  },
  {
   "cell_type": "code",
   "execution_count": 55,
   "id": "0cc5fb04",
   "metadata": {
    "_cell_guid": "02716236-c235-463d-931a-d0e55d2d69dd",
    "_uuid": "7a4a0c3d-2e32-4719-bd69-599f8fd61457",
    "collapsed": false,
    "execution": {
     "iopub.execute_input": "2023-08-08T11:52:02.754543Z",
     "iopub.status.busy": "2023-08-08T11:52:02.754153Z",
     "iopub.status.idle": "2023-08-08T11:52:02.762352Z",
     "shell.execute_reply": "2023-08-08T11:52:02.761394Z"
    },
    "id": "om0TN4n1cG5t",
    "jupyter": {
     "outputs_hidden": false
    },
    "papermill": {
     "duration": 0.035097,
     "end_time": "2023-08-08T11:52:02.764367",
     "exception": false,
     "start_time": "2023-08-08T11:52:02.729270",
     "status": "completed"
    },
    "tags": []
   },
   "outputs": [],
   "source": [
    "from torch.utils.data import DataLoader, Dataset\n",
    "\n",
    "class DataWrapper(Dataset):\n",
    "    def __init__(self, data, target=None, transform=None):\n",
    "        self.data = torch.from_numpy(data).long()\n",
    "        if target is not None:\n",
    "            self.target = torch.from_numpy(target).long()\n",
    "        self.transform = transform\n",
    "        \n",
    "    def __getitem__(self, index):\n",
    "        x = self.data[index]\n",
    "        y = self.target[index] if self.target is not None else None\n",
    "        \n",
    "        if self.transform:\n",
    "            x = self.transform(x)\n",
    "            \n",
    "        return x, y\n",
    "    \n",
    "    def __len__(self):\n",
    "        return len(self.data)"
   ]
  },
  {
   "cell_type": "code",
   "execution_count": 56,
   "id": "a98dd492",
   "metadata": {
    "_cell_guid": "8db4f91a-ab83-42c7-bef2-75be51b1b2b0",
    "_uuid": "73a28beb-fb67-4c91-906d-6c12dd94548e",
    "collapsed": false,
    "execution": {
     "iopub.execute_input": "2023-08-08T11:52:02.813499Z",
     "iopub.status.busy": "2023-08-08T11:52:02.813106Z",
     "iopub.status.idle": "2023-08-08T11:54:58.804969Z",
     "shell.execute_reply": "2023-08-08T11:54:58.803824Z"
    },
    "id": "WVg5B8bbcS4K",
    "jupyter": {
     "outputs_hidden": false
    },
    "outputId": "4823fbac-a7ba-4b8f-ee21-5c5048e3fd99",
    "papermill": {
     "duration": 176.019712,
     "end_time": "2023-08-08T11:54:58.807506",
     "exception": false,
     "start_time": "2023-08-08T11:52:02.787794",
     "status": "completed"
    },
    "tags": []
   },
   "outputs": [
    {
     "name": "stdout",
     "output_type": "stream",
     "text": [
      "Net(\n",
      "  (embedding): Embedding(3000, 256)\n",
      "  (conv): Conv1d(256, 128, kernel_size=(3,), stride=(1,))\n",
      "  (relu): ReLU()\n",
      "  (linear): Linear(in_features=128, out_features=1, bias=True)\n",
      ")\n",
      "Parameters: 866561\n",
      "Train epoch 1/2\n",
      "Step 0: loss=0.7256662845611572\n",
      "Step 400: loss=0.5930626392364502\n",
      "Step 800: loss=0.6035126447677612\n",
      "Step 1200: loss=0.7043361663818359\n",
      "Train epoch 2/2\n",
      "Step 0: loss=0.5459377765655518\n",
      "Step 400: loss=0.6473375558853149\n",
      "Step 800: loss=0.6147239208221436\n",
      "Step 1200: loss=0.6553319692611694\n"
     ]
    }
   ],
   "source": [
    "batch_size = 128\n",
    "max_words = 50\n",
    "epochs = 2\n",
    "\n",
    "model = Net(vocab_size=len(vocabulary)).to(device)\n",
    "\n",
    "print(model)\n",
    "print(\"Parameters:\", sum([param.nelement() for param in model.parameters()]))\n",
    "\n",
    "model.train()\n",
    "#model = model.cuda()\n",
    "\n",
    "optimizer = torch.optim.Adam(model.parameters(), lr=10e-3)\n",
    "criterion = nn.BCEWithLogitsLoss()\n",
    "    \n",
    "train_dataset = DataWrapper(x_train_for_nn, np.array(y_train))\n",
    "train_loader = DataLoader(train_dataset, batch_size=batch_size, shuffle=True)\n",
    "\n",
    "loss_history = []\n",
    "\n",
    "for epoch in range(1, epochs + 1):\n",
    "    print(f\"Train epoch {epoch}/{epochs}\")\n",
    "    for i, (data, target) in enumerate(train_loader):\n",
    "        data = data.to(device)\n",
    "        target = target.to(device)\n",
    "        optimizer.zero_grad()\n",
    "        \n",
    "        # data = data.cuda()\n",
    "        # target = target.cuda()\n",
    "        \n",
    "        # compute output\n",
    "        output = model(data)\n",
    "        \n",
    "        # compute gradient and do SGD step\n",
    "        loss = criterion(output, target.float().view(-1, 1))\n",
    "        loss.backward()\n",
    "        \n",
    "        optimizer.step()\n",
    "        \n",
    "        if i%400 == 0:\n",
    "            loss = loss.float().item()\n",
    "            print(\"Step {}: loss={}\".format(i, loss))\n",
    "            loss_history.append(loss)"
   ]
  },
  {
   "cell_type": "code",
   "execution_count": 57,
   "id": "4dfcd4a7",
   "metadata": {
    "_cell_guid": "38305418-efd6-4626-9220-160759cbcc5e",
    "_uuid": "bf31ec49-11d8-4142-819a-f720d7e8e0b1",
    "collapsed": false,
    "execution": {
     "iopub.execute_input": "2023-08-08T11:54:58.865918Z",
     "iopub.status.busy": "2023-08-08T11:54:58.864854Z",
     "iopub.status.idle": "2023-08-08T11:55:00.044822Z",
     "shell.execute_reply": "2023-08-08T11:55:00.043500Z"
    },
    "id": "xCas2cV5cVg4",
    "jupyter": {
     "outputs_hidden": false
    },
    "papermill": {
     "duration": 1.213096,
     "end_time": "2023-08-08T11:55:00.048100",
     "exception": false,
     "start_time": "2023-08-08T11:54:58.835004",
     "status": "completed"
    },
    "tags": []
   },
   "outputs": [],
   "source": [
    "test_dataset = DataWrapper(x_test_for_nn, np.array(y_test))\n",
    "test_loader = DataLoader(test_dataset, batch_size=batch_size, shuffle=True)"
   ]
  },
  {
   "cell_type": "code",
   "execution_count": 58,
   "id": "411a8e52",
   "metadata": {
    "_cell_guid": "f2636456-57c9-4d81-a596-ae9b54a3e925",
    "_uuid": "76c8bef5-c6f1-4c6c-bb98-dfd645731524",
    "collapsed": false,
    "execution": {
     "iopub.execute_input": "2023-08-08T11:55:00.121435Z",
     "iopub.status.busy": "2023-08-08T11:55:00.120867Z",
     "iopub.status.idle": "2023-08-08T11:55:00.171186Z",
     "shell.execute_reply": "2023-08-08T11:55:00.170124Z"
    },
    "id": "hC03JbMFjSj8",
    "jupyter": {
     "outputs_hidden": false
    },
    "outputId": "de8b35e7-0437-4c22-fbd3-ebde9f5f7f9c",
    "papermill": {
     "duration": 0.089857,
     "end_time": "2023-08-08T11:55:00.174277",
     "exception": false,
     "start_time": "2023-08-08T11:55:00.084420",
     "status": "completed"
    },
    "tags": []
   },
   "outputs": [
    {
     "name": "stdout",
     "output_type": "stream",
     "text": [
      "              precision    recall  f1-score   support\n",
      "\n",
      "           0       1.00      0.57      0.73       128\n",
      "           1       0.00      0.00      0.00         0\n",
      "\n",
      "    accuracy                           0.57       128\n",
      "   macro avg       0.50      0.29      0.36       128\n",
      "weighted avg       1.00      0.57      0.73       128\n",
      "\n"
     ]
    }
   ],
   "source": [
    "model.eval()\n",
    "list_accuracy = []\n",
    "for data in test_loader:\n",
    "  test_outputs = model(data[0].to(device))\n",
    "  label = data[1].to(device)\n",
    "  predict = torch.max(test_outputs, 1)[1]\n",
    "  break\n",
    "print(classification_report(predict.cpu(), label.cpu()))"
   ]
  },
  {
   "cell_type": "code",
   "execution_count": 59,
   "id": "c12706a4",
   "metadata": {
    "_cell_guid": "2e3a2068-6f42-4325-909f-2033537c5857",
    "_uuid": "9323551c-852f-4218-8e7a-1bb4128797f9",
    "collapsed": false,
    "execution": {
     "iopub.execute_input": "2023-08-08T11:55:00.256945Z",
     "iopub.status.busy": "2023-08-08T11:55:00.256536Z",
     "iopub.status.idle": "2023-08-08T11:55:10.025250Z",
     "shell.execute_reply": "2023-08-08T11:55:10.024310Z"
    },
    "id": "K_-xh9zFmqXe",
    "jupyter": {
     "outputs_hidden": false
    },
    "outputId": "eb398ab5-efeb-4bcd-e1dc-e8166494df05",
    "papermill": {
     "duration": 9.815274,
     "end_time": "2023-08-08T11:55:10.027408",
     "exception": false,
     "start_time": "2023-08-08T11:55:00.212134",
     "status": "completed"
    },
    "tags": []
   },
   "outputs": [
    {
     "data": {
      "text/plain": [
       "0.49277872"
      ]
     },
     "execution_count": 59,
     "metadata": {},
     "output_type": "execute_result"
    }
   ],
   "source": [
    "list_accuracy = []\n",
    "for data in test_loader:\n",
    "  test_outputs = model(data[0].to(device))\n",
    "  label = data[1].to(device)\n",
    "  predict = torch.max(test_outputs, 1)[1]\n",
    "  list_accuracy.append((predict == label).sum()/predict.shape[0])\n",
    "np.mean([elem.cpu() for elem in list_accuracy])"
   ]
  }
 ],
 "metadata": {
  "kernelspec": {
   "display_name": "Python 3",
   "language": "python",
   "name": "python3"
  },
  "language_info": {
   "codemirror_mode": {
    "name": "ipython",
    "version": 3
   },
   "file_extension": ".py",
   "mimetype": "text/x-python",
   "name": "python",
   "nbconvert_exporter": "python",
   "pygments_lexer": "ipython3",
   "version": "3.10.12"
  },
  "papermill": {
   "default_parameters": {},
   "duration": 774.873129,
   "end_time": "2023-08-08T11:55:12.772607",
   "environment_variables": {},
   "exception": null,
   "input_path": "__notebook__.ipynb",
   "output_path": "__notebook__.ipynb",
   "parameters": {},
   "start_time": "2023-08-08T11:42:17.899478",
   "version": "2.4.0"
  }
 },
 "nbformat": 4,
 "nbformat_minor": 5
}
