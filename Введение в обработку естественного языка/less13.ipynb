{
 "cells": [
  {
   "cell_type": "markdown",
   "id": "85587b69-94a4-4048-95d1-2f2315525588",
   "metadata": {
    "id": "1nOOTr4WgozT"
   },
   "source": [
    "# Урок 13. Модель BERT и GPT\n",
    "\n",
    "1. Взять датасет https://huggingface.co/datasets/merionum/ru_paraphraser решить задачу парафраза\n",
    "2. (дополнительно необязательная задача) на выбор взять https://huggingface.co/datasets/sberquad https://huggingface.co/datasets/blinoff/medical_qa_ru_data натренировать любую модель для вопросно ответной системы как альтернатива можно взять любой NER датасет из https://github.com/natasha/corus#reference и обучить NER"
   ]
  },
  {
   "cell_type": "code",
   "execution_count": 1,
   "id": "88d546fd-2564-4a92-8d61-5fa616daf449",
   "metadata": {
    "id": "C9EH4jfYhf3N"
   },
   "outputs": [],
   "source": [
    "# !pip install transformers sentencepiece datasets"
   ]
  },
  {
   "cell_type": "code",
   "execution_count": 2,
   "id": "dd621926-9757-49e2-a149-111d904ce868",
   "metadata": {
    "colab": {
     "base_uri": "https://localhost:8080/",
     "height": 104,
     "referenced_widgets": [
      "37729b24723348dea4f188a4338b8b10",
      "b6a294e7d0d8418fbf610ac8adb767cd",
      "8d2a45b5119c4d01a68af85aeda31ed9",
      "7bb662fcbbe04e7596355ace0efa4eef",
      "d3df7a537f6d4449aa42370eef7b8b55",
      "d4bcd90b81e14a4ca34b0f2a2069adfc",
      "f090249719c548c5aaa3a92e27a2c552",
      "b5a20f9b2627438da3da243cb8947611",
      "aa7686f7020c4834a7e031b9ca189e48",
      "558fec6ef51c4345a8c4ee7cbb9a08b5",
      "3b3256f870ab480caeaf5c8391b50d3f"
     ]
    },
    "id": "Ga8Ohb1_hgFQ",
    "outputId": "3ea89961-f39e-4403-8f03-fc383f99305e"
   },
   "outputs": [
    {
     "data": {
      "text/plain": [
       "DatasetDict({\n",
       "    train: Dataset({\n",
       "        features: ['id', 'id_1', 'id_2', 'text_1', 'text_2', 'class'],\n",
       "        num_rows: 1924\n",
       "    })\n",
       "})"
      ]
     },
     "execution_count": 2,
     "metadata": {},
     "output_type": "execute_result"
    }
   ],
   "source": [
    "import pandas as pd\n",
    "import torch\n",
    "from datasets import load_dataset\n",
    "from transformers import AutoModelForSequenceClassification, BertTokenizer\n",
    "pd.set_option('display.max_colwidth', None)\n",
    "\n",
    "corpus = load_dataset('merionum/ru_paraphraser', data_files='test.jsonl')\n",
    "corpus"
   ]
  },
  {
   "cell_type": "code",
   "execution_count": 3,
   "id": "b4b383ea-02ab-4898-b85a-1956f757eaad",
   "metadata": {
    "colab": {
     "base_uri": "https://localhost:8080/"
    },
    "id": "Q61G3of_h0HF",
    "outputId": "1e095b46-3b23-4afa-af03-ee7f4c671244"
   },
   "outputs": [
    {
     "data": {
      "text/plain": [
       "{'id': ['25349', '25382'],\n",
       " 'id_1': ['34420', '34475'],\n",
       " 'id_2': ['34421', '34476'],\n",
       " 'text_1': ['Цены на нефть восстанавливаются',\n",
       "  'Агент: РФС вновь задерживает зарплату Фабио Капелло'],\n",
       " 'text_2': ['Парламент Словакии поблагодарил народы бывшего СССР за Победу',\n",
       "  'СМИ: Агент Фабио Капелло грозится подать в суд на РФС'],\n",
       " 'class': ['-1', '-1']}"
      ]
     },
     "execution_count": 3,
     "metadata": {},
     "output_type": "execute_result"
    }
   ],
   "source": [
    "corpus['train'][0,2]"
   ]
  },
  {
   "cell_type": "code",
   "execution_count": 4,
   "id": "0bf0f382-0266-4e9a-b680-d6dfbea692a8",
   "metadata": {
    "id": "tEaHJ6UEilrd"
   },
   "outputs": [],
   "source": [
    "# предобученная модель 'cointegrated/rubert-base-cased-dp-paraphrase-detection'\n",
    "model_name = 'cointegrated/rubert-base-cased-dp-paraphrase-detection'\n",
    "model = AutoModelForSequenceClassification.from_pretrained(model_name)\n",
    "tokenizer = BertTokenizer.from_pretrained(model_name)\n",
    "# if torch.cuda.is_available():\n",
    "#     model.cuda()"
   ]
  },
  {
   "cell_type": "code",
   "execution_count": 5,
   "id": "98d5dbbf-dfc8-4041-bcfb-a4b2a5778b5c",
   "metadata": {
    "id": "udu2QJeGqAId"
   },
   "outputs": [],
   "source": [
    "def paraphrase_check(rows, corpus, model, tokenizer):\n",
    "    res = []\n",
    "    for row_numb in rows:\n",
    "        text1 = corpus['train']['text_1'][row_numb]\n",
    "        text2 = corpus['train']['text_2'][row_numb]\n",
    "        \n",
    "        batch = tokenizer(text1, text2, return_tensors='pt') # .to(model.device)\n",
    "        with torch.inference_mode():\n",
    "            proba = torch.softmax(model(**batch).logits, -1).numpy()\n",
    "        \n",
    "        p = proba[0]\n",
    "        paraphrase = \"парафраз\" if p[1] > 0.5 else \"другой текст\"\n",
    "        res.append({'Исходный текст': text1, \n",
    "                    'Текст сравнения': text2, \n",
    "                    # 'Вероятность НЕ парафраза': p[0], \n",
    "                    'Вероятность парафраза': p[1], \n",
    "                    'Решение': paraphrase})\n",
    "    return pd.DataFrame(res)"
   ]
  },
  {
   "cell_type": "code",
   "execution_count": 6,
   "id": "679bc7cb-48e2-4e6f-b19f-3bbc7a9833fa",
   "metadata": {
    "colab": {
     "base_uri": "https://localhost:8080/",
     "height": 269
    },
    "id": "qa8QFhx0qALc",
    "outputId": "1f7b8c7f-9a8e-4383-f4ab-88b0f8a0f4b0"
   },
   "outputs": [
    {
     "data": {
      "text/html": [
       "<div>\n",
       "<style scoped>\n",
       "    .dataframe tbody tr th:only-of-type {\n",
       "        vertical-align: middle;\n",
       "    }\n",
       "\n",
       "    .dataframe tbody tr th {\n",
       "        vertical-align: top;\n",
       "    }\n",
       "\n",
       "    .dataframe thead th {\n",
       "        text-align: right;\n",
       "    }\n",
       "</style>\n",
       "<table border=\"1\" class=\"dataframe\">\n",
       "  <thead>\n",
       "    <tr style=\"text-align: right;\">\n",
       "      <th></th>\n",
       "      <th>Исходный текст</th>\n",
       "      <th>Текст сравнения</th>\n",
       "      <th>Вероятность парафраза</th>\n",
       "      <th>Решение</th>\n",
       "    </tr>\n",
       "  </thead>\n",
       "  <tbody>\n",
       "    <tr>\n",
       "      <th>0</th>\n",
       "      <td>Цены на нефть восстанавливаются</td>\n",
       "      <td>Парламент Словакии поблагодарил народы бывшего СССР за Победу</td>\n",
       "      <td>0.054301</td>\n",
       "      <td>другой текст</td>\n",
       "    </tr>\n",
       "    <tr>\n",
       "      <th>1</th>\n",
       "      <td>МЧС РФ: тела погибших российских дипломатов доставят из Непала 11 мая</td>\n",
       "      <td>Тела погибших в Непале российских дипломатов доставят на родину 11 мая</td>\n",
       "      <td>0.984235</td>\n",
       "      <td>парафраз</td>\n",
       "    </tr>\n",
       "    <tr>\n",
       "      <th>2</th>\n",
       "      <td>Агент: РФС вновь задерживает зарплату Фабио Капелло</td>\n",
       "      <td>СМИ: Агент Фабио Капелло грозится подать в суд на РФС</td>\n",
       "      <td>0.120681</td>\n",
       "      <td>другой текст</td>\n",
       "    </tr>\n",
       "    <tr>\n",
       "      <th>3</th>\n",
       "      <td>День Победы в Москве обещает выдаться облачным</td>\n",
       "      <td>Любляна отпразднует День Победы вместе с Москвой</td>\n",
       "      <td>0.053447</td>\n",
       "      <td>другой текст</td>\n",
       "    </tr>\n",
       "    <tr>\n",
       "      <th>4</th>\n",
       "      <td>Посол РФ в США: Россия будет бороться с попытками переписать историю</td>\n",
       "      <td>Правительство запланировало заработать на лотереях 400 млрд руб.</td>\n",
       "      <td>0.053032</td>\n",
       "      <td>другой текст</td>\n",
       "    </tr>\n",
       "    <tr>\n",
       "      <th>5</th>\n",
       "      <td>Вертолет с 11 иностранцами на борту упал в Пакистане</td>\n",
       "      <td>В Пакистане упал вертолет с 11 иностранцами</td>\n",
       "      <td>0.982860</td>\n",
       "      <td>парафраз</td>\n",
       "    </tr>\n",
       "  </tbody>\n",
       "</table>\n",
       "</div>"
      ],
      "text/plain": [
       "                                                          Исходный текст  \\\n",
       "0                                        Цены на нефть восстанавливаются   \n",
       "1  МЧС РФ: тела погибших российских дипломатов доставят из Непала 11 мая   \n",
       "2                    Агент: РФС вновь задерживает зарплату Фабио Капелло   \n",
       "3                         День Победы в Москве обещает выдаться облачным   \n",
       "4   Посол РФ в США: Россия будет бороться с попытками переписать историю   \n",
       "5                   Вертолет с 11 иностранцами на борту упал в Пакистане   \n",
       "\n",
       "                                                          Текст сравнения  \\\n",
       "0           Парламент Словакии поблагодарил народы бывшего СССР за Победу   \n",
       "1  Тела погибших в Непале российских дипломатов доставят на родину 11 мая   \n",
       "2                   СМИ: Агент Фабио Капелло грозится подать в суд на РФС   \n",
       "3                        Любляна отпразднует День Победы вместе с Москвой   \n",
       "4        Правительство запланировало заработать на лотереях 400 млрд руб.   \n",
       "5                             В Пакистане упал вертолет с 11 иностранцами   \n",
       "\n",
       "   Вероятность парафраза       Решение  \n",
       "0               0.054301  другой текст  \n",
       "1               0.984235      парафраз  \n",
       "2               0.120681  другой текст  \n",
       "3               0.053447  другой текст  \n",
       "4               0.053032  другой текст  \n",
       "5               0.982860      парафраз  "
      ]
     },
     "execution_count": 6,
     "metadata": {},
     "output_type": "execute_result"
    }
   ],
   "source": [
    "paraphrase_check(rows=[0, 11, 2, 3, 4, 5], \n",
    "                 corpus=corpus, \n",
    "                 model=model,\n",
    "                 tokenizer=tokenizer)"
   ]
  }
 ],
 "metadata": {
  "kernelspec": {
   "display_name": "Python 3 (ipykernel)",
   "language": "python",
   "name": "python3"
  },
  "language_info": {
   "codemirror_mode": {
    "name": "ipython",
    "version": 3
   },
   "file_extension": ".py",
   "mimetype": "text/x-python",
   "name": "python",
   "nbconvert_exporter": "python",
   "pygments_lexer": "ipython3",
   "version": "3.10.12"
  }
 },
 "nbformat": 4,
 "nbformat_minor": 5
}
